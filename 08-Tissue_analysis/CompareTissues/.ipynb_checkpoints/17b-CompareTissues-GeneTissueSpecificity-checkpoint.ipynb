{
 "cells": [
  {
   "cell_type": "markdown",
   "metadata": {},
   "source": [
    "# Compare Tissues"
   ]
  },
  {
   "cell_type": "code",
   "execution_count": null,
   "metadata": {},
   "outputs": [],
   "source": [
    "results_paths = c(\n",
    "    adrenal = \"/home/nbarkas/disk2/ebov_bulk_rna_seq/proc_20210329/08-simple-de-by-tissue/01-Adrenal/output/adrenal__infected_vs_uninfected.de.csv\",\n",
    "    spleen = \"/home/nbarkas/disk2/ebov_bulk_rna_seq/proc_20210329/08-simple-de-by-tissue/02-Spleen/output/spleen.de.csv\",\n",
    "    lymph_node_ax_r = \"/home/nbarkas/disk2/ebov_bulk_rna_seq/proc_20210329/08-simple-de-by-tissue/03-LymphNode_AX_R/output/LN_AX_R.de.csv\",\n",
    "    lymph_node_ing_l = \"/home/nbarkas/disk2/ebov_bulk_rna_seq/proc_20210329/08-simple-de-by-tissue/04-LymphNode_ING_L/output/LN_ING_L.de.csv\",\n",
    "    lymph_node_mes = \"/home/nbarkas/disk2/ebov_bulk_rna_seq/proc_20210329/08-simple-de-by-tissue/05-LymphNode_MES/output/LN_MES.de.csv\",\n",
    "    kidney = \"/home/nbarkas/disk2/ebov_bulk_rna_seq/proc_20210329/08-simple-de-by-tissue/06-Kidney/output/Kidney.de.csv\",\n",
    "    liver = \"/home/nbarkas/disk2/ebov_bulk_rna_seq/proc_20210329/08-simple-de-by-tissue/07-Liver/output/Liver.de.csv\",\n",
    "    brain_gray = \"/home/nbarkas/disk2/ebov_bulk_rna_seq/proc_20210329/08-simple-de-by-tissue/08-Brain_Brain-Gr/output/BrainGray.de.csv\",\n",
    "    sex_organ_ovary = \"/home/nbarkas/disk2/ebov_bulk_rna_seq/proc_20210329/08-simple-de-by-tissue/10-SexOrgan_Ovary/output/SexOrgan_Ovary.de.csv\",\n",
    "    sex_organ_sex_organ = \"/home/nbarkas/disk2/ebov_bulk_rna_seq/proc_20210329/08-simple-de-by-tissue/12-SexOrgan_SexOrgan/output/SexOrgan_SexOrgan.de.csv\",\n",
    "    skin_rash = \"/home/nbarkas/disk2/ebov_bulk_rna_seq/proc_20210329/08-simple-de-by-tissue/13-Skin_Rash/output/Skin_Rash.de.csv\",\n",
    "    lung = \"/home/nbarkas/disk2/ebov_bulk_rna_seq/proc_20210329/08-simple-de-by-tissue/14-Lung/output/Lung.de.csv\",\n",
    "    skin_non_rash = \"/home/nbarkas/disk2/ebov_bulk_rna_seq/proc_20210329/08-simple-de-by-tissue/15-Skin_NonRash/output/Skin_NonRash.de.csv\",\n",
    "    brain_white = \"/home/nbarkas/disk2/ebov_bulk_rna_seq/proc_20210329/08-simple-de-by-tissue/16-Brain_Brain-Wh/output/Brain_White.de.csv\"\n",
    ")"
   ]
  },
  {
   "cell_type": "code",
   "execution_count": null,
   "metadata": {},
   "outputs": [],
   "source": [
    "results.all.tissues <- lapply(results_paths, read.csv)"
   ]
  },
  {
   "cell_type": "code",
   "execution_count": null,
   "metadata": {},
   "outputs": [],
   "source": [
    "source('../../prj_helpers.R')"
   ]
  },
  {
   "cell_type": "code",
   "execution_count": null,
   "metadata": {},
   "outputs": [],
   "source": [
    "de.genes.all.tissues <- lapply(results.all.tissues, function(x) {\n",
    "    xp <- x[NA2FALSE(x$padj < 0.05),]\n",
    "    unique(xp$Geneid)\n",
    "})"
   ]
  },
  {
   "cell_type": "code",
   "execution_count": null,
   "metadata": {},
   "outputs": [],
   "source": [
    "n.de.per.tissue <- unlist(lapply(de.genes.all.tissues, length))\n",
    "n.de.df.plot <- data.frame(\n",
    "    tissue = names(n.de.per.tissue),\n",
    "    n.genes = n.de.per.tissue\n",
    ")"
   ]
  },
  {
   "cell_type": "code",
   "execution_count": null,
   "metadata": {},
   "outputs": [],
   "source": [
    "library(ggplot2)\n",
    "library(forcats)\n",
    "library(tidyverse)"
   ]
  },
  {
   "cell_type": "code",
   "execution_count": null,
   "metadata": {},
   "outputs": [],
   "source": [
    "options(repr.plot.width=6, repr.plot.height=6)\n",
    "ggplot(n.de.df.plot, aes(x=fct_reorder(tissue, desc(n.genes)),y=n.genes)) +\n",
    "    geom_bar(stat='identity') + \n",
    "    theme_bw() + \n",
    "    theme(axis.text.x = element_text(angle = 90, vjust = 0.5, hjust=1)) + \n",
    "    scale_x_discrete(\"Number of differentially expressed genes\")"
   ]
  },
  {
   "cell_type": "code",
   "execution_count": null,
   "metadata": {},
   "outputs": [],
   "source": [
    "ggsave('output/n_de_genes.png',w=10,h=10)"
   ]
  },
  {
   "cell_type": "code",
   "execution_count": null,
   "metadata": {},
   "outputs": [],
   "source": [
    "tissues.expressed.cutoff <- 4\n",
    "recurrent.genes <- names(which(sort(table(unlist(de.genes.all.tissues)),decreasing = T) > tissues.expressed.cutoff))"
   ]
  },
  {
   "cell_type": "code",
   "execution_count": null,
   "metadata": {},
   "outputs": [],
   "source": [
    "recurrent.genes <- recurrent.genes[recurrent.genes != '']"
   ]
  },
  {
   "cell_type": "code",
   "execution_count": null,
   "metadata": {},
   "outputs": [],
   "source": [
    "tmp1 <- lapply(results.all.tissues, function(x) {\n",
    "    rownames(x) <- x$Geneid\n",
    "    x[recurrent.genes,]$log2FoldChange\n",
    "})\n",
    "tmp2 <- do.call(cbind, tmp1)\n",
    "rownames(tmp2) <- recurrent.genes"
   ]
  },
  {
   "cell_type": "code",
   "execution_count": null,
   "metadata": {},
   "outputs": [],
   "source": [
    "# Create a gene map\n",
    "gene_map <- results.all.tissues[[1]][,c('Geneid','external_gene_name')]\n",
    "head(gene_map)"
   ]
  },
  {
   "cell_type": "code",
   "execution_count": null,
   "metadata": {},
   "outputs": [],
   "source": [
    "# Convert ens ids to gene names, if they can be converted. Keep as is otherwise\n",
    "new.names <- sapply(rownames(tmp2), function(x) { \n",
    "    new.name <- gene_map[match(x, gene_map$Geneid),'external_gene_name']\n",
    "    ifelse(new.name != '', new.name, x)\n",
    "})\n",
    "rownames(tmp2) <- new.names"
   ]
  },
  {
   "cell_type": "markdown",
   "metadata": {},
   "source": [
    "### Heatmap of recurrent genes"
   ]
  },
  {
   "cell_type": "code",
   "execution_count": null,
   "metadata": {},
   "outputs": [],
   "source": [
    "library(pheatmap)\n",
    "library(viridis)"
   ]
  },
  {
   "cell_type": "code",
   "execution_count": null,
   "metadata": {},
   "outputs": [],
   "source": [
    "pheatmap(tmp2,show_rownames = TRUE, color=inferno(10), fontsize_row=6, filename='output/recurrent_genes.png')"
   ]
  },
  {
   "cell_type": "code",
   "execution_count": null,
   "metadata": {},
   "outputs": [],
   "source": [
    "options(repr.plot.width=6, repr.plot.height=15)\n",
    "pheatmap(tmp2,show_rownames = TRUE, color=inferno(10), fontsize_row=6)"
   ]
  },
  {
   "cell_type": "markdown",
   "metadata": {},
   "source": [
    "# PCA of fold changes"
   ]
  },
  {
   "cell_type": "code",
   "execution_count": null,
   "metadata": {},
   "outputs": [],
   "source": [
    "str(results.all.tissues,1)"
   ]
  },
  {
   "cell_type": "code",
   "execution_count": null,
   "metadata": {},
   "outputs": [],
   "source": [
    "head(results.all.tissues$adrenal,n=5)"
   ]
  },
  {
   "cell_type": "code",
   "execution_count": null,
   "metadata": {},
   "outputs": [],
   "source": [
    "z <- lapply(results.all.tissues, function(x) {x$X})"
   ]
  },
  {
   "cell_type": "code",
   "execution_count": null,
   "metadata": {},
   "outputs": [],
   "source": [
    "all(z[[1]] == z[[2]])"
   ]
  },
  {
   "cell_type": "code",
   "execution_count": null,
   "metadata": {},
   "outputs": [],
   "source": [
    "head(z[[1]])"
   ]
  },
  {
   "cell_type": "code",
   "execution_count": null,
   "metadata": {},
   "outputs": [],
   "source": [
    "results.all.tissues.o_gene <- lapply(results.all.tissues, function(x) {x[order(x$X),]})"
   ]
  },
  {
   "cell_type": "code",
   "execution_count": null,
   "metadata": {},
   "outputs": [],
   "source": [
    "all(results.all.tissues.o_gene[[1]]$X == results.all.tissues.o_gene[[2]]$X)"
   ]
  },
  {
   "cell_type": "code",
   "execution_count": null,
   "metadata": {},
   "outputs": [],
   "source": [
    "flc.mat <- do.call(cbind,lapply(results.all.tissues.o_gene, function(x) {x$log2FoldChange}))\n",
    "rownames(flc.mat) <- results.all.tissues.o_gene[[1]]$X"
   ]
  },
  {
   "cell_type": "code",
   "execution_count": null,
   "metadata": {},
   "outputs": [],
   "source": [
    "flc.mat[is.na(flc.mat)] <- 0"
   ]
  },
  {
   "cell_type": "code",
   "execution_count": null,
   "metadata": {},
   "outputs": [],
   "source": [
    "pca.lfc <- prcomp(t(flc.mat))"
   ]
  },
  {
   "cell_type": "code",
   "execution_count": null,
   "metadata": {},
   "outputs": [],
   "source": [
    "str(pca.lfc)"
   ]
  },
  {
   "cell_type": "code",
   "execution_count": null,
   "metadata": {},
   "outputs": [],
   "source": [
    "options(repr.plot.width=7, repr.plot.height=7)\n",
    "plot(pca.lfc$x[,1:2])"
   ]
  },
  {
   "cell_type": "code",
   "execution_count": null,
   "metadata": {},
   "outputs": [],
   "source": [
    "plot.df <- data.frame(tissue=rownames(pca.lfc$x),pca.lfc$x[,1:3])"
   ]
  },
  {
   "cell_type": "code",
   "execution_count": null,
   "metadata": {},
   "outputs": [],
   "source": [
    "head(plot.df)"
   ]
  },
  {
   "cell_type": "code",
   "execution_count": null,
   "metadata": {},
   "outputs": [],
   "source": [
    "library(ggrepel)"
   ]
  },
  {
   "cell_type": "code",
   "execution_count": null,
   "metadata": {},
   "outputs": [],
   "source": [
    "options(repr.plot.width=9, repr.plot.height=9)\n",
    "ggplot(plot.df, aes(color=tissue, x=PC1, y=PC2)) +\n",
    "    geom_point(size=6) + \n",
    "    theme_bw() + theme(legend.position='none') + \n",
    "    geom_label_repel(aes(label=tissue))\n",
    "    "
   ]
  },
  {
   "cell_type": "code",
   "execution_count": null,
   "metadata": {},
   "outputs": [],
   "source": [
    "# pick genes de in at least one tissue\n",
    "de.genes <- unique(unlist(lapply(results.all.tissues, function(x) {x$X[x$padj < 0.05]})))"
   ]
  },
  {
   "cell_type": "code",
   "execution_count": null,
   "metadata": {},
   "outputs": [],
   "source": []
  },
  {
   "cell_type": "code",
   "execution_count": null,
   "metadata": {},
   "outputs": [],
   "source": [
    "flc.mat[1:3,1:3]"
   ]
  },
  {
   "cell_type": "code",
   "execution_count": null,
   "metadata": {},
   "outputs": [],
   "source": [
    "head(de.genes)"
   ]
  },
  {
   "cell_type": "code",
   "execution_count": null,
   "metadata": {},
   "outputs": [],
   "source": [
    "table(de.genes %in% rownames(flc.mat))"
   ]
  },
  {
   "cell_type": "code",
   "execution_count": null,
   "metadata": {},
   "outputs": [],
   "source": [
    "de.genes <- de.genes[!is.na(de.genes)]"
   ]
  },
  {
   "cell_type": "code",
   "execution_count": null,
   "metadata": {},
   "outputs": [],
   "source": []
  },
  {
   "cell_type": "code",
   "execution_count": null,
   "metadata": {},
   "outputs": [],
   "source": [
    "pca.lfc.sel <- prcomp(t(scale(flc.mat[de.genes,])))"
   ]
  },
  {
   "cell_type": "code",
   "execution_count": null,
   "metadata": {},
   "outputs": [],
   "source": [
    "plot.df <- data.frame(tissue=rownames(pca.lfc.sel$x),pca.lfc.sel$x[,1:3])"
   ]
  },
  {
   "cell_type": "code",
   "execution_count": null,
   "metadata": {},
   "outputs": [],
   "source": [
    "ggplot(plot.df, aes(color=tissue, x=PC1, y=PC2)) + \n",
    "    geom_point(size=6) + \n",
    "    theme_bw() + \n",
    "    geom_label_repel(aes(label=tissue)) + \n",
    "    ggtitle('PCA of LogFoldChanges')"
   ]
  },
  {
   "cell_type": "code",
   "execution_count": null,
   "metadata": {},
   "outputs": [],
   "source": [
    "ggsave('output/pca_lfc.png',w=8,h=8)"
   ]
  },
  {
   "cell_type": "code",
   "execution_count": null,
   "metadata": {},
   "outputs": [],
   "source": [
    "# Show the genes weighted in these PCs"
   ]
  },
  {
   "cell_type": "code",
   "execution_count": null,
   "metadata": {},
   "outputs": [],
   "source": [
    "n.top.genes.per.pc <- 20\n",
    "\n",
    "loaded.genes <- unique(c(\n",
    "    head(names(sort(abs(pca.lfc.sel$rotation[,c('PC1')]),decreasing = T)),n=n.top.genes.per.pc),\n",
    "    head(names(sort(abs(pca.lfc.sel$rotation[,c('PC2')]),decreasing = T)),n=n.top.genes.per.pc)\n",
    "    ))"
   ]
  },
  {
   "cell_type": "code",
   "execution_count": null,
   "metadata": {},
   "outputs": [],
   "source": [
    "loading_scale <- 1e2\n",
    "loaded.genes.df <- as.data.frame(pca.lfc.sel$rotation[loaded.genes,c('PC1','PC2')])"
   ]
  },
  {
   "cell_type": "code",
   "execution_count": null,
   "metadata": {},
   "outputs": [],
   "source": [
    "loaded.genes.df$symbol <- gene_map$external_gene_name[match(rownames(loaded.genes.df), gene_map$Geneid)]"
   ]
  },
  {
   "cell_type": "code",
   "execution_count": null,
   "metadata": {},
   "outputs": [],
   "source": [
    "ggplot(plot.df, aes(color=tissue, x=PC1, y=PC2)) + \n",
    "    theme_bw() + \n",
    "    geom_segment(\n",
    "        alpha=0.5,\n",
    "        arrow = arrow(),\n",
    "        data=loaded.genes.df,\n",
    "        aes(x=0,y=0,xend=PC1*loading_scale,yend=PC2*loading_scale),inherit.aes=F\n",
    "    ) +   ggtitle('PCA of LogFoldChanges') +\n",
    "    geom_label_repel(data=loaded.genes.df,aes(x=PC1*loading_scale,y=PC2*loading_scale,label=symbol),inherit.aes=F) +\n",
    "    geom_point(size=8) +\n",
    "    geom_label_repel(aes(label=tissue)) +\n",
    "    theme(legend.position = 'none')"
   ]
  },
  {
   "cell_type": "code",
   "execution_count": null,
   "metadata": {},
   "outputs": [],
   "source": [
    "ggsave('output/pca_lfc_withloadings.png',w=10,h=10)"
   ]
  },
  {
   "cell_type": "markdown",
   "metadata": {},
   "source": [
    "# Specific Genes Across Tissues"
   ]
  },
  {
   "cell_type": "markdown",
   "metadata": {},
   "source": [
    "## Hits from Testes"
   ]
  },
  {
   "cell_type": "code",
   "execution_count": null,
   "metadata": {},
   "outputs": [],
   "source": [
    "ggplot_rotate_labels <- theme(axis.text.x = element_text(angle = 90, vjust = 0.5, hjust=1))"
   ]
  },
  {
   "cell_type": "code",
   "execution_count": null,
   "metadata": {},
   "outputs": [],
   "source": [
    "# NEURL3 (ENSMMUG00000000006.4)\n",
    "reshape2::melt(flc.mat['ENSMMUG00000000006.4',,drop=FALSE]) %>% \n",
    "    ggplot(aes(x=Var2,y=value)) + \n",
    "    geom_bar(stat='identity') + \n",
    "    ggplot_rotate_labels"
   ]
  },
  {
   "cell_type": "code",
   "execution_count": null,
   "metadata": {},
   "outputs": [],
   "source": [
    "reshape2::melt(flc.mat['ENSMMUG00000022839.4',,drop=FALSE]) %>% \n",
    "    ggplot(aes(x=Var2,y=value)) + \n",
    "    geom_bar(stat='identity') + \n",
    "    ggplot_rotate_labels + theme(axis.text=element_text(size=16)) +\n",
    "    ggtitle('ESR2 (ENSMMUG00000022839.4)')"
   ]
  },
  {
   "cell_type": "code",
   "execution_count": null,
   "metadata": {},
   "outputs": [],
   "source": [
    "reshape2::melt(flc.mat['ENSMMUG00000013283.4',,drop=FALSE]) %>% \n",
    "    ggplot(aes(x=Var2,y=value)) + \n",
    "    geom_bar(stat='identity') + \n",
    "    ggplot_rotate_labels + theme(axis.text=element_text(size=16)) +\n",
    "    ggtitle('CDHR2 (ENSMMUG00000013283.4)')"
   ]
  },
  {
   "cell_type": "code",
   "execution_count": null,
   "metadata": {},
   "outputs": [],
   "source": [
    "reshape2::melt(flc.mat['ENSMMUG00000042375.2',,drop=FALSE]) %>% \n",
    "    ggplot(aes(x=Var2,y=value)) + \n",
    "    geom_bar(stat='identity') + \n",
    "    ggplot_rotate_labels + theme(axis.text=element_text(size=16)) +\n",
    "    ggtitle('INSL3 (ENSMMUG00000042375.2)')"
   ]
  },
  {
   "cell_type": "code",
   "execution_count": null,
   "metadata": {},
   "outputs": [],
   "source": [
    "reshape2::melt(flc.mat['ENSMMUG00000040100.2',,drop=FALSE]) %>% \n",
    "    ggplot(aes(x=Var2,y=value)) + \n",
    "    geom_bar(stat='identity') + \n",
    "    ggplot_rotate_labels + theme(axis.text=element_text(size=16)) +\n",
    "    ggtitle('FOS (ENSMMUG00000040100.2)')"
   ]
  },
  {
   "cell_type": "code",
   "execution_count": null,
   "metadata": {},
   "outputs": [],
   "source": [
    "reshape2::melt(flc.mat['ENSMMUG00000006727.3',,drop=FALSE]) %>% \n",
    "    ggplot(aes(x=Var2,y=value)) + \n",
    "    geom_bar(stat='identity') + \n",
    "    ggplot_rotate_labels + theme(axis.text=element_text(size=16)) +\n",
    "    ggtitle('VDR (ENSMMUG00000006727.3)')"
   ]
  },
  {
   "cell_type": "code",
   "execution_count": null,
   "metadata": {},
   "outputs": [],
   "source": [
    "reshape2::melt(flc.mat['ENSMMUG00000056083.1',,drop=FALSE]) %>% \n",
    "    ggplot(aes(x=Var2,y=value)) + \n",
    "    geom_bar(stat='identity') + \n",
    "    ggplot_rotate_labels + theme(axis.text=element_text(size=16)) +\n",
    "    ggtitle('GPC1 (ENSMMUG00000056083.1)')"
   ]
  },
  {
   "cell_type": "code",
   "execution_count": null,
   "metadata": {},
   "outputs": [],
   "source": [
    "reshape2::melt(flc.mat['ENSMMUG00000003468.3',,drop=FALSE]) %>% \n",
    "    ggplot(aes(x=Var2,y=value)) + \n",
    "    geom_bar(stat='identity') + \n",
    "    ggplot_rotate_labels + theme(axis.text=element_text(size=16)) +\n",
    "    ggtitle('GADD45B (ENSMMUG00000003468.3)')"
   ]
  },
  {
   "cell_type": "code",
   "execution_count": null,
   "metadata": {},
   "outputs": [],
   "source": [
    "reshape2::melt(flc.mat['ENSMMUG00000038702.2',,drop=FALSE]) %>% \n",
    "    ggplot(aes(x=Var2,y=value)) + \n",
    "    geom_bar(stat='identity') + \n",
    "    ggplot_rotate_labels + theme(axis.text=element_text(size=16)) +\n",
    "    ggtitle('ZFP36 (EENSMMUG00000038702.2)')"
   ]
  },
  {
   "cell_type": "code",
   "execution_count": null,
   "metadata": {},
   "outputs": [],
   "source": [
    "reshape2::melt(flc.mat['ENSMMUG00000023701.4',,drop=FALSE]) %>% \n",
    "    ggplot(aes(x=Var2,y=value)) + \n",
    "    geom_bar(stat='identity') + \n",
    "    ggplot_rotate_labels + theme(axis.text=element_text(size=16)) +\n",
    "    ggtitle('LRG1 (ENSMMUG00000023701.4)')"
   ]
  },
  {
   "cell_type": "code",
   "execution_count": null,
   "metadata": {},
   "outputs": [],
   "source": [
    "reshape2::melt(flc.mat['ENSMMUG00000063131.1',,drop=FALSE]) %>% \n",
    "    ggplot(aes(x=Var2,y=value)) + \n",
    "    geom_bar(stat='identity') + \n",
    "    ggplot_rotate_labels + theme(axis.text=element_text(size=16)) +\n",
    "    ggtitle('MOB3C (ENSMMUG00000063131.1)')"
   ]
  },
  {
   "cell_type": "code",
   "execution_count": null,
   "metadata": {},
   "outputs": [],
   "source": [
    "reshape2::melt(flc.mat['ENSMMUG00000021293.4',,drop=FALSE]) %>% \n",
    "    ggplot(aes(x=Var2,y=value)) + \n",
    "    geom_bar(stat='identity') + \n",
    "    ggplot_rotate_labels + theme(axis.text=element_text(size=16)) +\n",
    "    ggtitle('NRCAM (ENSMMUG00000021293.4)')"
   ]
  },
  {
   "cell_type": "code",
   "execution_count": null,
   "metadata": {},
   "outputs": [],
   "source": [
    "reshape2::melt(flc.mat['ENSMMUG00000058428.1',,drop=FALSE]) %>% \n",
    "    ggplot(aes(x=Var2,y=value)) + \n",
    "    geom_bar(stat='identity') + \n",
    "    ggplot_rotate_labels + theme(axis.text=element_text(size=16)) +\n",
    "    ggtitle('SOCS3 (ENSMMUG00000058428.1)')"
   ]
  },
  {
   "cell_type": "code",
   "execution_count": null,
   "metadata": {},
   "outputs": [],
   "source": [
    "reshape2::melt(flc.mat['ENSMMUG00000048424.2',,drop=FALSE]) %>% \n",
    "    ggplot(aes(x=Var2,y=value)) + \n",
    "    geom_bar(stat='identity') + \n",
    "    ggplot_rotate_labels + theme(axis.text=element_text(size=16)) +\n",
    "    ggtitle('SDC4 (ENSMMUG00000048424.2)')"
   ]
  },
  {
   "cell_type": "code",
   "execution_count": null,
   "metadata": {},
   "outputs": [],
   "source": [
    "reshape2::melt(flc.mat['ENSMMUG00000048424.2',,drop=FALSE]) %>% \n",
    "    ggplot(aes(x=Var2,y=value)) + \n",
    "    geom_bar(stat='identity') + \n",
    "    ggplot_rotate_labels + theme(axis.text=element_text(size=16)) +\n",
    "    ggtitle('SDC4 (ENSMMUG00000048424.2)')"
   ]
  },
  {
   "cell_type": "code",
   "execution_count": null,
   "metadata": {},
   "outputs": [],
   "source": [
    "reshape2::melt(flc.mat['ENSMMUG00000032106.3',,drop=FALSE]) %>% \n",
    "    ggplot(aes(x=Var2,y=value)) + \n",
    "    geom_bar(stat='identity') + \n",
    "    ggplot_rotate_labels + theme(axis.text=element_text(size=16)) +\n",
    "    ggtitle('MOB3C (ENSMMUG00000032106.3)')"
   ]
  },
  {
   "cell_type": "code",
   "execution_count": null,
   "metadata": {},
   "outputs": [],
   "source": [
    "reshape2::melt(flc.mat['ENSMMUG00000060580.1',,drop=FALSE]) %>% \n",
    "    ggplot(aes(x=Var2,y=value)) + \n",
    "    geom_bar(stat='identity') + \n",
    "    ggplot_rotate_labels + theme(axis.text=element_text(size=16)) +\n",
    "    ggtitle('SAT1 (ENSMMUG00000060580.1)')"
   ]
  },
  {
   "cell_type": "code",
   "execution_count": null,
   "metadata": {},
   "outputs": [],
   "source": [
    "reshape2::melt(flc.mat['ENSMMUG00000061478.1',,drop=FALSE]) %>% \n",
    "    ggplot(aes(x=Var2,y=value)) + \n",
    "    geom_bar(stat='identity') + \n",
    "    ggplot_rotate_labels + theme(axis.text=element_text(size=16)) +\n",
    "    ggtitle('SARM1 (ENSMMUG00000061478.1)')"
   ]
  },
  {
   "cell_type": "code",
   "execution_count": null,
   "metadata": {},
   "outputs": [],
   "source": [
    "reshape2::melt(flc.mat['ENSMMUG00000058805.1',,drop=FALSE]) %>% \n",
    "    ggplot(aes(x=Var2,y=value)) + \n",
    "    geom_bar(stat='identity') + \n",
    "    ggplot_rotate_labels + theme(axis.text=element_text(size=16)) +\n",
    "    ggtitle('SPATA12 (ENSMMUG00000058805.1)')"
   ]
  },
  {
   "cell_type": "code",
   "execution_count": null,
   "metadata": {},
   "outputs": [],
   "source": []
  },
  {
   "cell_type": "code",
   "execution_count": null,
   "metadata": {},
   "outputs": [],
   "source": []
  },
  {
   "cell_type": "code",
   "execution_count": null,
   "metadata": {},
   "outputs": [],
   "source": []
  },
  {
   "cell_type": "code",
   "execution_count": null,
   "metadata": {},
   "outputs": [],
   "source": [
    "head(gene_map)"
   ]
  },
  {
   "cell_type": "code",
   "execution_count": null,
   "metadata": {},
   "outputs": [],
   "source": [
    "gene_map[gene_map$external_gene_name == 'COL27A1',]"
   ]
  },
  {
   "cell_type": "code",
   "execution_count": null,
   "metadata": {},
   "outputs": [],
   "source": [
    "reshape2::melt(flc.mat['ENSMMUG00000031973.3',,drop=FALSE]) %>% \n",
    "    ggplot(aes(x=Var2,y=value)) + \n",
    "    geom_bar(stat='identity') + \n",
    "    theme_bw() + \n",
    "    ggplot_rotate_labels + theme(axis.text=element_text(size=16)) +\n",
    "    ggtitle('COL27A1 (ENSMMUG00000031973.3)') "
   ]
  },
  {
   "cell_type": "code",
   "execution_count": null,
   "metadata": {},
   "outputs": [],
   "source": [
    "gene_map[gene_map$external_gene_name == 'COL1A1',]"
   ]
  },
  {
   "cell_type": "code",
   "execution_count": null,
   "metadata": {},
   "outputs": [],
   "source": [
    "reshape2::melt(flc.mat['ENSMMUG00000001467.4',,drop=FALSE]) %>% \n",
    "    ggplot(aes(x=Var2,y=value)) + \n",
    "    geom_bar(stat='identity') + \n",
    "    theme_bw() + \n",
    "    ggplot_rotate_labels + theme(axis.text=element_text(size=16)) +\n",
    "    ggtitle('COL1A1 (ENSMMUG00000001467.4)') "
   ]
  },
  {
   "cell_type": "code",
   "execution_count": null,
   "metadata": {},
   "outputs": [],
   "source": [
    "gene_map[gene_map$external_gene_name == 'COL18A1',]"
   ]
  },
  {
   "cell_type": "code",
   "execution_count": null,
   "metadata": {},
   "outputs": [],
   "source": [
    "reshape2::melt(flc.mat['ENSMMUG00000004472.4',,drop=FALSE]) %>% \n",
    "    ggplot(aes(x=Var2,y=value)) + \n",
    "    geom_bar(stat='identity') + \n",
    "    theme_bw() + \n",
    "    ggplot_rotate_labels + theme(axis.text=element_text(size=16)) +\n",
    "    ggtitle('COL18A1 (ENSMMUG00000004472.4)') "
   ]
  },
  {
   "cell_type": "code",
   "execution_count": null,
   "metadata": {},
   "outputs": [],
   "source": [
    "gene_map[gene_map$external_gene_name == 'COL3A1',]"
   ]
  },
  {
   "cell_type": "code",
   "execution_count": null,
   "metadata": {},
   "outputs": [],
   "source": [
    "reshape2::melt(flc.mat['ENSMMUG00000021286.4',,drop=FALSE]) %>% \n",
    "    ggplot(aes(x=Var2,y=value)) + \n",
    "    geom_bar(stat='identity') + \n",
    "    theme_bw() + \n",
    "    ggplot_rotate_labels + theme(axis.text=element_text(size=16)) +\n",
    "    ggtitle('COL3A1 (ENSMMUG00000021286.4)') "
   ]
  },
  {
   "cell_type": "code",
   "execution_count": null,
   "metadata": {},
   "outputs": [],
   "source": [
    "gene_map[gene_map$external_gene_name == 'COL6A3',]"
   ]
  },
  {
   "cell_type": "code",
   "execution_count": null,
   "metadata": {},
   "outputs": [],
   "source": [
    "reshape2::melt(flc.mat['ENSMMUG00000014049.4',,drop=FALSE]) %>% \n",
    "    ggplot(aes(x=Var2,y=value)) + \n",
    "    geom_bar(stat='identity') + \n",
    "    theme_bw() + \n",
    "    ggplot_rotate_labels + theme(axis.text=element_text(size=16)) +\n",
    "    ggtitle('COL6A3 (ENSMMUG00000014049.4)') "
   ]
  },
  {
   "cell_type": "code",
   "execution_count": null,
   "metadata": {},
   "outputs": [],
   "source": []
  }
 ],
 "metadata": {
  "kernelspec": {
   "display_name": "R",
   "language": "R",
   "name": "ir"
  },
  "language_info": {
   "codemirror_mode": "r",
   "file_extension": ".r",
   "mimetype": "text/x-r-source",
   "name": "R",
   "pygments_lexer": "r",
   "version": "4.0.3"
  }
 },
 "nbformat": 4,
 "nbformat_minor": 4
}
