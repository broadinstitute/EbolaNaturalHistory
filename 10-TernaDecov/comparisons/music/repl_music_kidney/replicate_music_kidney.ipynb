{
 "cells": [
  {
   "cell_type": "markdown",
   "metadata": {},
   "source": [
    "# Load libraries"
   ]
  },
  {
   "cell_type": "code",
   "execution_count": 1,
   "metadata": {},
   "outputs": [],
   "source": [
    "library(data.table)"
   ]
  },
  {
   "cell_type": "markdown",
   "metadata": {},
   "source": [
    "# Load single-cell data (Park et al)"
   ]
  },
  {
   "cell_type": "code",
   "execution_count": 2,
   "metadata": {},
   "outputs": [
    {
     "name": "stderr",
     "output_type": "stream",
     "text": [
      "Warning message in fread(park_data_path):\n",
      "“Detected 43745 column names but the data has 43746 columns (i.e. invalid file). Added 1 extra default column name for the first column which is guessed to be row names or an index. Use setnames() afterwards if this guess is not correct, or fix the file write command that created the file to create a valid file.”\n"
     ]
    }
   ],
   "source": [
    "# load reference (Park) data\n",
    "park_data_path <- '/mnt/disk1/nbarkas/deconvolution_method/datasets/Park_etal/GSE107585_Mouse_kidney_single_cell_datamatrix.txt'\n",
    "park_data <- fread(park_data_path)\n",
    "park_data <- as.data.frame(park_data)"
   ]
  },
  {
   "cell_type": "code",
   "execution_count": 3,
   "metadata": {},
   "outputs": [
    {
     "data": {
      "text/html": [
       "<table class=\"dataframe\">\n",
       "<caption>A data.frame: 3 × 3</caption>\n",
       "<thead>\n",
       "\t<tr><th></th><th scope=col>V1</th><th scope=col>AAACCTGAGATATGCA-1</th><th scope=col>AAACCTGGTTGTGGCC-1</th></tr>\n",
       "\t<tr><th></th><th scope=col>&lt;chr&gt;</th><th scope=col>&lt;int&gt;</th><th scope=col>&lt;int&gt;</th></tr>\n",
       "</thead>\n",
       "<tbody>\n",
       "\t<tr><th scope=row>1</th><td>Cluster_Number</td><td>3</td><td>5</td></tr>\n",
       "\t<tr><th scope=row>2</th><td>Rp1           </td><td>0</td><td>0</td></tr>\n",
       "\t<tr><th scope=row>3</th><td>Sox17         </td><td>0</td><td>0</td></tr>\n",
       "</tbody>\n",
       "</table>\n"
      ],
      "text/latex": [
       "A data.frame: 3 × 3\n",
       "\\begin{tabular}{r|lll}\n",
       "  & V1 & AAACCTGAGATATGCA-1 & AAACCTGGTTGTGGCC-1\\\\\n",
       "  & <chr> & <int> & <int>\\\\\n",
       "\\hline\n",
       "\t1 & Cluster\\_Number & 3 & 5\\\\\n",
       "\t2 & Rp1            & 0 & 0\\\\\n",
       "\t3 & Sox17          & 0 & 0\\\\\n",
       "\\end{tabular}\n"
      ],
      "text/markdown": [
       "\n",
       "A data.frame: 3 × 3\n",
       "\n",
       "| <!--/--> | V1 &lt;chr&gt; | AAACCTGAGATATGCA-1 &lt;int&gt; | AAACCTGGTTGTGGCC-1 &lt;int&gt; |\n",
       "|---|---|---|---|\n",
       "| 1 | Cluster_Number | 3 | 5 |\n",
       "| 2 | Rp1            | 0 | 0 |\n",
       "| 3 | Sox17          | 0 | 0 |\n",
       "\n"
      ],
      "text/plain": [
       "  V1             AAACCTGAGATATGCA-1 AAACCTGGTTGTGGCC-1\n",
       "1 Cluster_Number 3                  5                 \n",
       "2 Rp1            0                  0                 \n",
       "3 Sox17          0                  0                 "
      ]
     },
     "metadata": {},
     "output_type": "display_data"
    }
   ],
   "source": [
    "# inspect loaded data\n",
    "park_data[1:3,1:3]"
   ]
  },
  {
   "cell_type": "code",
   "execution_count": 4,
   "metadata": {},
   "outputs": [],
   "source": [
    "# Get a cell cluster factor\n",
    "park_cluster <- as.character(t(park_data[1,])[,1])\n",
    "names(park_cluster) <- colnames(park_data)\n",
    "park_cluster <- park_cluster[-1]\n",
    "park_cluster <- as.factor(park_cluster)"
   ]
  },
  {
   "cell_type": "code",
   "execution_count": 5,
   "metadata": {},
   "outputs": [
    {
     "data": {
      "text/html": [
       "<style>\n",
       ".dl-inline {width: auto; margin:0; padding: 0}\n",
       ".dl-inline>dt, .dl-inline>dd {float: none; width: auto; display: inline-block}\n",
       ".dl-inline>dt::after {content: \":\\0020\"; padding-right: .5ex}\n",
       ".dl-inline>dt:not(:first-of-type) {padding-left: .5ex}\n",
       "</style><dl class=dl-inline><dt>AAACCTGAGATATGCA-1</dt><dd>3</dd><dt>AAACCTGGTTGTGGCC-1</dt><dd>5</dd><dt>AAACGGGAGCGTCTAT-1</dt><dd>3</dd><dt>AAACGGGAGCTCCTTC-1</dt><dd>3</dd><dt>AAACGGGCACCTCGGA-1</dt><dd>3</dd><dt>AAACGGGCAGGTGCCT-1</dt><dd>5</dd></dl>\n",
       "\n",
       "<details>\n",
       "\t<summary style=display:list-item;cursor:pointer>\n",
       "\t\t<strong>Levels</strong>:\n",
       "\t</summary>\n",
       "\t<style>\n",
       "\t.list-inline {list-style: none; margin:0; padding: 0}\n",
       "\t.list-inline>li {display: inline-block}\n",
       "\t.list-inline>li:not(:last-child)::after {content: \"\\00b7\"; padding: 0 .5ex}\n",
       "\t</style>\n",
       "\t<ol class=list-inline><li>'1'</li><li>'10'</li><li>'11'</li><li>'12'</li><li>'13'</li><li>'14'</li><li>'15'</li><li>'16'</li><li>'2'</li><li>'3'</li><li>'4'</li><li>'5'</li><li>'6'</li><li>'7'</li><li>'8'</li><li>'9'</li></ol>\n",
       "</details>"
      ],
      "text/latex": [
       "\\begin{description*}\n",
       "\\item[AAACCTGAGATATGCA-1] 3\n",
       "\\item[AAACCTGGTTGTGGCC-1] 5\n",
       "\\item[AAACGGGAGCGTCTAT-1] 3\n",
       "\\item[AAACGGGAGCTCCTTC-1] 3\n",
       "\\item[AAACGGGCACCTCGGA-1] 3\n",
       "\\item[AAACGGGCAGGTGCCT-1] 5\n",
       "\\end{description*}\n",
       "\n",
       "\\emph{Levels}: \\begin{enumerate*}\n",
       "\\item '1'\n",
       "\\item '10'\n",
       "\\item '11'\n",
       "\\item '12'\n",
       "\\item '13'\n",
       "\\item '14'\n",
       "\\item '15'\n",
       "\\item '16'\n",
       "\\item '2'\n",
       "\\item '3'\n",
       "\\item '4'\n",
       "\\item '5'\n",
       "\\item '6'\n",
       "\\item '7'\n",
       "\\item '8'\n",
       "\\item '9'\n",
       "\\end{enumerate*}\n"
      ],
      "text/markdown": [
       "AAACCTGAGATATGCA-1\n",
       ":   3AAACCTGGTTGTGGCC-1\n",
       ":   5AAACGGGAGCGTCTAT-1\n",
       ":   3AAACGGGAGCTCCTTC-1\n",
       ":   3AAACGGGCACCTCGGA-1\n",
       ":   3AAACGGGCAGGTGCCT-1\n",
       ":   5\n",
       "\n",
       "\n",
       "**Levels**: 1. '1'\n",
       "2. '10'\n",
       "3. '11'\n",
       "4. '12'\n",
       "5. '13'\n",
       "6. '14'\n",
       "7. '15'\n",
       "8. '16'\n",
       "9. '2'\n",
       "10. '3'\n",
       "11. '4'\n",
       "12. '5'\n",
       "13. '6'\n",
       "14. '7'\n",
       "15. '8'\n",
       "16. '9'\n",
       "\n",
       "\n"
      ],
      "text/plain": [
       "AAACCTGAGATATGCA-1 AAACCTGGTTGTGGCC-1 AAACGGGAGCGTCTAT-1 AAACGGGAGCTCCTTC-1 \n",
       "                 3                  5                  3                  3 \n",
       "AAACGGGCACCTCGGA-1 AAACGGGCAGGTGCCT-1 \n",
       "                 3                  5 \n",
       "Levels: 1 10 11 12 13 14 15 16 2 3 4 5 6 7 8 9"
      ]
     },
     "metadata": {},
     "output_type": "display_data"
    }
   ],
   "source": [
    "head(park_cluster)"
   ]
  },
  {
   "cell_type": "code",
   "execution_count": 6,
   "metadata": {},
   "outputs": [],
   "source": [
    "# remove the cluster number row\n",
    "park_tmp <- park_data[-1,]"
   ]
  },
  {
   "cell_type": "code",
   "execution_count": 7,
   "metadata": {},
   "outputs": [
    {
     "data": {
      "text/html": [
       "<table class=\"dataframe\">\n",
       "<caption>A data.frame: 3 × 3</caption>\n",
       "<thead>\n",
       "\t<tr><th></th><th scope=col>V1</th><th scope=col>AAACCTGAGATATGCA-1</th><th scope=col>AAACCTGGTTGTGGCC-1</th></tr>\n",
       "\t<tr><th></th><th scope=col>&lt;chr&gt;</th><th scope=col>&lt;int&gt;</th><th scope=col>&lt;int&gt;</th></tr>\n",
       "</thead>\n",
       "<tbody>\n",
       "\t<tr><th scope=row>2</th><td>Rp1   </td><td>0</td><td>0</td></tr>\n",
       "\t<tr><th scope=row>3</th><td>Sox17 </td><td>0</td><td>0</td></tr>\n",
       "\t<tr><th scope=row>4</th><td>Mrpl15</td><td>0</td><td>0</td></tr>\n",
       "</tbody>\n",
       "</table>\n"
      ],
      "text/latex": [
       "A data.frame: 3 × 3\n",
       "\\begin{tabular}{r|lll}\n",
       "  & V1 & AAACCTGAGATATGCA-1 & AAACCTGGTTGTGGCC-1\\\\\n",
       "  & <chr> & <int> & <int>\\\\\n",
       "\\hline\n",
       "\t2 & Rp1    & 0 & 0\\\\\n",
       "\t3 & Sox17  & 0 & 0\\\\\n",
       "\t4 & Mrpl15 & 0 & 0\\\\\n",
       "\\end{tabular}\n"
      ],
      "text/markdown": [
       "\n",
       "A data.frame: 3 × 3\n",
       "\n",
       "| <!--/--> | V1 &lt;chr&gt; | AAACCTGAGATATGCA-1 &lt;int&gt; | AAACCTGGTTGTGGCC-1 &lt;int&gt; |\n",
       "|---|---|---|---|\n",
       "| 2 | Rp1    | 0 | 0 |\n",
       "| 3 | Sox17  | 0 | 0 |\n",
       "| 4 | Mrpl15 | 0 | 0 |\n",
       "\n"
      ],
      "text/plain": [
       "  V1     AAACCTGAGATATGCA-1 AAACCTGGTTGTGGCC-1\n",
       "2 Rp1    0                  0                 \n",
       "3 Sox17  0                  0                 \n",
       "4 Mrpl15 0                  0                 "
      ]
     },
     "metadata": {},
     "output_type": "display_data"
    }
   ],
   "source": [
    "park_tmp[1:3,1:3]"
   ]
  },
  {
   "cell_type": "code",
   "execution_count": 8,
   "metadata": {},
   "outputs": [],
   "source": [
    "park_tmp <- as.data.frame(park_tmp)"
   ]
  },
  {
   "cell_type": "code",
   "execution_count": 9,
   "metadata": {},
   "outputs": [],
   "source": [
    "rownames(park_tmp) <- park_tmp$V1"
   ]
  },
  {
   "cell_type": "code",
   "execution_count": 10,
   "metadata": {},
   "outputs": [
    {
     "data": {
      "text/html": [
       "<table class=\"dataframe\">\n",
       "<caption>A data.frame: 3 × 3</caption>\n",
       "<thead>\n",
       "\t<tr><th></th><th scope=col>V1</th><th scope=col>AAACCTGAGATATGCA-1</th><th scope=col>AAACCTGGTTGTGGCC-1</th></tr>\n",
       "\t<tr><th></th><th scope=col>&lt;chr&gt;</th><th scope=col>&lt;int&gt;</th><th scope=col>&lt;int&gt;</th></tr>\n",
       "</thead>\n",
       "<tbody>\n",
       "\t<tr><th scope=row>Rp1</th><td>Rp1   </td><td>0</td><td>0</td></tr>\n",
       "\t<tr><th scope=row>Sox17</th><td>Sox17 </td><td>0</td><td>0</td></tr>\n",
       "\t<tr><th scope=row>Mrpl15</th><td>Mrpl15</td><td>0</td><td>0</td></tr>\n",
       "</tbody>\n",
       "</table>\n"
      ],
      "text/latex": [
       "A data.frame: 3 × 3\n",
       "\\begin{tabular}{r|lll}\n",
       "  & V1 & AAACCTGAGATATGCA-1 & AAACCTGGTTGTGGCC-1\\\\\n",
       "  & <chr> & <int> & <int>\\\\\n",
       "\\hline\n",
       "\tRp1 & Rp1    & 0 & 0\\\\\n",
       "\tSox17 & Sox17  & 0 & 0\\\\\n",
       "\tMrpl15 & Mrpl15 & 0 & 0\\\\\n",
       "\\end{tabular}\n"
      ],
      "text/markdown": [
       "\n",
       "A data.frame: 3 × 3\n",
       "\n",
       "| <!--/--> | V1 &lt;chr&gt; | AAACCTGAGATATGCA-1 &lt;int&gt; | AAACCTGGTTGTGGCC-1 &lt;int&gt; |\n",
       "|---|---|---|---|\n",
       "| Rp1 | Rp1    | 0 | 0 |\n",
       "| Sox17 | Sox17  | 0 | 0 |\n",
       "| Mrpl15 | Mrpl15 | 0 | 0 |\n",
       "\n"
      ],
      "text/plain": [
       "       V1     AAACCTGAGATATGCA-1 AAACCTGGTTGTGGCC-1\n",
       "Rp1    Rp1    0                  0                 \n",
       "Sox17  Sox17  0                  0                 \n",
       "Mrpl15 Mrpl15 0                  0                 "
      ]
     },
     "metadata": {},
     "output_type": "display_data"
    }
   ],
   "source": [
    "park_tmp[1:3,1:3]"
   ]
  },
  {
   "cell_type": "code",
   "execution_count": 11,
   "metadata": {},
   "outputs": [
    {
     "data": {
      "text/html": [
       "<table class=\"dataframe\">\n",
       "<caption>A data.frame: 3 × 3</caption>\n",
       "<thead>\n",
       "\t<tr><th></th><th scope=col>AAACCTGAGATATGCA-1</th><th scope=col>AAACCTGGTTGTGGCC-1</th><th scope=col>AAACGGGAGCGTCTAT-1</th></tr>\n",
       "\t<tr><th></th><th scope=col>&lt;int&gt;</th><th scope=col>&lt;int&gt;</th><th scope=col>&lt;int&gt;</th></tr>\n",
       "</thead>\n",
       "<tbody>\n",
       "\t<tr><th scope=row>Rp1</th><td>0</td><td>0</td><td>0</td></tr>\n",
       "\t<tr><th scope=row>Sox17</th><td>0</td><td>0</td><td>0</td></tr>\n",
       "\t<tr><th scope=row>Mrpl15</th><td>0</td><td>0</td><td>0</td></tr>\n",
       "</tbody>\n",
       "</table>\n"
      ],
      "text/latex": [
       "A data.frame: 3 × 3\n",
       "\\begin{tabular}{r|lll}\n",
       "  & AAACCTGAGATATGCA-1 & AAACCTGGTTGTGGCC-1 & AAACGGGAGCGTCTAT-1\\\\\n",
       "  & <int> & <int> & <int>\\\\\n",
       "\\hline\n",
       "\tRp1 & 0 & 0 & 0\\\\\n",
       "\tSox17 & 0 & 0 & 0\\\\\n",
       "\tMrpl15 & 0 & 0 & 0\\\\\n",
       "\\end{tabular}\n"
      ],
      "text/markdown": [
       "\n",
       "A data.frame: 3 × 3\n",
       "\n",
       "| <!--/--> | AAACCTGAGATATGCA-1 &lt;int&gt; | AAACCTGGTTGTGGCC-1 &lt;int&gt; | AAACGGGAGCGTCTAT-1 &lt;int&gt; |\n",
       "|---|---|---|---|\n",
       "| Rp1 | 0 | 0 | 0 |\n",
       "| Sox17 | 0 | 0 | 0 |\n",
       "| Mrpl15 | 0 | 0 | 0 |\n",
       "\n"
      ],
      "text/plain": [
       "       AAACCTGAGATATGCA-1 AAACCTGGTTGTGGCC-1 AAACGGGAGCGTCTAT-1\n",
       "Rp1    0                  0                  0                 \n",
       "Sox17  0                  0                  0                 \n",
       "Mrpl15 0                  0                  0                 "
      ]
     },
     "metadata": {},
     "output_type": "display_data"
    }
   ],
   "source": [
    "# Remove V1 columnsb\n",
    "park_tmp <- park_tmp[,-1]\n",
    "park_tmp[1:3,1:3]"
   ]
  },
  {
   "cell_type": "code",
   "execution_count": 12,
   "metadata": {},
   "outputs": [
    {
     "data": {
      "text/html": [
       "<table class=\"dataframe\">\n",
       "<caption>A matrix: 3 × 3 of type int</caption>\n",
       "<thead>\n",
       "\t<tr><th></th><th scope=col>AAACCTGAGATATGCA-1</th><th scope=col>AAACCTGGTTGTGGCC-1</th><th scope=col>AAACGGGAGCGTCTAT-1</th></tr>\n",
       "</thead>\n",
       "<tbody>\n",
       "\t<tr><th scope=row>Rp1</th><td>0</td><td>0</td><td>0</td></tr>\n",
       "\t<tr><th scope=row>Sox17</th><td>0</td><td>0</td><td>0</td></tr>\n",
       "\t<tr><th scope=row>Mrpl15</th><td>0</td><td>0</td><td>0</td></tr>\n",
       "</tbody>\n",
       "</table>\n"
      ],
      "text/latex": [
       "A matrix: 3 × 3 of type int\n",
       "\\begin{tabular}{r|lll}\n",
       "  & AAACCTGAGATATGCA-1 & AAACCTGGTTGTGGCC-1 & AAACGGGAGCGTCTAT-1\\\\\n",
       "\\hline\n",
       "\tRp1 & 0 & 0 & 0\\\\\n",
       "\tSox17 & 0 & 0 & 0\\\\\n",
       "\tMrpl15 & 0 & 0 & 0\\\\\n",
       "\\end{tabular}\n"
      ],
      "text/markdown": [
       "\n",
       "A matrix: 3 × 3 of type int\n",
       "\n",
       "| <!--/--> | AAACCTGAGATATGCA-1 | AAACCTGGTTGTGGCC-1 | AAACGGGAGCGTCTAT-1 |\n",
       "|---|---|---|---|\n",
       "| Rp1 | 0 | 0 | 0 |\n",
       "| Sox17 | 0 | 0 | 0 |\n",
       "| Mrpl15 | 0 | 0 | 0 |\n",
       "\n"
      ],
      "text/plain": [
       "       AAACCTGAGATATGCA-1 AAACCTGGTTGTGGCC-1 AAACGGGAGCGTCTAT-1\n",
       "Rp1    0                  0                  0                 \n",
       "Sox17  0                  0                  0                 \n",
       "Mrpl15 0                  0                  0                 "
      ]
     },
     "metadata": {},
     "output_type": "display_data"
    }
   ],
   "source": [
    "park_counts.m <- as.matrix(park_tmp)\n",
    "park_counts.m[1:3,1:3]"
   ]
  },
  {
   "cell_type": "markdown",
   "metadata": {},
   "source": [
    "# Load the bulk data to be deconvolved (Cracium)"
   ]
  },
  {
   "cell_type": "code",
   "execution_count": 13,
   "metadata": {},
   "outputs": [],
   "source": [
    "# load data to be deconvolved (craciun)\n",
    "path.to.data <- '/mnt/disk1/nbarkas/deconvolution_method/datasets/craciun_etal/raw/'\n",
    "files <- list.files(path.to.data)"
   ]
  },
  {
   "cell_type": "code",
   "execution_count": 14,
   "metadata": {},
   "outputs": [
    {
     "data": {
      "text/html": [
       "<style>\n",
       ".list-inline {list-style: none; margin:0; padding: 0}\n",
       ".list-inline>li {display: inline-block}\n",
       ".list-inline>li:not(:last-child)::after {content: \"\\00b7\"; padding: 0 .5ex}\n",
       "</style>\n",
       "<ol class=list-inline><li>'GSM1591197_Normalrep1.rawcounts.txt'</li><li>'GSM1591198_Normalrep2.rawcounts.txt'</li><li>'GSM1591199_Normalrep3.rawcounts.txt'</li><li>'GSM1591200_FA1dayrep1.rawcounts.txt'</li><li>'GSM1591201_FA1dayrep2.rawcounts.txt'</li><li>'GSM1591202_FA1dayrep3.rawcounts.txt'</li><li>'GSM1591203_FA2dayrep1.rawcounts.txt'</li><li>'GSM1591204_FA2dayrep2.rawcounts.txt'</li><li>'GSM1591205_FA2dayrep3.rawcounts.txt'</li><li>'GSM1591206_FA3dayrep1.rawcounts.txt'</li><li>'GSM1591207_FA3dayrep2.rawcounts.txt'</li><li>'GSM1591208_FA3dayrep3.rawcounts.txt'</li><li>'GSM1591209_FA7dayrep1.rawcounts.txt'</li><li>'GSM1591210_FA7dayrep2.rawcounts.txt'</li><li>'GSM1591211_FA7dayrep3.rawcounts.txt'</li><li>'GSM1591212_FA14dayrep1.rawcounts.txt'</li><li>'GSM1591213_FA14dayrep2.rawcounts.txt'</li><li>'GSM1591214_FA14dayrep3.rawcounts.txt'</li></ol>\n"
      ],
      "text/latex": [
       "\\begin{enumerate*}\n",
       "\\item 'GSM1591197\\_Normalrep1.rawcounts.txt'\n",
       "\\item 'GSM1591198\\_Normalrep2.rawcounts.txt'\n",
       "\\item 'GSM1591199\\_Normalrep3.rawcounts.txt'\n",
       "\\item 'GSM1591200\\_FA1dayrep1.rawcounts.txt'\n",
       "\\item 'GSM1591201\\_FA1dayrep2.rawcounts.txt'\n",
       "\\item 'GSM1591202\\_FA1dayrep3.rawcounts.txt'\n",
       "\\item 'GSM1591203\\_FA2dayrep1.rawcounts.txt'\n",
       "\\item 'GSM1591204\\_FA2dayrep2.rawcounts.txt'\n",
       "\\item 'GSM1591205\\_FA2dayrep3.rawcounts.txt'\n",
       "\\item 'GSM1591206\\_FA3dayrep1.rawcounts.txt'\n",
       "\\item 'GSM1591207\\_FA3dayrep2.rawcounts.txt'\n",
       "\\item 'GSM1591208\\_FA3dayrep3.rawcounts.txt'\n",
       "\\item 'GSM1591209\\_FA7dayrep1.rawcounts.txt'\n",
       "\\item 'GSM1591210\\_FA7dayrep2.rawcounts.txt'\n",
       "\\item 'GSM1591211\\_FA7dayrep3.rawcounts.txt'\n",
       "\\item 'GSM1591212\\_FA14dayrep1.rawcounts.txt'\n",
       "\\item 'GSM1591213\\_FA14dayrep2.rawcounts.txt'\n",
       "\\item 'GSM1591214\\_FA14dayrep3.rawcounts.txt'\n",
       "\\end{enumerate*}\n"
      ],
      "text/markdown": [
       "1. 'GSM1591197_Normalrep1.rawcounts.txt'\n",
       "2. 'GSM1591198_Normalrep2.rawcounts.txt'\n",
       "3. 'GSM1591199_Normalrep3.rawcounts.txt'\n",
       "4. 'GSM1591200_FA1dayrep1.rawcounts.txt'\n",
       "5. 'GSM1591201_FA1dayrep2.rawcounts.txt'\n",
       "6. 'GSM1591202_FA1dayrep3.rawcounts.txt'\n",
       "7. 'GSM1591203_FA2dayrep1.rawcounts.txt'\n",
       "8. 'GSM1591204_FA2dayrep2.rawcounts.txt'\n",
       "9. 'GSM1591205_FA2dayrep3.rawcounts.txt'\n",
       "10. 'GSM1591206_FA3dayrep1.rawcounts.txt'\n",
       "11. 'GSM1591207_FA3dayrep2.rawcounts.txt'\n",
       "12. 'GSM1591208_FA3dayrep3.rawcounts.txt'\n",
       "13. 'GSM1591209_FA7dayrep1.rawcounts.txt'\n",
       "14. 'GSM1591210_FA7dayrep2.rawcounts.txt'\n",
       "15. 'GSM1591211_FA7dayrep3.rawcounts.txt'\n",
       "16. 'GSM1591212_FA14dayrep1.rawcounts.txt'\n",
       "17. 'GSM1591213_FA14dayrep2.rawcounts.txt'\n",
       "18. 'GSM1591214_FA14dayrep3.rawcounts.txt'\n",
       "\n",
       "\n"
      ],
      "text/plain": [
       " [1] \"GSM1591197_Normalrep1.rawcounts.txt\" \n",
       " [2] \"GSM1591198_Normalrep2.rawcounts.txt\" \n",
       " [3] \"GSM1591199_Normalrep3.rawcounts.txt\" \n",
       " [4] \"GSM1591200_FA1dayrep1.rawcounts.txt\" \n",
       " [5] \"GSM1591201_FA1dayrep2.rawcounts.txt\" \n",
       " [6] \"GSM1591202_FA1dayrep3.rawcounts.txt\" \n",
       " [7] \"GSM1591203_FA2dayrep1.rawcounts.txt\" \n",
       " [8] \"GSM1591204_FA2dayrep2.rawcounts.txt\" \n",
       " [9] \"GSM1591205_FA2dayrep3.rawcounts.txt\" \n",
       "[10] \"GSM1591206_FA3dayrep1.rawcounts.txt\" \n",
       "[11] \"GSM1591207_FA3dayrep2.rawcounts.txt\" \n",
       "[12] \"GSM1591208_FA3dayrep3.rawcounts.txt\" \n",
       "[13] \"GSM1591209_FA7dayrep1.rawcounts.txt\" \n",
       "[14] \"GSM1591210_FA7dayrep2.rawcounts.txt\" \n",
       "[15] \"GSM1591211_FA7dayrep3.rawcounts.txt\" \n",
       "[16] \"GSM1591212_FA14dayrep1.rawcounts.txt\"\n",
       "[17] \"GSM1591213_FA14dayrep2.rawcounts.txt\"\n",
       "[18] \"GSM1591214_FA14dayrep3.rawcounts.txt\""
      ]
     },
     "metadata": {},
     "output_type": "display_data"
    }
   ],
   "source": [
    "files"
   ]
  },
  {
   "cell_type": "code",
   "execution_count": 15,
   "metadata": {},
   "outputs": [
    {
     "name": "stderr",
     "output_type": "stream",
     "text": [
      "Warning message:\n",
      "“replacing previous import ‘Rcpp::prompt’ by ‘utils::prompt’ when loading ‘nbHelpers’”\n",
      "Warning message:\n",
      "“replacing previous import ‘Rcpp::.DollarNames’ by ‘utils::.DollarNames’ when loading ‘nbHelpers’”\n",
      "Warning message:\n",
      "“replacing previous import ‘Matrix::tail’ by ‘utils::tail’ when loading ‘nbHelpers’”\n",
      "Warning message:\n",
      "“replacing previous import ‘Matrix::head’ by ‘utils::head’ when loading ‘nbHelpers’”\n"
     ]
    },
    {
     "data": {
      "text/html": [
       "<style>\n",
       ".dl-inline {width: auto; margin:0; padding: 0}\n",
       ".dl-inline>dt, .dl-inline>dd {float: none; width: auto; display: inline-block}\n",
       ".dl-inline>dt::after {content: \":\\0020\"; padding-right: .5ex}\n",
       ".dl-inline>dt:not(:first-of-type) {padding-left: .5ex}\n",
       "</style><dl class=dl-inline><dt>GSM1591197_Normalrep1</dt><dd>'GSM1591197_Normalrep1.rawcounts.txt'</dd><dt>GSM1591198_Normalrep2</dt><dd>'GSM1591198_Normalrep2.rawcounts.txt'</dd><dt>GSM1591199_Normalrep3</dt><dd>'GSM1591199_Normalrep3.rawcounts.txt'</dd><dt>GSM1591200_FA1dayrep1</dt><dd>'GSM1591200_FA1dayrep1.rawcounts.txt'</dd><dt>GSM1591201_FA1dayrep2</dt><dd>'GSM1591201_FA1dayrep2.rawcounts.txt'</dd><dt>GSM1591202_FA1dayrep3</dt><dd>'GSM1591202_FA1dayrep3.rawcounts.txt'</dd></dl>\n"
      ],
      "text/latex": [
       "\\begin{description*}\n",
       "\\item[GSM1591197\\textbackslash{}\\_Normalrep1] 'GSM1591197\\_Normalrep1.rawcounts.txt'\n",
       "\\item[GSM1591198\\textbackslash{}\\_Normalrep2] 'GSM1591198\\_Normalrep2.rawcounts.txt'\n",
       "\\item[GSM1591199\\textbackslash{}\\_Normalrep3] 'GSM1591199\\_Normalrep3.rawcounts.txt'\n",
       "\\item[GSM1591200\\textbackslash{}\\_FA1dayrep1] 'GSM1591200\\_FA1dayrep1.rawcounts.txt'\n",
       "\\item[GSM1591201\\textbackslash{}\\_FA1dayrep2] 'GSM1591201\\_FA1dayrep2.rawcounts.txt'\n",
       "\\item[GSM1591202\\textbackslash{}\\_FA1dayrep3] 'GSM1591202\\_FA1dayrep3.rawcounts.txt'\n",
       "\\end{description*}\n"
      ],
      "text/markdown": [
       "GSM1591197_Normalrep1\n",
       ":   'GSM1591197_Normalrep1.rawcounts.txt'GSM1591198_Normalrep2\n",
       ":   'GSM1591198_Normalrep2.rawcounts.txt'GSM1591199_Normalrep3\n",
       ":   'GSM1591199_Normalrep3.rawcounts.txt'GSM1591200_FA1dayrep1\n",
       ":   'GSM1591200_FA1dayrep1.rawcounts.txt'GSM1591201_FA1dayrep2\n",
       ":   'GSM1591201_FA1dayrep2.rawcounts.txt'GSM1591202_FA1dayrep3\n",
       ":   'GSM1591202_FA1dayrep3.rawcounts.txt'\n",
       "\n"
      ],
      "text/plain": [
       "                GSM1591197_Normalrep1                 GSM1591198_Normalrep2 \n",
       "\"GSM1591197_Normalrep1.rawcounts.txt\" \"GSM1591198_Normalrep2.rawcounts.txt\" \n",
       "                GSM1591199_Normalrep3                 GSM1591200_FA1dayrep1 \n",
       "\"GSM1591199_Normalrep3.rawcounts.txt\" \"GSM1591200_FA1dayrep1.rawcounts.txt\" \n",
       "                GSM1591201_FA1dayrep2                 GSM1591202_FA1dayrep3 \n",
       "\"GSM1591201_FA1dayrep2.rawcounts.txt\" \"GSM1591202_FA1dayrep3.rawcounts.txt\" "
      ]
     },
     "metadata": {},
     "output_type": "display_data"
    }
   ],
   "source": [
    "names(files) <- nbHelpers::strpart(files,'.',1,fixed=TRUE)\n",
    "head(files)"
   ]
  },
  {
   "cell_type": "code",
   "execution_count": 16,
   "metadata": {},
   "outputs": [
    {
     "data": {
      "text/html": [
       "<style>\n",
       ".list-inline {list-style: none; margin:0; padding: 0}\n",
       ".list-inline>li {display: inline-block}\n",
       ".list-inline>li:not(:last-child)::after {content: \"\\00b7\"; padding: 0 .5ex}\n",
       "</style>\n",
       "<ol class=list-inline><li>'/mnt/disk1/nbarkas/deconvolution_method/datasets/craciun_etal/raw/GSM1591197_Normalrep1.rawcounts.txt'</li><li>'/mnt/disk1/nbarkas/deconvolution_method/datasets/craciun_etal/raw/GSM1591198_Normalrep2.rawcounts.txt'</li><li>'/mnt/disk1/nbarkas/deconvolution_method/datasets/craciun_etal/raw/GSM1591199_Normalrep3.rawcounts.txt'</li><li>'/mnt/disk1/nbarkas/deconvolution_method/datasets/craciun_etal/raw/GSM1591200_FA1dayrep1.rawcounts.txt'</li><li>'/mnt/disk1/nbarkas/deconvolution_method/datasets/craciun_etal/raw/GSM1591201_FA1dayrep2.rawcounts.txt'</li><li>'/mnt/disk1/nbarkas/deconvolution_method/datasets/craciun_etal/raw/GSM1591202_FA1dayrep3.rawcounts.txt'</li></ol>\n"
      ],
      "text/latex": [
       "\\begin{enumerate*}\n",
       "\\item '/mnt/disk1/nbarkas/deconvolution\\_method/datasets/craciun\\_etal/raw/GSM1591197\\_Normalrep1.rawcounts.txt'\n",
       "\\item '/mnt/disk1/nbarkas/deconvolution\\_method/datasets/craciun\\_etal/raw/GSM1591198\\_Normalrep2.rawcounts.txt'\n",
       "\\item '/mnt/disk1/nbarkas/deconvolution\\_method/datasets/craciun\\_etal/raw/GSM1591199\\_Normalrep3.rawcounts.txt'\n",
       "\\item '/mnt/disk1/nbarkas/deconvolution\\_method/datasets/craciun\\_etal/raw/GSM1591200\\_FA1dayrep1.rawcounts.txt'\n",
       "\\item '/mnt/disk1/nbarkas/deconvolution\\_method/datasets/craciun\\_etal/raw/GSM1591201\\_FA1dayrep2.rawcounts.txt'\n",
       "\\item '/mnt/disk1/nbarkas/deconvolution\\_method/datasets/craciun\\_etal/raw/GSM1591202\\_FA1dayrep3.rawcounts.txt'\n",
       "\\end{enumerate*}\n"
      ],
      "text/markdown": [
       "1. '/mnt/disk1/nbarkas/deconvolution_method/datasets/craciun_etal/raw/GSM1591197_Normalrep1.rawcounts.txt'\n",
       "2. '/mnt/disk1/nbarkas/deconvolution_method/datasets/craciun_etal/raw/GSM1591198_Normalrep2.rawcounts.txt'\n",
       "3. '/mnt/disk1/nbarkas/deconvolution_method/datasets/craciun_etal/raw/GSM1591199_Normalrep3.rawcounts.txt'\n",
       "4. '/mnt/disk1/nbarkas/deconvolution_method/datasets/craciun_etal/raw/GSM1591200_FA1dayrep1.rawcounts.txt'\n",
       "5. '/mnt/disk1/nbarkas/deconvolution_method/datasets/craciun_etal/raw/GSM1591201_FA1dayrep2.rawcounts.txt'\n",
       "6. '/mnt/disk1/nbarkas/deconvolution_method/datasets/craciun_etal/raw/GSM1591202_FA1dayrep3.rawcounts.txt'\n",
       "\n",
       "\n"
      ],
      "text/plain": [
       "[1] \"/mnt/disk1/nbarkas/deconvolution_method/datasets/craciun_etal/raw/GSM1591197_Normalrep1.rawcounts.txt\"\n",
       "[2] \"/mnt/disk1/nbarkas/deconvolution_method/datasets/craciun_etal/raw/GSM1591198_Normalrep2.rawcounts.txt\"\n",
       "[3] \"/mnt/disk1/nbarkas/deconvolution_method/datasets/craciun_etal/raw/GSM1591199_Normalrep3.rawcounts.txt\"\n",
       "[4] \"/mnt/disk1/nbarkas/deconvolution_method/datasets/craciun_etal/raw/GSM1591200_FA1dayrep1.rawcounts.txt\"\n",
       "[5] \"/mnt/disk1/nbarkas/deconvolution_method/datasets/craciun_etal/raw/GSM1591201_FA1dayrep2.rawcounts.txt\"\n",
       "[6] \"/mnt/disk1/nbarkas/deconvolution_method/datasets/craciun_etal/raw/GSM1591202_FA1dayrep3.rawcounts.txt\""
      ]
     },
     "metadata": {},
     "output_type": "display_data"
    }
   ],
   "source": [
    "full.files <- paste0(path.to.data, files)\n",
    "head(full.files)"
   ]
  },
  {
   "cell_type": "code",
   "execution_count": 17,
   "metadata": {},
   "outputs": [
    {
     "data": {
      "text/html": [
       "<style>\n",
       ".dl-inline {width: auto; margin:0; padding: 0}\n",
       ".dl-inline>dt, .dl-inline>dd {float: none; width: auto; display: inline-block}\n",
       ".dl-inline>dt::after {content: \":\\0020\"; padding-right: .5ex}\n",
       ".dl-inline>dt:not(:first-of-type) {padding-left: .5ex}\n",
       "</style><dl class=dl-inline><dt>GSM1591197_Normalrep1</dt><dd>'/mnt/disk1/nbarkas/deconvolution_method/datasets/craciun_etal/raw/GSM1591197_Normalrep1.rawcounts.txt'</dd><dt>GSM1591198_Normalrep2</dt><dd>'/mnt/disk1/nbarkas/deconvolution_method/datasets/craciun_etal/raw/GSM1591198_Normalrep2.rawcounts.txt'</dd><dt>GSM1591199_Normalrep3</dt><dd>'/mnt/disk1/nbarkas/deconvolution_method/datasets/craciun_etal/raw/GSM1591199_Normalrep3.rawcounts.txt'</dd><dt>GSM1591200_FA1dayrep1</dt><dd>'/mnt/disk1/nbarkas/deconvolution_method/datasets/craciun_etal/raw/GSM1591200_FA1dayrep1.rawcounts.txt'</dd><dt>GSM1591201_FA1dayrep2</dt><dd>'/mnt/disk1/nbarkas/deconvolution_method/datasets/craciun_etal/raw/GSM1591201_FA1dayrep2.rawcounts.txt'</dd><dt>GSM1591202_FA1dayrep3</dt><dd>'/mnt/disk1/nbarkas/deconvolution_method/datasets/craciun_etal/raw/GSM1591202_FA1dayrep3.rawcounts.txt'</dd><dt>GSM1591203_FA2dayrep1</dt><dd>'/mnt/disk1/nbarkas/deconvolution_method/datasets/craciun_etal/raw/GSM1591203_FA2dayrep1.rawcounts.txt'</dd><dt>GSM1591204_FA2dayrep2</dt><dd>'/mnt/disk1/nbarkas/deconvolution_method/datasets/craciun_etal/raw/GSM1591204_FA2dayrep2.rawcounts.txt'</dd><dt>GSM1591205_FA2dayrep3</dt><dd>'/mnt/disk1/nbarkas/deconvolution_method/datasets/craciun_etal/raw/GSM1591205_FA2dayrep3.rawcounts.txt'</dd><dt>GSM1591206_FA3dayrep1</dt><dd>'/mnt/disk1/nbarkas/deconvolution_method/datasets/craciun_etal/raw/GSM1591206_FA3dayrep1.rawcounts.txt'</dd><dt>GSM1591207_FA3dayrep2</dt><dd>'/mnt/disk1/nbarkas/deconvolution_method/datasets/craciun_etal/raw/GSM1591207_FA3dayrep2.rawcounts.txt'</dd><dt>GSM1591208_FA3dayrep3</dt><dd>'/mnt/disk1/nbarkas/deconvolution_method/datasets/craciun_etal/raw/GSM1591208_FA3dayrep3.rawcounts.txt'</dd><dt>GSM1591209_FA7dayrep1</dt><dd>'/mnt/disk1/nbarkas/deconvolution_method/datasets/craciun_etal/raw/GSM1591209_FA7dayrep1.rawcounts.txt'</dd><dt>GSM1591210_FA7dayrep2</dt><dd>'/mnt/disk1/nbarkas/deconvolution_method/datasets/craciun_etal/raw/GSM1591210_FA7dayrep2.rawcounts.txt'</dd><dt>GSM1591211_FA7dayrep3</dt><dd>'/mnt/disk1/nbarkas/deconvolution_method/datasets/craciun_etal/raw/GSM1591211_FA7dayrep3.rawcounts.txt'</dd><dt>GSM1591212_FA14dayrep1</dt><dd>'/mnt/disk1/nbarkas/deconvolution_method/datasets/craciun_etal/raw/GSM1591212_FA14dayrep1.rawcounts.txt'</dd><dt>GSM1591213_FA14dayrep2</dt><dd>'/mnt/disk1/nbarkas/deconvolution_method/datasets/craciun_etal/raw/GSM1591213_FA14dayrep2.rawcounts.txt'</dd><dt>GSM1591214_FA14dayrep3</dt><dd>'/mnt/disk1/nbarkas/deconvolution_method/datasets/craciun_etal/raw/GSM1591214_FA14dayrep3.rawcounts.txt'</dd></dl>\n"
      ],
      "text/latex": [
       "\\begin{description*}\n",
       "\\item[GSM1591197\\textbackslash{}\\_Normalrep1] '/mnt/disk1/nbarkas/deconvolution\\_method/datasets/craciun\\_etal/raw/GSM1591197\\_Normalrep1.rawcounts.txt'\n",
       "\\item[GSM1591198\\textbackslash{}\\_Normalrep2] '/mnt/disk1/nbarkas/deconvolution\\_method/datasets/craciun\\_etal/raw/GSM1591198\\_Normalrep2.rawcounts.txt'\n",
       "\\item[GSM1591199\\textbackslash{}\\_Normalrep3] '/mnt/disk1/nbarkas/deconvolution\\_method/datasets/craciun\\_etal/raw/GSM1591199\\_Normalrep3.rawcounts.txt'\n",
       "\\item[GSM1591200\\textbackslash{}\\_FA1dayrep1] '/mnt/disk1/nbarkas/deconvolution\\_method/datasets/craciun\\_etal/raw/GSM1591200\\_FA1dayrep1.rawcounts.txt'\n",
       "\\item[GSM1591201\\textbackslash{}\\_FA1dayrep2] '/mnt/disk1/nbarkas/deconvolution\\_method/datasets/craciun\\_etal/raw/GSM1591201\\_FA1dayrep2.rawcounts.txt'\n",
       "\\item[GSM1591202\\textbackslash{}\\_FA1dayrep3] '/mnt/disk1/nbarkas/deconvolution\\_method/datasets/craciun\\_etal/raw/GSM1591202\\_FA1dayrep3.rawcounts.txt'\n",
       "\\item[GSM1591203\\textbackslash{}\\_FA2dayrep1] '/mnt/disk1/nbarkas/deconvolution\\_method/datasets/craciun\\_etal/raw/GSM1591203\\_FA2dayrep1.rawcounts.txt'\n",
       "\\item[GSM1591204\\textbackslash{}\\_FA2dayrep2] '/mnt/disk1/nbarkas/deconvolution\\_method/datasets/craciun\\_etal/raw/GSM1591204\\_FA2dayrep2.rawcounts.txt'\n",
       "\\item[GSM1591205\\textbackslash{}\\_FA2dayrep3] '/mnt/disk1/nbarkas/deconvolution\\_method/datasets/craciun\\_etal/raw/GSM1591205\\_FA2dayrep3.rawcounts.txt'\n",
       "\\item[GSM1591206\\textbackslash{}\\_FA3dayrep1] '/mnt/disk1/nbarkas/deconvolution\\_method/datasets/craciun\\_etal/raw/GSM1591206\\_FA3dayrep1.rawcounts.txt'\n",
       "\\item[GSM1591207\\textbackslash{}\\_FA3dayrep2] '/mnt/disk1/nbarkas/deconvolution\\_method/datasets/craciun\\_etal/raw/GSM1591207\\_FA3dayrep2.rawcounts.txt'\n",
       "\\item[GSM1591208\\textbackslash{}\\_FA3dayrep3] '/mnt/disk1/nbarkas/deconvolution\\_method/datasets/craciun\\_etal/raw/GSM1591208\\_FA3dayrep3.rawcounts.txt'\n",
       "\\item[GSM1591209\\textbackslash{}\\_FA7dayrep1] '/mnt/disk1/nbarkas/deconvolution\\_method/datasets/craciun\\_etal/raw/GSM1591209\\_FA7dayrep1.rawcounts.txt'\n",
       "\\item[GSM1591210\\textbackslash{}\\_FA7dayrep2] '/mnt/disk1/nbarkas/deconvolution\\_method/datasets/craciun\\_etal/raw/GSM1591210\\_FA7dayrep2.rawcounts.txt'\n",
       "\\item[GSM1591211\\textbackslash{}\\_FA7dayrep3] '/mnt/disk1/nbarkas/deconvolution\\_method/datasets/craciun\\_etal/raw/GSM1591211\\_FA7dayrep3.rawcounts.txt'\n",
       "\\item[GSM1591212\\textbackslash{}\\_FA14dayrep1] '/mnt/disk1/nbarkas/deconvolution\\_method/datasets/craciun\\_etal/raw/GSM1591212\\_FA14dayrep1.rawcounts.txt'\n",
       "\\item[GSM1591213\\textbackslash{}\\_FA14dayrep2] '/mnt/disk1/nbarkas/deconvolution\\_method/datasets/craciun\\_etal/raw/GSM1591213\\_FA14dayrep2.rawcounts.txt'\n",
       "\\item[GSM1591214\\textbackslash{}\\_FA14dayrep3] '/mnt/disk1/nbarkas/deconvolution\\_method/datasets/craciun\\_etal/raw/GSM1591214\\_FA14dayrep3.rawcounts.txt'\n",
       "\\end{description*}\n"
      ],
      "text/markdown": [
       "GSM1591197_Normalrep1\n",
       ":   '/mnt/disk1/nbarkas/deconvolution_method/datasets/craciun_etal/raw/GSM1591197_Normalrep1.rawcounts.txt'GSM1591198_Normalrep2\n",
       ":   '/mnt/disk1/nbarkas/deconvolution_method/datasets/craciun_etal/raw/GSM1591198_Normalrep2.rawcounts.txt'GSM1591199_Normalrep3\n",
       ":   '/mnt/disk1/nbarkas/deconvolution_method/datasets/craciun_etal/raw/GSM1591199_Normalrep3.rawcounts.txt'GSM1591200_FA1dayrep1\n",
       ":   '/mnt/disk1/nbarkas/deconvolution_method/datasets/craciun_etal/raw/GSM1591200_FA1dayrep1.rawcounts.txt'GSM1591201_FA1dayrep2\n",
       ":   '/mnt/disk1/nbarkas/deconvolution_method/datasets/craciun_etal/raw/GSM1591201_FA1dayrep2.rawcounts.txt'GSM1591202_FA1dayrep3\n",
       ":   '/mnt/disk1/nbarkas/deconvolution_method/datasets/craciun_etal/raw/GSM1591202_FA1dayrep3.rawcounts.txt'GSM1591203_FA2dayrep1\n",
       ":   '/mnt/disk1/nbarkas/deconvolution_method/datasets/craciun_etal/raw/GSM1591203_FA2dayrep1.rawcounts.txt'GSM1591204_FA2dayrep2\n",
       ":   '/mnt/disk1/nbarkas/deconvolution_method/datasets/craciun_etal/raw/GSM1591204_FA2dayrep2.rawcounts.txt'GSM1591205_FA2dayrep3\n",
       ":   '/mnt/disk1/nbarkas/deconvolution_method/datasets/craciun_etal/raw/GSM1591205_FA2dayrep3.rawcounts.txt'GSM1591206_FA3dayrep1\n",
       ":   '/mnt/disk1/nbarkas/deconvolution_method/datasets/craciun_etal/raw/GSM1591206_FA3dayrep1.rawcounts.txt'GSM1591207_FA3dayrep2\n",
       ":   '/mnt/disk1/nbarkas/deconvolution_method/datasets/craciun_etal/raw/GSM1591207_FA3dayrep2.rawcounts.txt'GSM1591208_FA3dayrep3\n",
       ":   '/mnt/disk1/nbarkas/deconvolution_method/datasets/craciun_etal/raw/GSM1591208_FA3dayrep3.rawcounts.txt'GSM1591209_FA7dayrep1\n",
       ":   '/mnt/disk1/nbarkas/deconvolution_method/datasets/craciun_etal/raw/GSM1591209_FA7dayrep1.rawcounts.txt'GSM1591210_FA7dayrep2\n",
       ":   '/mnt/disk1/nbarkas/deconvolution_method/datasets/craciun_etal/raw/GSM1591210_FA7dayrep2.rawcounts.txt'GSM1591211_FA7dayrep3\n",
       ":   '/mnt/disk1/nbarkas/deconvolution_method/datasets/craciun_etal/raw/GSM1591211_FA7dayrep3.rawcounts.txt'GSM1591212_FA14dayrep1\n",
       ":   '/mnt/disk1/nbarkas/deconvolution_method/datasets/craciun_etal/raw/GSM1591212_FA14dayrep1.rawcounts.txt'GSM1591213_FA14dayrep2\n",
       ":   '/mnt/disk1/nbarkas/deconvolution_method/datasets/craciun_etal/raw/GSM1591213_FA14dayrep2.rawcounts.txt'GSM1591214_FA14dayrep3\n",
       ":   '/mnt/disk1/nbarkas/deconvolution_method/datasets/craciun_etal/raw/GSM1591214_FA14dayrep3.rawcounts.txt'\n",
       "\n"
      ],
      "text/plain": [
       "                                                                                   GSM1591197_Normalrep1 \n",
       " \"/mnt/disk1/nbarkas/deconvolution_method/datasets/craciun_etal/raw/GSM1591197_Normalrep1.rawcounts.txt\" \n",
       "                                                                                   GSM1591198_Normalrep2 \n",
       " \"/mnt/disk1/nbarkas/deconvolution_method/datasets/craciun_etal/raw/GSM1591198_Normalrep2.rawcounts.txt\" \n",
       "                                                                                   GSM1591199_Normalrep3 \n",
       " \"/mnt/disk1/nbarkas/deconvolution_method/datasets/craciun_etal/raw/GSM1591199_Normalrep3.rawcounts.txt\" \n",
       "                                                                                   GSM1591200_FA1dayrep1 \n",
       " \"/mnt/disk1/nbarkas/deconvolution_method/datasets/craciun_etal/raw/GSM1591200_FA1dayrep1.rawcounts.txt\" \n",
       "                                                                                   GSM1591201_FA1dayrep2 \n",
       " \"/mnt/disk1/nbarkas/deconvolution_method/datasets/craciun_etal/raw/GSM1591201_FA1dayrep2.rawcounts.txt\" \n",
       "                                                                                   GSM1591202_FA1dayrep3 \n",
       " \"/mnt/disk1/nbarkas/deconvolution_method/datasets/craciun_etal/raw/GSM1591202_FA1dayrep3.rawcounts.txt\" \n",
       "                                                                                   GSM1591203_FA2dayrep1 \n",
       " \"/mnt/disk1/nbarkas/deconvolution_method/datasets/craciun_etal/raw/GSM1591203_FA2dayrep1.rawcounts.txt\" \n",
       "                                                                                   GSM1591204_FA2dayrep2 \n",
       " \"/mnt/disk1/nbarkas/deconvolution_method/datasets/craciun_etal/raw/GSM1591204_FA2dayrep2.rawcounts.txt\" \n",
       "                                                                                   GSM1591205_FA2dayrep3 \n",
       " \"/mnt/disk1/nbarkas/deconvolution_method/datasets/craciun_etal/raw/GSM1591205_FA2dayrep3.rawcounts.txt\" \n",
       "                                                                                   GSM1591206_FA3dayrep1 \n",
       " \"/mnt/disk1/nbarkas/deconvolution_method/datasets/craciun_etal/raw/GSM1591206_FA3dayrep1.rawcounts.txt\" \n",
       "                                                                                   GSM1591207_FA3dayrep2 \n",
       " \"/mnt/disk1/nbarkas/deconvolution_method/datasets/craciun_etal/raw/GSM1591207_FA3dayrep2.rawcounts.txt\" \n",
       "                                                                                   GSM1591208_FA3dayrep3 \n",
       " \"/mnt/disk1/nbarkas/deconvolution_method/datasets/craciun_etal/raw/GSM1591208_FA3dayrep3.rawcounts.txt\" \n",
       "                                                                                   GSM1591209_FA7dayrep1 \n",
       " \"/mnt/disk1/nbarkas/deconvolution_method/datasets/craciun_etal/raw/GSM1591209_FA7dayrep1.rawcounts.txt\" \n",
       "                                                                                   GSM1591210_FA7dayrep2 \n",
       " \"/mnt/disk1/nbarkas/deconvolution_method/datasets/craciun_etal/raw/GSM1591210_FA7dayrep2.rawcounts.txt\" \n",
       "                                                                                   GSM1591211_FA7dayrep3 \n",
       " \"/mnt/disk1/nbarkas/deconvolution_method/datasets/craciun_etal/raw/GSM1591211_FA7dayrep3.rawcounts.txt\" \n",
       "                                                                                  GSM1591212_FA14dayrep1 \n",
       "\"/mnt/disk1/nbarkas/deconvolution_method/datasets/craciun_etal/raw/GSM1591212_FA14dayrep1.rawcounts.txt\" \n",
       "                                                                                  GSM1591213_FA14dayrep2 \n",
       "\"/mnt/disk1/nbarkas/deconvolution_method/datasets/craciun_etal/raw/GSM1591213_FA14dayrep2.rawcounts.txt\" \n",
       "                                                                                  GSM1591214_FA14dayrep3 \n",
       "\"/mnt/disk1/nbarkas/deconvolution_method/datasets/craciun_etal/raw/GSM1591214_FA14dayrep3.rawcounts.txt\" "
      ]
     },
     "metadata": {},
     "output_type": "display_data"
    }
   ],
   "source": [
    "names(full.files) <- names(files)\n",
    "full.files"
   ]
  },
  {
   "cell_type": "code",
   "execution_count": 18,
   "metadata": {},
   "outputs": [],
   "source": [
    "raw_files_read <- lapply(full.files, function(f) {read.table(f, header=TRUE)})"
   ]
  },
  {
   "cell_type": "code",
   "execution_count": 19,
   "metadata": {},
   "outputs": [
    {
     "name": "stdout",
     "output_type": "stream",
     "text": [
      "List of 18\n",
      " $ GSM1591197_Normalrep1 :'data.frame':\t37996 obs. of  2 variables:\n",
      " $ GSM1591198_Normalrep2 :'data.frame':\t37996 obs. of  2 variables:\n",
      " $ GSM1591199_Normalrep3 :'data.frame':\t37996 obs. of  2 variables:\n",
      " $ GSM1591200_FA1dayrep1 :'data.frame':\t37996 obs. of  2 variables:\n",
      " $ GSM1591201_FA1dayrep2 :'data.frame':\t37996 obs. of  2 variables:\n",
      " $ GSM1591202_FA1dayrep3 :'data.frame':\t37996 obs. of  2 variables:\n",
      " $ GSM1591203_FA2dayrep1 :'data.frame':\t37996 obs. of  2 variables:\n",
      " $ GSM1591204_FA2dayrep2 :'data.frame':\t37996 obs. of  2 variables:\n",
      " $ GSM1591205_FA2dayrep3 :'data.frame':\t37996 obs. of  2 variables:\n",
      " $ GSM1591206_FA3dayrep1 :'data.frame':\t37996 obs. of  2 variables:\n",
      " $ GSM1591207_FA3dayrep2 :'data.frame':\t37996 obs. of  2 variables:\n",
      " $ GSM1591208_FA3dayrep3 :'data.frame':\t37996 obs. of  2 variables:\n",
      " $ GSM1591209_FA7dayrep1 :'data.frame':\t37996 obs. of  2 variables:\n",
      " $ GSM1591210_FA7dayrep2 :'data.frame':\t37996 obs. of  2 variables:\n",
      " $ GSM1591211_FA7dayrep3 :'data.frame':\t37996 obs. of  2 variables:\n",
      " $ GSM1591212_FA14dayrep1:'data.frame':\t37996 obs. of  2 variables:\n",
      " $ GSM1591213_FA14dayrep2:'data.frame':\t37996 obs. of  2 variables:\n",
      " $ GSM1591214_FA14dayrep3:'data.frame':\t37996 obs. of  2 variables:\n"
     ]
    }
   ],
   "source": [
    "# Inspect loaded data\n",
    "str(raw_files_read,1)"
   ]
  },
  {
   "cell_type": "code",
   "execution_count": 20,
   "metadata": {},
   "outputs": [
    {
     "data": {
      "text/html": [
       "<table class=\"dataframe\">\n",
       "<caption>A data.frame: 6 × 2</caption>\n",
       "<thead>\n",
       "\t<tr><th></th><th scope=col>ensemblid</th><th scope=col>counts</th></tr>\n",
       "\t<tr><th></th><th scope=col>&lt;chr&gt;</th><th scope=col>&lt;int&gt;</th></tr>\n",
       "</thead>\n",
       "<tbody>\n",
       "\t<tr><th scope=row>1</th><td>ENSMUSG00000000001</td><td>456</td></tr>\n",
       "\t<tr><th scope=row>2</th><td>ENSMUSG00000000003</td><td>  0</td></tr>\n",
       "\t<tr><th scope=row>3</th><td>ENSMUSG00000000028</td><td>  8</td></tr>\n",
       "\t<tr><th scope=row>4</th><td>ENSMUSG00000000031</td><td>  0</td></tr>\n",
       "\t<tr><th scope=row>5</th><td>ENSMUSG00000000037</td><td> 26</td></tr>\n",
       "\t<tr><th scope=row>6</th><td>ENSMUSG00000000049</td><td> 27</td></tr>\n",
       "</tbody>\n",
       "</table>\n"
      ],
      "text/latex": [
       "A data.frame: 6 × 2\n",
       "\\begin{tabular}{r|ll}\n",
       "  & ensemblid & counts\\\\\n",
       "  & <chr> & <int>\\\\\n",
       "\\hline\n",
       "\t1 & ENSMUSG00000000001 & 456\\\\\n",
       "\t2 & ENSMUSG00000000003 &   0\\\\\n",
       "\t3 & ENSMUSG00000000028 &   8\\\\\n",
       "\t4 & ENSMUSG00000000031 &   0\\\\\n",
       "\t5 & ENSMUSG00000000037 &  26\\\\\n",
       "\t6 & ENSMUSG00000000049 &  27\\\\\n",
       "\\end{tabular}\n"
      ],
      "text/markdown": [
       "\n",
       "A data.frame: 6 × 2\n",
       "\n",
       "| <!--/--> | ensemblid &lt;chr&gt; | counts &lt;int&gt; |\n",
       "|---|---|---|\n",
       "| 1 | ENSMUSG00000000001 | 456 |\n",
       "| 2 | ENSMUSG00000000003 |   0 |\n",
       "| 3 | ENSMUSG00000000028 |   8 |\n",
       "| 4 | ENSMUSG00000000031 |   0 |\n",
       "| 5 | ENSMUSG00000000037 |  26 |\n",
       "| 6 | ENSMUSG00000000049 |  27 |\n",
       "\n"
      ],
      "text/plain": [
       "  ensemblid          counts\n",
       "1 ENSMUSG00000000001 456   \n",
       "2 ENSMUSG00000000003   0   \n",
       "3 ENSMUSG00000000028   8   \n",
       "4 ENSMUSG00000000031   0   \n",
       "5 ENSMUSG00000000037  26   \n",
       "6 ENSMUSG00000000049  27   "
      ]
     },
     "metadata": {},
     "output_type": "display_data"
    }
   ],
   "source": [
    "head(raw_files_read[[1]])"
   ]
  },
  {
   "cell_type": "code",
   "execution_count": 21,
   "metadata": {},
   "outputs": [],
   "source": [
    "# check that all genes are in the same order\n",
    "gene_names <- lapply(raw_files_read, function(x){x$ensemblid})"
   ]
  },
  {
   "cell_type": "code",
   "execution_count": 22,
   "metadata": {},
   "outputs": [
    {
     "data": {
      "text/html": [
       "TRUE"
      ],
      "text/latex": [
       "TRUE"
      ],
      "text/markdown": [
       "TRUE"
      ],
      "text/plain": [
       "[1] TRUE"
      ]
     },
     "metadata": {},
     "output_type": "display_data"
    }
   ],
   "source": [
    "all(unlist(lapply(seq(1,length(gene_names)), function(i) { all(gene_names[[1]] == gene_names[[i]]) })))"
   ]
  },
  {
   "cell_type": "code",
   "execution_count": 23,
   "metadata": {},
   "outputs": [],
   "source": [
    "# make data.frame\n",
    "craciun_tmp <- do.call(cbind,lapply(raw_files_read, function(x) {x[2]}))\n",
    "rownames(craciun_tmp) <- raw_files_read[[1]]$ensemblid\n",
    "colnames(craciun_tmp) <- names(raw_files_read)\n",
    "craciun_counts <- as.matrix(craciun_tmp)"
   ]
  },
  {
   "cell_type": "code",
   "execution_count": 24,
   "metadata": {},
   "outputs": [
    {
     "data": {
      "text/html": [
       "<table class=\"dataframe\">\n",
       "<caption>A matrix: 4 × 4 of type int</caption>\n",
       "<thead>\n",
       "\t<tr><th></th><th scope=col>GSM1591197_Normalrep1</th><th scope=col>GSM1591198_Normalrep2</th><th scope=col>GSM1591199_Normalrep3</th><th scope=col>GSM1591200_FA1dayrep1</th></tr>\n",
       "</thead>\n",
       "<tbody>\n",
       "\t<tr><th scope=row>ENSMUSG00000000001</th><td>456</td><td>1797</td><td>451</td><td>2291</td></tr>\n",
       "\t<tr><th scope=row>ENSMUSG00000000003</th><td>  0</td><td>   0</td><td>  0</td><td>   0</td></tr>\n",
       "\t<tr><th scope=row>ENSMUSG00000000028</th><td>  8</td><td>   7</td><td>  0</td><td>  38</td></tr>\n",
       "\t<tr><th scope=row>ENSMUSG00000000031</th><td>  0</td><td>   0</td><td>  0</td><td>  10</td></tr>\n",
       "</tbody>\n",
       "</table>\n"
      ],
      "text/latex": [
       "A matrix: 4 × 4 of type int\n",
       "\\begin{tabular}{r|llll}\n",
       "  & GSM1591197\\_Normalrep1 & GSM1591198\\_Normalrep2 & GSM1591199\\_Normalrep3 & GSM1591200\\_FA1dayrep1\\\\\n",
       "\\hline\n",
       "\tENSMUSG00000000001 & 456 & 1797 & 451 & 2291\\\\\n",
       "\tENSMUSG00000000003 &   0 &    0 &   0 &    0\\\\\n",
       "\tENSMUSG00000000028 &   8 &    7 &   0 &   38\\\\\n",
       "\tENSMUSG00000000031 &   0 &    0 &   0 &   10\\\\\n",
       "\\end{tabular}\n"
      ],
      "text/markdown": [
       "\n",
       "A matrix: 4 × 4 of type int\n",
       "\n",
       "| <!--/--> | GSM1591197_Normalrep1 | GSM1591198_Normalrep2 | GSM1591199_Normalrep3 | GSM1591200_FA1dayrep1 |\n",
       "|---|---|---|---|---|\n",
       "| ENSMUSG00000000001 | 456 | 1797 | 451 | 2291 |\n",
       "| ENSMUSG00000000003 |   0 |    0 |   0 |    0 |\n",
       "| ENSMUSG00000000028 |   8 |    7 |   0 |   38 |\n",
       "| ENSMUSG00000000031 |   0 |    0 |   0 |   10 |\n",
       "\n"
      ],
      "text/plain": [
       "                   GSM1591197_Normalrep1 GSM1591198_Normalrep2\n",
       "ENSMUSG00000000001 456                   1797                 \n",
       "ENSMUSG00000000003   0                      0                 \n",
       "ENSMUSG00000000028   8                      7                 \n",
       "ENSMUSG00000000031   0                      0                 \n",
       "                   GSM1591199_Normalrep3 GSM1591200_FA1dayrep1\n",
       "ENSMUSG00000000001 451                   2291                 \n",
       "ENSMUSG00000000003   0                      0                 \n",
       "ENSMUSG00000000028   0                     38                 \n",
       "ENSMUSG00000000031   0                     10                 "
      ]
     },
     "metadata": {},
     "output_type": "display_data"
    }
   ],
   "source": [
    "craciun_counts[1:4,1:4]"
   ]
  },
  {
   "cell_type": "code",
   "execution_count": 25,
   "metadata": {},
   "outputs": [],
   "source": [
    "n0 <- colnames(craciun_counts)\n",
    "n1 <- nbHelpers::strpart(n0, '_',2)\n",
    "replicate <- nbHelpers::strpart(n1, 'rep',2)"
   ]
  },
  {
   "cell_type": "code",
   "execution_count": 26,
   "metadata": {},
   "outputs": [
    {
     "data": {
      "text/html": [
       "<style>\n",
       ".list-inline {list-style: none; margin:0; padding: 0}\n",
       ".list-inline>li {display: inline-block}\n",
       ".list-inline>li:not(:last-child)::after {content: \"\\00b7\"; padding: 0 .5ex}\n",
       "</style>\n",
       "<ol class=list-inline><li>'GSM1591197_Normalrep1'</li><li>'GSM1591198_Normalrep2'</li><li>'GSM1591199_Normalrep3'</li><li>'GSM1591200_FA1dayrep1'</li><li>'GSM1591201_FA1dayrep2'</li><li>'GSM1591202_FA1dayrep3'</li><li>'GSM1591203_FA2dayrep1'</li><li>'GSM1591204_FA2dayrep2'</li><li>'GSM1591205_FA2dayrep3'</li><li>'GSM1591206_FA3dayrep1'</li><li>'GSM1591207_FA3dayrep2'</li><li>'GSM1591208_FA3dayrep3'</li><li>'GSM1591209_FA7dayrep1'</li><li>'GSM1591210_FA7dayrep2'</li><li>'GSM1591211_FA7dayrep3'</li><li>'GSM1591212_FA14dayrep1'</li><li>'GSM1591213_FA14dayrep2'</li><li>'GSM1591214_FA14dayrep3'</li></ol>\n"
      ],
      "text/latex": [
       "\\begin{enumerate*}\n",
       "\\item 'GSM1591197\\_Normalrep1'\n",
       "\\item 'GSM1591198\\_Normalrep2'\n",
       "\\item 'GSM1591199\\_Normalrep3'\n",
       "\\item 'GSM1591200\\_FA1dayrep1'\n",
       "\\item 'GSM1591201\\_FA1dayrep2'\n",
       "\\item 'GSM1591202\\_FA1dayrep3'\n",
       "\\item 'GSM1591203\\_FA2dayrep1'\n",
       "\\item 'GSM1591204\\_FA2dayrep2'\n",
       "\\item 'GSM1591205\\_FA2dayrep3'\n",
       "\\item 'GSM1591206\\_FA3dayrep1'\n",
       "\\item 'GSM1591207\\_FA3dayrep2'\n",
       "\\item 'GSM1591208\\_FA3dayrep3'\n",
       "\\item 'GSM1591209\\_FA7dayrep1'\n",
       "\\item 'GSM1591210\\_FA7dayrep2'\n",
       "\\item 'GSM1591211\\_FA7dayrep3'\n",
       "\\item 'GSM1591212\\_FA14dayrep1'\n",
       "\\item 'GSM1591213\\_FA14dayrep2'\n",
       "\\item 'GSM1591214\\_FA14dayrep3'\n",
       "\\end{enumerate*}\n"
      ],
      "text/markdown": [
       "1. 'GSM1591197_Normalrep1'\n",
       "2. 'GSM1591198_Normalrep2'\n",
       "3. 'GSM1591199_Normalrep3'\n",
       "4. 'GSM1591200_FA1dayrep1'\n",
       "5. 'GSM1591201_FA1dayrep2'\n",
       "6. 'GSM1591202_FA1dayrep3'\n",
       "7. 'GSM1591203_FA2dayrep1'\n",
       "8. 'GSM1591204_FA2dayrep2'\n",
       "9. 'GSM1591205_FA2dayrep3'\n",
       "10. 'GSM1591206_FA3dayrep1'\n",
       "11. 'GSM1591207_FA3dayrep2'\n",
       "12. 'GSM1591208_FA3dayrep3'\n",
       "13. 'GSM1591209_FA7dayrep1'\n",
       "14. 'GSM1591210_FA7dayrep2'\n",
       "15. 'GSM1591211_FA7dayrep3'\n",
       "16. 'GSM1591212_FA14dayrep1'\n",
       "17. 'GSM1591213_FA14dayrep2'\n",
       "18. 'GSM1591214_FA14dayrep3'\n",
       "\n",
       "\n"
      ],
      "text/plain": [
       " [1] \"GSM1591197_Normalrep1\"  \"GSM1591198_Normalrep2\"  \"GSM1591199_Normalrep3\" \n",
       " [4] \"GSM1591200_FA1dayrep1\"  \"GSM1591201_FA1dayrep2\"  \"GSM1591202_FA1dayrep3\" \n",
       " [7] \"GSM1591203_FA2dayrep1\"  \"GSM1591204_FA2dayrep2\"  \"GSM1591205_FA2dayrep3\" \n",
       "[10] \"GSM1591206_FA3dayrep1\"  \"GSM1591207_FA3dayrep2\"  \"GSM1591208_FA3dayrep3\" \n",
       "[13] \"GSM1591209_FA7dayrep1\"  \"GSM1591210_FA7dayrep2\"  \"GSM1591211_FA7dayrep3\" \n",
       "[16] \"GSM1591212_FA14dayrep1\" \"GSM1591213_FA14dayrep2\" \"GSM1591214_FA14dayrep3\""
      ]
     },
     "metadata": {},
     "output_type": "display_data"
    }
   ],
   "source": [
    "n0"
   ]
  },
  {
   "cell_type": "code",
   "execution_count": 27,
   "metadata": {},
   "outputs": [
    {
     "data": {
      "text/html": [
       "<style>\n",
       ".list-inline {list-style: none; margin:0; padding: 0}\n",
       ".list-inline>li {display: inline-block}\n",
       ".list-inline>li:not(:last-child)::after {content: \"\\00b7\"; padding: 0 .5ex}\n",
       "</style>\n",
       "<ol class=list-inline><li>'Normalrep1'</li><li>'Normalrep2'</li><li>'Normalrep3'</li><li>'FA1dayrep1'</li><li>'FA1dayrep2'</li><li>'FA1dayrep3'</li><li>'FA2dayrep1'</li><li>'FA2dayrep2'</li><li>'FA2dayrep3'</li><li>'FA3dayrep1'</li><li>'FA3dayrep2'</li><li>'FA3dayrep3'</li><li>'FA7dayrep1'</li><li>'FA7dayrep2'</li><li>'FA7dayrep3'</li><li>'FA14dayrep1'</li><li>'FA14dayrep2'</li><li>'FA14dayrep3'</li></ol>\n"
      ],
      "text/latex": [
       "\\begin{enumerate*}\n",
       "\\item 'Normalrep1'\n",
       "\\item 'Normalrep2'\n",
       "\\item 'Normalrep3'\n",
       "\\item 'FA1dayrep1'\n",
       "\\item 'FA1dayrep2'\n",
       "\\item 'FA1dayrep3'\n",
       "\\item 'FA2dayrep1'\n",
       "\\item 'FA2dayrep2'\n",
       "\\item 'FA2dayrep3'\n",
       "\\item 'FA3dayrep1'\n",
       "\\item 'FA3dayrep2'\n",
       "\\item 'FA3dayrep3'\n",
       "\\item 'FA7dayrep1'\n",
       "\\item 'FA7dayrep2'\n",
       "\\item 'FA7dayrep3'\n",
       "\\item 'FA14dayrep1'\n",
       "\\item 'FA14dayrep2'\n",
       "\\item 'FA14dayrep3'\n",
       "\\end{enumerate*}\n"
      ],
      "text/markdown": [
       "1. 'Normalrep1'\n",
       "2. 'Normalrep2'\n",
       "3. 'Normalrep3'\n",
       "4. 'FA1dayrep1'\n",
       "5. 'FA1dayrep2'\n",
       "6. 'FA1dayrep3'\n",
       "7. 'FA2dayrep1'\n",
       "8. 'FA2dayrep2'\n",
       "9. 'FA2dayrep3'\n",
       "10. 'FA3dayrep1'\n",
       "11. 'FA3dayrep2'\n",
       "12. 'FA3dayrep3'\n",
       "13. 'FA7dayrep1'\n",
       "14. 'FA7dayrep2'\n",
       "15. 'FA7dayrep3'\n",
       "16. 'FA14dayrep1'\n",
       "17. 'FA14dayrep2'\n",
       "18. 'FA14dayrep3'\n",
       "\n",
       "\n"
      ],
      "text/plain": [
       " [1] \"Normalrep1\"  \"Normalrep2\"  \"Normalrep3\"  \"FA1dayrep1\"  \"FA1dayrep2\" \n",
       " [6] \"FA1dayrep3\"  \"FA2dayrep1\"  \"FA2dayrep2\"  \"FA2dayrep3\"  \"FA3dayrep1\" \n",
       "[11] \"FA3dayrep2\"  \"FA3dayrep3\"  \"FA7dayrep1\"  \"FA7dayrep2\"  \"FA7dayrep3\" \n",
       "[16] \"FA14dayrep1\" \"FA14dayrep2\" \"FA14dayrep3\""
      ]
     },
     "metadata": {},
     "output_type": "display_data"
    }
   ],
   "source": [
    "n1"
   ]
  },
  {
   "cell_type": "code",
   "execution_count": 28,
   "metadata": {},
   "outputs": [
    {
     "data": {
      "text/html": [
       "<style>\n",
       ".list-inline {list-style: none; margin:0; padding: 0}\n",
       ".list-inline>li {display: inline-block}\n",
       ".list-inline>li:not(:last-child)::after {content: \"\\00b7\"; padding: 0 .5ex}\n",
       "</style>\n",
       "<ol class=list-inline><li>'1'</li><li>'2'</li><li>'3'</li><li>'1'</li><li>'2'</li><li>'3'</li><li>'1'</li><li>'2'</li><li>'3'</li><li>'1'</li><li>'2'</li><li>'3'</li><li>'1'</li><li>'2'</li><li>'3'</li><li>'1'</li><li>'2'</li><li>'3'</li></ol>\n"
      ],
      "text/latex": [
       "\\begin{enumerate*}\n",
       "\\item '1'\n",
       "\\item '2'\n",
       "\\item '3'\n",
       "\\item '1'\n",
       "\\item '2'\n",
       "\\item '3'\n",
       "\\item '1'\n",
       "\\item '2'\n",
       "\\item '3'\n",
       "\\item '1'\n",
       "\\item '2'\n",
       "\\item '3'\n",
       "\\item '1'\n",
       "\\item '2'\n",
       "\\item '3'\n",
       "\\item '1'\n",
       "\\item '2'\n",
       "\\item '3'\n",
       "\\end{enumerate*}\n"
      ],
      "text/markdown": [
       "1. '1'\n",
       "2. '2'\n",
       "3. '3'\n",
       "4. '1'\n",
       "5. '2'\n",
       "6. '3'\n",
       "7. '1'\n",
       "8. '2'\n",
       "9. '3'\n",
       "10. '1'\n",
       "11. '2'\n",
       "12. '3'\n",
       "13. '1'\n",
       "14. '2'\n",
       "15. '3'\n",
       "16. '1'\n",
       "17. '2'\n",
       "18. '3'\n",
       "\n",
       "\n"
      ],
      "text/plain": [
       " [1] \"1\" \"2\" \"3\" \"1\" \"2\" \"3\" \"1\" \"2\" \"3\" \"1\" \"2\" \"3\" \"1\" \"2\" \"3\" \"1\" \"2\" \"3\""
      ]
     },
     "metadata": {},
     "output_type": "display_data"
    }
   ],
   "source": [
    "replicate"
   ]
  },
  {
   "cell_type": "code",
   "execution_count": 29,
   "metadata": {},
   "outputs": [],
   "source": [
    "timemap <- c(\"Normal\" =0,  \"FA1day\"=1,  \"FA2day\"=2,  \"FA3day\" =3, \"FA7day\"=7,  \"FA14day\"=14)\n",
    "craniun_sample_time <- timemap[nbHelpers::strpart(n1, 'rep',1)]\n",
    "names( craniun_sample_time ) <- colnames(craciun_counts)"
   ]
  },
  {
   "cell_type": "code",
   "execution_count": 30,
   "metadata": {},
   "outputs": [
    {
     "data": {
      "text/html": [
       "<style>\n",
       ".dl-inline {width: auto; margin:0; padding: 0}\n",
       ".dl-inline>dt, .dl-inline>dd {float: none; width: auto; display: inline-block}\n",
       ".dl-inline>dt::after {content: \":\\0020\"; padding-right: .5ex}\n",
       ".dl-inline>dt:not(:first-of-type) {padding-left: .5ex}\n",
       "</style><dl class=dl-inline><dt>GSM1591197_Normalrep1</dt><dd>0</dd><dt>GSM1591198_Normalrep2</dt><dd>0</dd><dt>GSM1591199_Normalrep3</dt><dd>0</dd><dt>GSM1591200_FA1dayrep1</dt><dd>1</dd><dt>GSM1591201_FA1dayrep2</dt><dd>1</dd><dt>GSM1591202_FA1dayrep3</dt><dd>1</dd><dt>GSM1591203_FA2dayrep1</dt><dd>2</dd><dt>GSM1591204_FA2dayrep2</dt><dd>2</dd><dt>GSM1591205_FA2dayrep3</dt><dd>2</dd><dt>GSM1591206_FA3dayrep1</dt><dd>3</dd><dt>GSM1591207_FA3dayrep2</dt><dd>3</dd><dt>GSM1591208_FA3dayrep3</dt><dd>3</dd><dt>GSM1591209_FA7dayrep1</dt><dd>7</dd><dt>GSM1591210_FA7dayrep2</dt><dd>7</dd><dt>GSM1591211_FA7dayrep3</dt><dd>7</dd><dt>GSM1591212_FA14dayrep1</dt><dd>14</dd><dt>GSM1591213_FA14dayrep2</dt><dd>14</dd><dt>GSM1591214_FA14dayrep3</dt><dd>14</dd></dl>\n"
      ],
      "text/latex": [
       "\\begin{description*}\n",
       "\\item[GSM1591197\\textbackslash{}\\_Normalrep1] 0\n",
       "\\item[GSM1591198\\textbackslash{}\\_Normalrep2] 0\n",
       "\\item[GSM1591199\\textbackslash{}\\_Normalrep3] 0\n",
       "\\item[GSM1591200\\textbackslash{}\\_FA1dayrep1] 1\n",
       "\\item[GSM1591201\\textbackslash{}\\_FA1dayrep2] 1\n",
       "\\item[GSM1591202\\textbackslash{}\\_FA1dayrep3] 1\n",
       "\\item[GSM1591203\\textbackslash{}\\_FA2dayrep1] 2\n",
       "\\item[GSM1591204\\textbackslash{}\\_FA2dayrep2] 2\n",
       "\\item[GSM1591205\\textbackslash{}\\_FA2dayrep3] 2\n",
       "\\item[GSM1591206\\textbackslash{}\\_FA3dayrep1] 3\n",
       "\\item[GSM1591207\\textbackslash{}\\_FA3dayrep2] 3\n",
       "\\item[GSM1591208\\textbackslash{}\\_FA3dayrep3] 3\n",
       "\\item[GSM1591209\\textbackslash{}\\_FA7dayrep1] 7\n",
       "\\item[GSM1591210\\textbackslash{}\\_FA7dayrep2] 7\n",
       "\\item[GSM1591211\\textbackslash{}\\_FA7dayrep3] 7\n",
       "\\item[GSM1591212\\textbackslash{}\\_FA14dayrep1] 14\n",
       "\\item[GSM1591213\\textbackslash{}\\_FA14dayrep2] 14\n",
       "\\item[GSM1591214\\textbackslash{}\\_FA14dayrep3] 14\n",
       "\\end{description*}\n"
      ],
      "text/markdown": [
       "GSM1591197_Normalrep1\n",
       ":   0GSM1591198_Normalrep2\n",
       ":   0GSM1591199_Normalrep3\n",
       ":   0GSM1591200_FA1dayrep1\n",
       ":   1GSM1591201_FA1dayrep2\n",
       ":   1GSM1591202_FA1dayrep3\n",
       ":   1GSM1591203_FA2dayrep1\n",
       ":   2GSM1591204_FA2dayrep2\n",
       ":   2GSM1591205_FA2dayrep3\n",
       ":   2GSM1591206_FA3dayrep1\n",
       ":   3GSM1591207_FA3dayrep2\n",
       ":   3GSM1591208_FA3dayrep3\n",
       ":   3GSM1591209_FA7dayrep1\n",
       ":   7GSM1591210_FA7dayrep2\n",
       ":   7GSM1591211_FA7dayrep3\n",
       ":   7GSM1591212_FA14dayrep1\n",
       ":   14GSM1591213_FA14dayrep2\n",
       ":   14GSM1591214_FA14dayrep3\n",
       ":   14\n",
       "\n"
      ],
      "text/plain": [
       " GSM1591197_Normalrep1  GSM1591198_Normalrep2  GSM1591199_Normalrep3 \n",
       "                     0                      0                      0 \n",
       " GSM1591200_FA1dayrep1  GSM1591201_FA1dayrep2  GSM1591202_FA1dayrep3 \n",
       "                     1                      1                      1 \n",
       " GSM1591203_FA2dayrep1  GSM1591204_FA2dayrep2  GSM1591205_FA2dayrep3 \n",
       "                     2                      2                      2 \n",
       " GSM1591206_FA3dayrep1  GSM1591207_FA3dayrep2  GSM1591208_FA3dayrep3 \n",
       "                     3                      3                      3 \n",
       " GSM1591209_FA7dayrep1  GSM1591210_FA7dayrep2  GSM1591211_FA7dayrep3 \n",
       "                     7                      7                      7 \n",
       "GSM1591212_FA14dayrep1 GSM1591213_FA14dayrep2 GSM1591214_FA14dayrep3 \n",
       "                    14                     14                     14 "
      ]
     },
     "metadata": {},
     "output_type": "display_data"
    }
   ],
   "source": [
    "craniun_sample_time"
   ]
  },
  {
   "cell_type": "markdown",
   "metadata": {},
   "source": [
    "# Convert Identifiers"
   ]
  },
  {
   "cell_type": "code",
   "execution_count": 31,
   "metadata": {},
   "outputs": [],
   "source": [
    "# Load libraries\n",
    "suppressPackageStartupMessages(library(Biobase))\n",
    "suppressPackageStartupMessages(library(org.Mm.eg.db))"
   ]
  },
  {
   "cell_type": "code",
   "execution_count": 32,
   "metadata": {},
   "outputs": [
    {
     "data": {
      "text/html": [
       "<style>\n",
       ".list-inline {list-style: none; margin:0; padding: 0}\n",
       ".list-inline>li {display: inline-block}\n",
       ".list-inline>li:not(:last-child)::after {content: \"\\00b7\"; padding: 0 .5ex}\n",
       "</style>\n",
       "<ol class=list-inline><li>'ACCNUM'</li><li>'ALIAS'</li><li>'ENSEMBL'</li><li>'ENSEMBLPROT'</li><li>'ENSEMBLTRANS'</li><li>'ENTREZID'</li><li>'ENZYME'</li><li>'EVIDENCE'</li><li>'EVIDENCEALL'</li><li>'GENENAME'</li><li>'GO'</li><li>'GOALL'</li><li>'IPI'</li><li>'MGI'</li><li>'ONTOLOGY'</li><li>'ONTOLOGYALL'</li><li>'PATH'</li><li>'PFAM'</li><li>'PMID'</li><li>'PROSITE'</li><li>'REFSEQ'</li><li>'SYMBOL'</li><li>'UNIGENE'</li><li>'UNIPROT'</li></ol>\n"
      ],
      "text/latex": [
       "\\begin{enumerate*}\n",
       "\\item 'ACCNUM'\n",
       "\\item 'ALIAS'\n",
       "\\item 'ENSEMBL'\n",
       "\\item 'ENSEMBLPROT'\n",
       "\\item 'ENSEMBLTRANS'\n",
       "\\item 'ENTREZID'\n",
       "\\item 'ENZYME'\n",
       "\\item 'EVIDENCE'\n",
       "\\item 'EVIDENCEALL'\n",
       "\\item 'GENENAME'\n",
       "\\item 'GO'\n",
       "\\item 'GOALL'\n",
       "\\item 'IPI'\n",
       "\\item 'MGI'\n",
       "\\item 'ONTOLOGY'\n",
       "\\item 'ONTOLOGYALL'\n",
       "\\item 'PATH'\n",
       "\\item 'PFAM'\n",
       "\\item 'PMID'\n",
       "\\item 'PROSITE'\n",
       "\\item 'REFSEQ'\n",
       "\\item 'SYMBOL'\n",
       "\\item 'UNIGENE'\n",
       "\\item 'UNIPROT'\n",
       "\\end{enumerate*}\n"
      ],
      "text/markdown": [
       "1. 'ACCNUM'\n",
       "2. 'ALIAS'\n",
       "3. 'ENSEMBL'\n",
       "4. 'ENSEMBLPROT'\n",
       "5. 'ENSEMBLTRANS'\n",
       "6. 'ENTREZID'\n",
       "7. 'ENZYME'\n",
       "8. 'EVIDENCE'\n",
       "9. 'EVIDENCEALL'\n",
       "10. 'GENENAME'\n",
       "11. 'GO'\n",
       "12. 'GOALL'\n",
       "13. 'IPI'\n",
       "14. 'MGI'\n",
       "15. 'ONTOLOGY'\n",
       "16. 'ONTOLOGYALL'\n",
       "17. 'PATH'\n",
       "18. 'PFAM'\n",
       "19. 'PMID'\n",
       "20. 'PROSITE'\n",
       "21. 'REFSEQ'\n",
       "22. 'SYMBOL'\n",
       "23. 'UNIGENE'\n",
       "24. 'UNIPROT'\n",
       "\n",
       "\n"
      ],
      "text/plain": [
       " [1] \"ACCNUM\"       \"ALIAS\"        \"ENSEMBL\"      \"ENSEMBLPROT\"  \"ENSEMBLTRANS\"\n",
       " [6] \"ENTREZID\"     \"ENZYME\"       \"EVIDENCE\"     \"EVIDENCEALL\"  \"GENENAME\"    \n",
       "[11] \"GO\"           \"GOALL\"        \"IPI\"          \"MGI\"          \"ONTOLOGY\"    \n",
       "[16] \"ONTOLOGYALL\"  \"PATH\"         \"PFAM\"         \"PMID\"         \"PROSITE\"     \n",
       "[21] \"REFSEQ\"       \"SYMBOL\"       \"UNIGENE\"      \"UNIPROT\"     "
      ]
     },
     "metadata": {},
     "output_type": "display_data"
    }
   ],
   "source": [
    "columns(org.Mm.eg.db)"
   ]
  },
  {
   "cell_type": "code",
   "execution_count": 33,
   "metadata": {},
   "outputs": [
    {
     "data": {
      "text/html": [
       "<style>\n",
       ".list-inline {list-style: none; margin:0; padding: 0}\n",
       ".list-inline>li {display: inline-block}\n",
       ".list-inline>li:not(:last-child)::after {content: \"\\00b7\"; padding: 0 .5ex}\n",
       "</style>\n",
       "<ol class=list-inline><li>'Rp1'</li><li>'Sox17'</li><li>'Mrpl15'</li></ol>\n"
      ],
      "text/latex": [
       "\\begin{enumerate*}\n",
       "\\item 'Rp1'\n",
       "\\item 'Sox17'\n",
       "\\item 'Mrpl15'\n",
       "\\end{enumerate*}\n"
      ],
      "text/markdown": [
       "1. 'Rp1'\n",
       "2. 'Sox17'\n",
       "3. 'Mrpl15'\n",
       "\n",
       "\n"
      ],
      "text/plain": [
       "[1] \"Rp1\"    \"Sox17\"  \"Mrpl15\""
      ]
     },
     "metadata": {},
     "output_type": "display_data"
    }
   ],
   "source": [
    "rownames(park_counts.m)[1:3]"
   ]
  },
  {
   "cell_type": "code",
   "execution_count": 34,
   "metadata": {},
   "outputs": [
    {
     "data": {
      "text/html": [
       "<style>\n",
       ".list-inline {list-style: none; margin:0; padding: 0}\n",
       ".list-inline>li {display: inline-block}\n",
       ".list-inline>li:not(:last-child)::after {content: \"\\00b7\"; padding: 0 .5ex}\n",
       "</style>\n",
       "<ol class=list-inline><li>'ENSMUSG00000000001'</li><li>'ENSMUSG00000000003'</li><li>'ENSMUSG00000000028'</li></ol>\n"
      ],
      "text/latex": [
       "\\begin{enumerate*}\n",
       "\\item 'ENSMUSG00000000001'\n",
       "\\item 'ENSMUSG00000000003'\n",
       "\\item 'ENSMUSG00000000028'\n",
       "\\end{enumerate*}\n"
      ],
      "text/markdown": [
       "1. 'ENSMUSG00000000001'\n",
       "2. 'ENSMUSG00000000003'\n",
       "3. 'ENSMUSG00000000028'\n",
       "\n",
       "\n"
      ],
      "text/plain": [
       "[1] \"ENSMUSG00000000001\" \"ENSMUSG00000000003\" \"ENSMUSG00000000028\""
      ]
     },
     "metadata": {},
     "output_type": "display_data"
    }
   ],
   "source": [
    "rownames(craciun_counts)[1:3]"
   ]
  },
  {
   "cell_type": "code",
   "execution_count": 35,
   "metadata": {},
   "outputs": [
    {
     "name": "stderr",
     "output_type": "stream",
     "text": [
      "'select()' returned 1:many mapping between keys and columns\n",
      "\n"
     ]
    }
   ],
   "source": [
    "symbol.ids <- mapIds(x = org.Mm.eg.db, \n",
    "                  keys = rownames(craciun_counts), \n",
    "                  keytype = 'ENSEMBL', \n",
    "                  column = 'SYMBOL', multiVals = 'first')"
   ]
  },
  {
   "cell_type": "code",
   "execution_count": 36,
   "metadata": {},
   "outputs": [
    {
     "data": {
      "text/html": [
       "<style>\n",
       ".dl-inline {width: auto; margin:0; padding: 0}\n",
       ".dl-inline>dt, .dl-inline>dd {float: none; width: auto; display: inline-block}\n",
       ".dl-inline>dt::after {content: \":\\0020\"; padding-right: .5ex}\n",
       ".dl-inline>dt:not(:first-of-type) {padding-left: .5ex}\n",
       "</style><dl class=dl-inline><dt>ENSMUSG00000000001</dt><dd>'Gnai3'</dd><dt>ENSMUSG00000000003</dt><dd>'Pbsn'</dd><dt>ENSMUSG00000000028</dt><dd>'Cdc45'</dd><dt>ENSMUSG00000000031</dt><dd>'H19'</dd><dt>ENSMUSG00000000037</dt><dd>'Scml2'</dd><dt>ENSMUSG00000000049</dt><dd>'Apoh'</dd></dl>\n"
      ],
      "text/latex": [
       "\\begin{description*}\n",
       "\\item[ENSMUSG00000000001] 'Gnai3'\n",
       "\\item[ENSMUSG00000000003] 'Pbsn'\n",
       "\\item[ENSMUSG00000000028] 'Cdc45'\n",
       "\\item[ENSMUSG00000000031] 'H19'\n",
       "\\item[ENSMUSG00000000037] 'Scml2'\n",
       "\\item[ENSMUSG00000000049] 'Apoh'\n",
       "\\end{description*}\n"
      ],
      "text/markdown": [
       "ENSMUSG00000000001\n",
       ":   'Gnai3'ENSMUSG00000000003\n",
       ":   'Pbsn'ENSMUSG00000000028\n",
       ":   'Cdc45'ENSMUSG00000000031\n",
       ":   'H19'ENSMUSG00000000037\n",
       ":   'Scml2'ENSMUSG00000000049\n",
       ":   'Apoh'\n",
       "\n"
      ],
      "text/plain": [
       "ENSMUSG00000000001 ENSMUSG00000000003 ENSMUSG00000000028 ENSMUSG00000000031 \n",
       "           \"Gnai3\"             \"Pbsn\"            \"Cdc45\"              \"H19\" \n",
       "ENSMUSG00000000037 ENSMUSG00000000049 \n",
       "           \"Scml2\"             \"Apoh\" "
      ]
     },
     "metadata": {},
     "output_type": "display_data"
    }
   ],
   "source": [
    "head(symbol.ids)"
   ]
  },
  {
   "cell_type": "code",
   "execution_count": 37,
   "metadata": {},
   "outputs": [],
   "source": [
    "rownames(craciun_counts) <- unname(symbol.ids[rownames(craciun_counts)])"
   ]
  },
  {
   "cell_type": "code",
   "execution_count": 38,
   "metadata": {},
   "outputs": [
    {
     "data": {
      "text/plain": [
       "\n",
       "FALSE  TRUE \n",
       "25542 12454 "
      ]
     },
     "metadata": {},
     "output_type": "display_data"
    }
   ],
   "source": [
    "table(duplicated(rownames(craciun_counts)))"
   ]
  },
  {
   "cell_type": "code",
   "execution_count": 39,
   "metadata": {},
   "outputs": [
    {
     "data": {
      "text/html": [
       "<style>\n",
       ".list-inline {list-style: none; margin:0; padding: 0}\n",
       ".list-inline>li {display: inline-block}\n",
       ".list-inline>li:not(:last-child)::after {content: \"\\00b7\"; padding: 0 .5ex}\n",
       "</style>\n",
       "<ol class=list-inline><li>'Gnai3'</li><li>'Pbsn'</li><li>'Cdc45'</li><li>'H19'</li><li>'Scml2'</li><li>'Apoh'</li></ol>\n"
      ],
      "text/latex": [
       "\\begin{enumerate*}\n",
       "\\item 'Gnai3'\n",
       "\\item 'Pbsn'\n",
       "\\item 'Cdc45'\n",
       "\\item 'H19'\n",
       "\\item 'Scml2'\n",
       "\\item 'Apoh'\n",
       "\\end{enumerate*}\n"
      ],
      "text/markdown": [
       "1. 'Gnai3'\n",
       "2. 'Pbsn'\n",
       "3. 'Cdc45'\n",
       "4. 'H19'\n",
       "5. 'Scml2'\n",
       "6. 'Apoh'\n",
       "\n",
       "\n"
      ],
      "text/plain": [
       "[1] \"Gnai3\" \"Pbsn\"  \"Cdc45\" \"H19\"   \"Scml2\" \"Apoh\" "
      ]
     },
     "metadata": {},
     "output_type": "display_data"
    }
   ],
   "source": [
    "head(rownames(craciun_counts))"
   ]
  },
  {
   "cell_type": "code",
   "execution_count": 40,
   "metadata": {},
   "outputs": [
    {
     "data": {
      "text/html": [
       "<table class=\"dataframe\">\n",
       "<caption>A matrix: 3 × 3 of type int</caption>\n",
       "<thead>\n",
       "\t<tr><th></th><th scope=col>GSM1591197_Normalrep1</th><th scope=col>GSM1591198_Normalrep2</th><th scope=col>GSM1591199_Normalrep3</th></tr>\n",
       "</thead>\n",
       "<tbody>\n",
       "\t<tr><th scope=row>Gnai3</th><td>456</td><td>1797</td><td>451</td></tr>\n",
       "\t<tr><th scope=row>Pbsn</th><td>  0</td><td>   0</td><td>  0</td></tr>\n",
       "\t<tr><th scope=row>Cdc45</th><td>  8</td><td>   7</td><td>  0</td></tr>\n",
       "</tbody>\n",
       "</table>\n"
      ],
      "text/latex": [
       "A matrix: 3 × 3 of type int\n",
       "\\begin{tabular}{r|lll}\n",
       "  & GSM1591197\\_Normalrep1 & GSM1591198\\_Normalrep2 & GSM1591199\\_Normalrep3\\\\\n",
       "\\hline\n",
       "\tGnai3 & 456 & 1797 & 451\\\\\n",
       "\tPbsn &   0 &    0 &   0\\\\\n",
       "\tCdc45 &   8 &    7 &   0\\\\\n",
       "\\end{tabular}\n"
      ],
      "text/markdown": [
       "\n",
       "A matrix: 3 × 3 of type int\n",
       "\n",
       "| <!--/--> | GSM1591197_Normalrep1 | GSM1591198_Normalrep2 | GSM1591199_Normalrep3 |\n",
       "|---|---|---|---|\n",
       "| Gnai3 | 456 | 1797 | 451 |\n",
       "| Pbsn |   0 |    0 |   0 |\n",
       "| Cdc45 |   8 |    7 |   0 |\n",
       "\n"
      ],
      "text/plain": [
       "      GSM1591197_Normalrep1 GSM1591198_Normalrep2 GSM1591199_Normalrep3\n",
       "Gnai3 456                   1797                  451                  \n",
       "Pbsn    0                      0                    0                  \n",
       "Cdc45   8                      7                    0                  "
      ]
     },
     "metadata": {},
     "output_type": "display_data"
    }
   ],
   "source": [
    "craciun_counts[1:3,1:3]"
   ]
  },
  {
   "cell_type": "code",
   "execution_count": 41,
   "metadata": {},
   "outputs": [],
   "source": [
    "suppressPackageStartupMessages(library(tidyverse))"
   ]
  },
  {
   "cell_type": "code",
   "execution_count": 42,
   "metadata": {},
   "outputs": [
    {
     "name": "stderr",
     "output_type": "stream",
     "text": [
      "Warning message:\n",
      "“`funs()` is deprecated as of dplyr 0.8.0.\n",
      "Please use a list of either functions or lambdas: \n",
      "\n",
      "  # Simple named list: \n",
      "  list(mean = mean, median = median)\n",
      "\n",
      "  # Auto named with `tibble::lst()`: \n",
      "  tibble::lst(mean, median)\n",
      "\n",
      "  # Using lambdas\n",
      "  list(~ mean(., trim = .2), ~ median(., na.rm = TRUE))\n",
      "\u001b[90mThis warning is displayed once every 8 hours.\u001b[39m\n",
      "\u001b[90mCall `lifecycle::last_warnings()` to see where this warning was generated.\u001b[39m”\n"
     ]
    }
   ],
   "source": [
    "# summarize reads from same gene\n",
    "data.table(craciun_counts,keep.rownames = TRUE) %>% group_by(rn) %>% summarize_all(funs(sum)) -> summarized_data"
   ]
  },
  {
   "cell_type": "code",
   "execution_count": 43,
   "metadata": {},
   "outputs": [],
   "source": [
    "cracium_counts_sum <- as.matrix(summarized_data[,-1])"
   ]
  },
  {
   "cell_type": "code",
   "execution_count": 44,
   "metadata": {},
   "outputs": [],
   "source": [
    "rownames(cracium_counts_sum) <- summarized_data$rn"
   ]
  },
  {
   "cell_type": "code",
   "execution_count": 45,
   "metadata": {},
   "outputs": [
    {
     "data": {
      "text/plain": [
       "\n",
       "FALSE \n",
       "25542 "
      ]
     },
     "metadata": {},
     "output_type": "display_data"
    }
   ],
   "source": [
    "table(duplicated(rownames(cracium_counts_sum)))"
   ]
  },
  {
   "cell_type": "code",
   "execution_count": 46,
   "metadata": {},
   "outputs": [
    {
     "data": {
      "text/plain": [
       "\n",
       "FALSE  TRUE \n",
       "11452 14090 "
      ]
     },
     "metadata": {},
     "output_type": "display_data"
    }
   ],
   "source": [
    "table(rownames(cracium_counts_sum) %in% rownames(park_counts.m))"
   ]
  },
  {
   "cell_type": "code",
   "execution_count": 47,
   "metadata": {},
   "outputs": [
    {
     "data": {
      "text/plain": [
       "\n",
       "FALSE  TRUE \n",
       " 2182 14090 "
      ]
     },
     "metadata": {},
     "output_type": "display_data"
    }
   ],
   "source": [
    "table(rownames(park_counts.m) %in% rownames(cracium_counts_sum))"
   ]
  },
  {
   "cell_type": "code",
   "execution_count": 48,
   "metadata": {},
   "outputs": [
    {
     "data": {
      "text/html": [
       "0.836328667143561"
      ],
      "text/latex": [
       "0.836328667143561"
      ],
      "text/markdown": [
       "0.836328667143561"
      ],
      "text/plain": [
       "[1] 0.8363287"
      ]
     },
     "metadata": {},
     "output_type": "display_data"
    }
   ],
   "source": [
    "sum(cracium_counts_sum[!(rownames(cracium_counts_sum) %in% rownames(park_counts.m)),])/sum(cracium_counts_sum)"
   ]
  },
  {
   "cell_type": "code",
   "execution_count": 49,
   "metadata": {},
   "outputs": [
    {
     "data": {
      "text/html": [
       "0.245157922780298"
      ],
      "text/latex": [
       "0.245157922780298"
      ],
      "text/markdown": [
       "0.245157922780298"
      ],
      "text/plain": [
       "[1] 0.2451579"
      ]
     },
     "metadata": {},
     "output_type": "display_data"
    }
   ],
   "source": [
    "sum(park_counts.m[!(rownames(park_counts.m) %in% rownames(cracium_counts_sum)),])/sum(park_counts.m)"
   ]
  },
  {
   "cell_type": "code",
   "execution_count": 50,
   "metadata": {},
   "outputs": [
    {
     "data": {
      "text/plain": [
       "\n",
       "FALSE \n",
       "25542 "
      ]
     },
     "metadata": {},
     "output_type": "display_data"
    }
   ],
   "source": [
    "table(duplicated(rownames(cracium_counts_sum)))"
   ]
  },
  {
   "cell_type": "code",
   "execution_count": 51,
   "metadata": {},
   "outputs": [
    {
     "data": {
      "text/plain": [
       "\n",
       "FALSE \n",
       "16272 "
      ]
     },
     "metadata": {},
     "output_type": "display_data"
    }
   ],
   "source": [
    "table(duplicated(rownames(park_counts.m)))"
   ]
  },
  {
   "cell_type": "code",
   "execution_count": 52,
   "metadata": {},
   "outputs": [
    {
     "data": {
      "text/plain": [
       "\n",
       "FALSE  TRUE \n",
       "25541     1 "
      ]
     },
     "metadata": {},
     "output_type": "display_data"
    }
   ],
   "source": [
    "table(is.na(rownames(cracium_counts_sum)))"
   ]
  },
  {
   "cell_type": "code",
   "execution_count": 53,
   "metadata": {},
   "outputs": [
    {
     "data": {
      "text/plain": [
       "\n",
       "FALSE \n",
       "16272 "
      ]
     },
     "metadata": {},
     "output_type": "display_data"
    }
   ],
   "source": [
    "table(is.na(rownames(park_counts.m)))"
   ]
  },
  {
   "cell_type": "code",
   "execution_count": 54,
   "metadata": {},
   "outputs": [],
   "source": [
    "cracium_counts_sum <- cracium_counts_sum[!is.na(rownames(cracium_counts_sum)),]"
   ]
  },
  {
   "cell_type": "markdown",
   "metadata": {},
   "source": [
    "## Convert Park to expression set"
   ]
  },
  {
   "cell_type": "code",
   "execution_count": 55,
   "metadata": {},
   "outputs": [],
   "source": [
    "park.metadata.df <- data.frame(sampleID=names(park_cluster),cluster=park_cluster)"
   ]
  },
  {
   "cell_type": "code",
   "execution_count": 56,
   "metadata": {},
   "outputs": [
    {
     "data": {
      "text/html": [
       "<style>\n",
       ".list-inline {list-style: none; margin:0; padding: 0}\n",
       ".list-inline>li {display: inline-block}\n",
       ".list-inline>li:not(:last-child)::after {content: \"\\00b7\"; padding: 0 .5ex}\n",
       "</style>\n",
       "<ol class=list-inline><li>43745</li><li>2</li></ol>\n"
      ],
      "text/latex": [
       "\\begin{enumerate*}\n",
       "\\item 43745\n",
       "\\item 2\n",
       "\\end{enumerate*}\n"
      ],
      "text/markdown": [
       "1. 43745\n",
       "2. 2\n",
       "\n",
       "\n"
      ],
      "text/plain": [
       "[1] 43745     2"
      ]
     },
     "metadata": {},
     "output_type": "display_data"
    }
   ],
   "source": [
    "dim(park.metadata.df)"
   ]
  },
  {
   "cell_type": "code",
   "execution_count": 57,
   "metadata": {},
   "outputs": [
    {
     "data": {
      "text/html": [
       "<style>\n",
       ".list-inline {list-style: none; margin:0; padding: 0}\n",
       ".list-inline>li {display: inline-block}\n",
       ".list-inline>li:not(:last-child)::after {content: \"\\00b7\"; padding: 0 .5ex}\n",
       "</style>\n",
       "<ol class=list-inline><li>16272</li><li>43745</li></ol>\n"
      ],
      "text/latex": [
       "\\begin{enumerate*}\n",
       "\\item 16272\n",
       "\\item 43745\n",
       "\\end{enumerate*}\n"
      ],
      "text/markdown": [
       "1. 16272\n",
       "2. 43745\n",
       "\n",
       "\n"
      ],
      "text/plain": [
       "[1] 16272 43745"
      ]
     },
     "metadata": {},
     "output_type": "display_data"
    }
   ],
   "source": [
    "dim(park_counts.m)"
   ]
  },
  {
   "cell_type": "code",
   "execution_count": 58,
   "metadata": {},
   "outputs": [
    {
     "data": {
      "text/html": [
       "<table class=\"dataframe\">\n",
       "<caption>A data.frame: 6 × 2</caption>\n",
       "<thead>\n",
       "\t<tr><th></th><th scope=col>sampleID</th><th scope=col>cluster</th></tr>\n",
       "\t<tr><th></th><th scope=col>&lt;chr&gt;</th><th scope=col>&lt;fct&gt;</th></tr>\n",
       "</thead>\n",
       "<tbody>\n",
       "\t<tr><th scope=row>AAACCTGAGATATGCA-1</th><td>AAACCTGAGATATGCA-1</td><td>3</td></tr>\n",
       "\t<tr><th scope=row>AAACCTGGTTGTGGCC-1</th><td>AAACCTGGTTGTGGCC-1</td><td>5</td></tr>\n",
       "\t<tr><th scope=row>AAACGGGAGCGTCTAT-1</th><td>AAACGGGAGCGTCTAT-1</td><td>3</td></tr>\n",
       "\t<tr><th scope=row>AAACGGGAGCTCCTTC-1</th><td>AAACGGGAGCTCCTTC-1</td><td>3</td></tr>\n",
       "\t<tr><th scope=row>AAACGGGCACCTCGGA-1</th><td>AAACGGGCACCTCGGA-1</td><td>3</td></tr>\n",
       "\t<tr><th scope=row>AAACGGGCAGGTGCCT-1</th><td>AAACGGGCAGGTGCCT-1</td><td>5</td></tr>\n",
       "</tbody>\n",
       "</table>\n"
      ],
      "text/latex": [
       "A data.frame: 6 × 2\n",
       "\\begin{tabular}{r|ll}\n",
       "  & sampleID & cluster\\\\\n",
       "  & <chr> & <fct>\\\\\n",
       "\\hline\n",
       "\tAAACCTGAGATATGCA-1 & AAACCTGAGATATGCA-1 & 3\\\\\n",
       "\tAAACCTGGTTGTGGCC-1 & AAACCTGGTTGTGGCC-1 & 5\\\\\n",
       "\tAAACGGGAGCGTCTAT-1 & AAACGGGAGCGTCTAT-1 & 3\\\\\n",
       "\tAAACGGGAGCTCCTTC-1 & AAACGGGAGCTCCTTC-1 & 3\\\\\n",
       "\tAAACGGGCACCTCGGA-1 & AAACGGGCACCTCGGA-1 & 3\\\\\n",
       "\tAAACGGGCAGGTGCCT-1 & AAACGGGCAGGTGCCT-1 & 5\\\\\n",
       "\\end{tabular}\n"
      ],
      "text/markdown": [
       "\n",
       "A data.frame: 6 × 2\n",
       "\n",
       "| <!--/--> | sampleID &lt;chr&gt; | cluster &lt;fct&gt; |\n",
       "|---|---|---|\n",
       "| AAACCTGAGATATGCA-1 | AAACCTGAGATATGCA-1 | 3 |\n",
       "| AAACCTGGTTGTGGCC-1 | AAACCTGGTTGTGGCC-1 | 5 |\n",
       "| AAACGGGAGCGTCTAT-1 | AAACGGGAGCGTCTAT-1 | 3 |\n",
       "| AAACGGGAGCTCCTTC-1 | AAACGGGAGCTCCTTC-1 | 3 |\n",
       "| AAACGGGCACCTCGGA-1 | AAACGGGCACCTCGGA-1 | 3 |\n",
       "| AAACGGGCAGGTGCCT-1 | AAACGGGCAGGTGCCT-1 | 5 |\n",
       "\n"
      ],
      "text/plain": [
       "                   sampleID           cluster\n",
       "AAACCTGAGATATGCA-1 AAACCTGAGATATGCA-1 3      \n",
       "AAACCTGGTTGTGGCC-1 AAACCTGGTTGTGGCC-1 5      \n",
       "AAACGGGAGCGTCTAT-1 AAACGGGAGCGTCTAT-1 3      \n",
       "AAACGGGAGCTCCTTC-1 AAACGGGAGCTCCTTC-1 3      \n",
       "AAACGGGCACCTCGGA-1 AAACGGGCACCTCGGA-1 3      \n",
       "AAACGGGCAGGTGCCT-1 AAACGGGCAGGTGCCT-1 5      "
      ]
     },
     "metadata": {},
     "output_type": "display_data"
    }
   ],
   "source": [
    "head(park.metadata.df)"
   ]
  },
  {
   "cell_type": "code",
   "execution_count": 59,
   "metadata": {},
   "outputs": [],
   "source": [
    "park.es <- ExpressionSet(assayData = park_counts.m,\n",
    "                         phenoData = AnnotatedDataFrame(park.metadata.df))"
   ]
  },
  {
   "cell_type": "code",
   "execution_count": 60,
   "metadata": {},
   "outputs": [
    {
     "data": {
      "text/plain": [
       "ExpressionSet (storageMode: lockedEnvironment)\n",
       "assayData: 16272 features, 43745 samples \n",
       "  element names: exprs \n",
       "protocolData: none\n",
       "phenoData\n",
       "  sampleNames: AAACCTGAGATATGCA-1 AAACCTGGTTGTGGCC-1 ...\n",
       "    TTTGTCATCTGCTGTC-7 (43745 total)\n",
       "  varLabels: sampleID cluster\n",
       "  varMetadata: labelDescription\n",
       "featureData: none\n",
       "experimentData: use 'experimentData(object)'\n",
       "Annotation:  "
      ]
     },
     "metadata": {},
     "output_type": "display_data"
    }
   ],
   "source": [
    "park.es"
   ]
  },
  {
   "cell_type": "code",
   "execution_count": 61,
   "metadata": {},
   "outputs": [],
   "source": [
    "# Filter and subsample park data\n",
    "park.filter.es <- park.es[,colSums(exprs(park.es)) > 1000]\n",
    "park.filter.sampled.es <- park.filter.es[,sample(ncol(exprs(park.filter.es)),10000)]"
   ]
  },
  {
   "cell_type": "code",
   "execution_count": 62,
   "metadata": {},
   "outputs": [
    {
     "data": {
      "text/plain": [
       "ExpressionSet (storageMode: lockedEnvironment)\n",
       "assayData: 16272 features, 10000 samples \n",
       "  element names: exprs \n",
       "protocolData: none\n",
       "phenoData\n",
       "  sampleNames: TGAGCATGTTCCGTCT-7 GACGGCTGTCTCTTTA-5 ...\n",
       "    GACTGCGAGCTCAACT-5 (10000 total)\n",
       "  varLabels: sampleID cluster\n",
       "  varMetadata: labelDescription\n",
       "featureData: none\n",
       "experimentData: use 'experimentData(object)'\n",
       "Annotation:  "
      ]
     },
     "metadata": {},
     "output_type": "display_data"
    }
   ],
   "source": [
    "park.filter.sampled.es"
   ]
  },
  {
   "cell_type": "markdown",
   "metadata": {},
   "source": [
    "## Craciun et al into a eset"
   ]
  },
  {
   "cell_type": "code",
   "execution_count": 63,
   "metadata": {},
   "outputs": [],
   "source": [
    "cracium_counts_sum <- cracium_counts_sum[!is.na(rownames(cracium_counts_sum)),]"
   ]
  },
  {
   "cell_type": "code",
   "execution_count": 64,
   "metadata": {},
   "outputs": [],
   "source": [
    "craciun.es <- ExpressionSet(assayData = cracium_counts_sum,\n",
    "                            phenoData = AnnotatedDataFrame(data.frame(time=craniun_sample_time,\n",
    "                            sampleID=names(craniun_sample_time))))"
   ]
  },
  {
   "cell_type": "code",
   "execution_count": 65,
   "metadata": {},
   "outputs": [
    {
     "data": {
      "text/plain": [
       "ExpressionSet (storageMode: lockedEnvironment)\n",
       "assayData: 25541 features, 18 samples \n",
       "  element names: exprs \n",
       "protocolData: none\n",
       "phenoData\n",
       "  sampleNames: GSM1591197_Normalrep1 GSM1591198_Normalrep2 ...\n",
       "    GSM1591214_FA14dayrep3 (18 total)\n",
       "  varLabels: time sampleID\n",
       "  varMetadata: labelDescription\n",
       "featureData: none\n",
       "experimentData: use 'experimentData(object)'\n",
       "Annotation:  "
      ]
     },
     "metadata": {},
     "output_type": "display_data"
    }
   ],
   "source": [
    "craciun.es"
   ]
  },
  {
   "cell_type": "markdown",
   "metadata": {},
   "source": [
    "## Run MuSiC"
   ]
  },
  {
   "cell_type": "code",
   "execution_count": 66,
   "metadata": {},
   "outputs": [
    {
     "name": "stderr",
     "output_type": "stream",
     "text": [
      "Loading required package: nnls\n",
      "\n"
     ]
    }
   ],
   "source": [
    "library(MuSiC)\n",
    "library(xbioc)"
   ]
  },
  {
   "cell_type": "code",
   "execution_count": 67,
   "metadata": {},
   "outputs": [],
   "source": [
    "select.ct <- c(\"3\", \"5\", \"6\", \"10\", \"13\", \"14\", \"4\", \"1\", \"7\", \"12\", \"11\", \"15\", \"9\", \"8\", \"16\", \"2\")"
   ]
  },
  {
   "cell_type": "code",
   "execution_count": 68,
   "metadata": {},
   "outputs": [
    {
     "data": {
      "text/html": [
       "<style>\n",
       ".list-inline {list-style: none; margin:0; padding: 0}\n",
       ".list-inline>li {display: inline-block}\n",
       ".list-inline>li:not(:last-child)::after {content: \"\\00b7\"; padding: 0 .5ex}\n",
       "</style>\n",
       "<ol class=list-inline><li>TRUE</li><li>TRUE</li><li>TRUE</li><li>TRUE</li><li>TRUE</li><li>TRUE</li><li>TRUE</li><li>TRUE</li><li>TRUE</li><li>TRUE</li><li>TRUE</li><li>TRUE</li><li>TRUE</li><li>TRUE</li><li>TRUE</li><li>TRUE</li></ol>\n"
      ],
      "text/latex": [
       "\\begin{enumerate*}\n",
       "\\item TRUE\n",
       "\\item TRUE\n",
       "\\item TRUE\n",
       "\\item TRUE\n",
       "\\item TRUE\n",
       "\\item TRUE\n",
       "\\item TRUE\n",
       "\\item TRUE\n",
       "\\item TRUE\n",
       "\\item TRUE\n",
       "\\item TRUE\n",
       "\\item TRUE\n",
       "\\item TRUE\n",
       "\\item TRUE\n",
       "\\item TRUE\n",
       "\\item TRUE\n",
       "\\end{enumerate*}\n"
      ],
      "text/markdown": [
       "1. TRUE\n",
       "2. TRUE\n",
       "3. TRUE\n",
       "4. TRUE\n",
       "5. TRUE\n",
       "6. TRUE\n",
       "7. TRUE\n",
       "8. TRUE\n",
       "9. TRUE\n",
       "10. TRUE\n",
       "11. TRUE\n",
       "12. TRUE\n",
       "13. TRUE\n",
       "14. TRUE\n",
       "15. TRUE\n",
       "16. TRUE\n",
       "\n",
       "\n"
      ],
      "text/plain": [
       " [1] TRUE TRUE TRUE TRUE TRUE TRUE TRUE TRUE TRUE TRUE TRUE TRUE TRUE TRUE TRUE\n",
       "[16] TRUE"
      ]
     },
     "metadata": {},
     "output_type": "display_data"
    }
   ],
   "source": [
    "select.ct %in% levels(park.metadata.df$cluster)"
   ]
  },
  {
   "cell_type": "code",
   "execution_count": 69,
   "metadata": {},
   "outputs": [
    {
     "data": {
      "text/html": [
       "<style>\n",
       ".list-inline {list-style: none; margin:0; padding: 0}\n",
       ".list-inline>li {display: inline-block}\n",
       ".list-inline>li:not(:last-child)::after {content: \"\\00b7\"; padding: 0 .5ex}\n",
       "</style>\n",
       "<ol class=list-inline><li>TRUE</li><li>TRUE</li><li>TRUE</li><li>TRUE</li><li>TRUE</li><li>TRUE</li><li>TRUE</li><li>TRUE</li><li>TRUE</li><li>TRUE</li><li>TRUE</li><li>TRUE</li><li>TRUE</li><li>TRUE</li><li>TRUE</li><li>TRUE</li></ol>\n"
      ],
      "text/latex": [
       "\\begin{enumerate*}\n",
       "\\item TRUE\n",
       "\\item TRUE\n",
       "\\item TRUE\n",
       "\\item TRUE\n",
       "\\item TRUE\n",
       "\\item TRUE\n",
       "\\item TRUE\n",
       "\\item TRUE\n",
       "\\item TRUE\n",
       "\\item TRUE\n",
       "\\item TRUE\n",
       "\\item TRUE\n",
       "\\item TRUE\n",
       "\\item TRUE\n",
       "\\item TRUE\n",
       "\\item TRUE\n",
       "\\end{enumerate*}\n"
      ],
      "text/markdown": [
       "1. TRUE\n",
       "2. TRUE\n",
       "3. TRUE\n",
       "4. TRUE\n",
       "5. TRUE\n",
       "6. TRUE\n",
       "7. TRUE\n",
       "8. TRUE\n",
       "9. TRUE\n",
       "10. TRUE\n",
       "11. TRUE\n",
       "12. TRUE\n",
       "13. TRUE\n",
       "14. TRUE\n",
       "15. TRUE\n",
       "16. TRUE\n",
       "\n",
       "\n"
      ],
      "text/plain": [
       " [1] TRUE TRUE TRUE TRUE TRUE TRUE TRUE TRUE TRUE TRUE TRUE TRUE TRUE TRUE TRUE\n",
       "[16] TRUE"
      ]
     },
     "metadata": {},
     "output_type": "display_data"
    }
   ],
   "source": [
    "levels(park.metadata.df$cluster) %in% select.ct"
   ]
  },
  {
   "cell_type": "code",
   "execution_count": 70,
   "metadata": {},
   "outputs": [
    {
     "name": "stderr",
     "output_type": "stream",
     "text": [
      "Creating Relative Abudance Matrix...\n",
      "\n",
      "Creating Variance Matrix...\n",
      "\n",
      "Creating Library Size Matrix...\n",
      "\n",
      "Used 13967 common genes...\n",
      "\n",
      "Used 16 cell types in deconvolution...\n",
      "\n",
      "GSM1591197_Normalrep1 has common genes 13051 ...\n",
      "\n",
      "GSM1591198_Normalrep2 has common genes 13309 ...\n",
      "\n",
      "GSM1591199_Normalrep3 has common genes 13162 ...\n",
      "\n",
      "GSM1591200_FA1dayrep1 has common genes 12959 ...\n",
      "\n",
      "GSM1591201_FA1dayrep2 has common genes 13214 ...\n",
      "\n",
      "GSM1591202_FA1dayrep3 has common genes 13386 ...\n",
      "\n",
      "GSM1591203_FA2dayrep1 has common genes 13264 ...\n",
      "\n",
      "GSM1591204_FA2dayrep2 has common genes 12239 ...\n",
      "\n",
      "GSM1591205_FA2dayrep3 has common genes 13045 ...\n",
      "\n",
      "GSM1591206_FA3dayrep1 has common genes 13226 ...\n",
      "\n",
      "GSM1591207_FA3dayrep2 has common genes 13188 ...\n",
      "\n",
      "GSM1591208_FA3dayrep3 has common genes 13289 ...\n",
      "\n",
      "GSM1591209_FA7dayrep1 has common genes 13195 ...\n",
      "\n",
      "GSM1591210_FA7dayrep2 has common genes 13323 ...\n",
      "\n",
      "GSM1591211_FA7dayrep3 has common genes 13358 ...\n",
      "\n",
      "GSM1591212_FA14dayrep1 has common genes 13392 ...\n",
      "\n",
      "GSM1591213_FA14dayrep2 has common genes 13265 ...\n",
      "\n",
      "GSM1591214_FA14dayrep3 has common genes 13371 ...\n",
      "\n"
     ]
    }
   ],
   "source": [
    "# Estimate cell type proportions\n",
    "Est.prop <- music_prop(bulk.eset = craciun.es, \n",
    "                      sc.eset = park.filter.sampled.es, \n",
    "                      clusters = 'cluster',\n",
    "                      samples = 'sampleID',\n",
    "                      select.ct = select.ct, verbose = T)"
   ]
  },
  {
   "cell_type": "code",
   "execution_count": null,
   "metadata": {},
   "outputs": [],
   "source": []
  }
 ],
 "metadata": {
  "kernelspec": {
   "display_name": "R",
   "language": "R",
   "name": "ir"
  },
  "language_info": {
   "codemirror_mode": "r",
   "file_extension": ".r",
   "mimetype": "text/x-r-source",
   "name": "R",
   "pygments_lexer": "r",
   "version": "4.2.3"
  }
 },
 "nbformat": 4,
 "nbformat_minor": 4
}
