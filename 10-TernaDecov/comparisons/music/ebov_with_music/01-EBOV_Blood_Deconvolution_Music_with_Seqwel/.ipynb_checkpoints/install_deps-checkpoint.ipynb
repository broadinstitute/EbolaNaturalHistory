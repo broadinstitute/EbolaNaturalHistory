{
 "cells": [
  {
   "cell_type": "code",
   "execution_count": 1,
   "metadata": {},
   "outputs": [
    {
     "name": "stderr",
     "output_type": "stream",
     "text": [
      "Installing package into ‘/home/nbarkas/R/x86_64-pc-linux-gnu-library/4.0’\n",
      "(as ‘lib’ is unspecified)\n",
      "\n",
      "'getOption(\"repos\")' replaces Bioconductor standard repositories, see\n",
      "'?repositories' for details\n",
      "\n",
      "replacement repositories:\n",
      "    CRAN: https://cran.r-project.org\n",
      "\n",
      "\n",
      "Bioconductor version 3.12 (BiocManager 1.30.12), R 4.0.3 (2020-10-10)\n",
      "\n",
      "Installing package(s) 'Biobase'\n",
      "\n",
      "Installation paths not writeable, unable to update packages\n",
      "  path: /opt/R/4.0.3/lib/R/library\n",
      "  packages:\n",
      "    boot, class, cluster, codetools, foreign, KernSmooth, lattice, MASS,\n",
      "    Matrix, mgcv, nlme, nnet, spatial, survival\n",
      "\n",
      "Old packages: 'BiocGenerics', 'biomaRt', 'bitops', 'brio', 'broom', 'callr',\n",
      "  'caTools', 'cli', 'clue', 'colorspace', 'cpp11', 'curl', 'dbplyr',\n",
      "  'DelayedArray', 'dendsort', 'desc', 'DESeq2', 'devtools', 'diffobj', 'dplyr',\n",
      "  'dqrng', 'drat', 'dslabs', 'DT', 'ellipsis', 'formatR', 'GenomeInfoDb',\n",
      "  'GenomicFeatures', 'gert', 'gh', 'haven', 'highr', 'httpuv', 'isoband',\n",
      "  'jquerylib', 'knitr', 'later', 'lubridate', 'maptools', 'MatrixGenerics',\n",
      "  'MatrixModels', 'openssl', 'pagoda2', 'parallelly', 'pbdZMQ', 'pbkrtest',\n",
      "  'pillar', 'pkgload', 'processx', 'RcppArmadillo', 'RcppSpdlog', 'RCurl',\n",
      "  'remotes', 'reprex', 'reticulate', 'rio', 'rlang', 'rmarkdown', 'RSQLite',\n",
      "  'rvest', 'sccore', 'Seurat', 'spatstat', 'spatstat.data', 'spatstat.utils',\n",
      "  'tibble', 'tidyr', 'tidyselect', 'tidyverse', 'tinytex', 'usethis', 'utf8',\n",
      "  'vctrs', 'viridis', 'viridisLite', 'waldo', 'withr', 'xfun', 'XML', 'zoo'\n",
      "\n",
      "Installing package into ‘/home/nbarkas/R/x86_64-pc-linux-gnu-library/4.0’\n",
      "(as ‘lib’ is unspecified)\n",
      "\n",
      "Downloading GitHub repo cran/MCMCpack@HEAD\n",
      "\n"
     ]
    },
    {
     "name": "stdout",
     "output_type": "stream",
     "text": [
      "RcppArmad... (0.10.2.1.0 -> 0.10.4.0.0) [CRAN]\n",
      "MatrixModels (0.4-1      -> 0.5-0     ) [CRAN]\n"
     ]
    },
    {
     "name": "stderr",
     "output_type": "stream",
     "text": [
      "Installing 2 packages: RcppArmadillo, MatrixModels\n",
      "\n",
      "Installing packages into ‘/home/nbarkas/R/x86_64-pc-linux-gnu-library/4.0’\n",
      "(as ‘lib’ is unspecified)\n",
      "\n"
     ]
    },
    {
     "name": "stdout",
     "output_type": "stream",
     "text": [
      "\u001b[32m✔\u001b[39m  \u001b[90mchecking for file ‘/tmp/Rtmp6MN1AY/remotes42164088f237/cran-MCMCpack-c5cb814/DESCRIPTION’\u001b[39m\u001b[36m\u001b[39m\n",
      "\u001b[90m─\u001b[39m\u001b[90m  \u001b[39m\u001b[90mpreparing ‘MCMCpack’:\u001b[39m\u001b[36m\u001b[39m\n",
      "\u001b[32m✔\u001b[39m  \u001b[90mchecking DESCRIPTION meta-information\u001b[39m\u001b[36m\u001b[39m\n",
      "\u001b[90m─\u001b[39m\u001b[90m  \u001b[39m\u001b[90mcleaning src\u001b[39m\u001b[36m\u001b[39m\n",
      "\u001b[90m─\u001b[39m\u001b[90m  \u001b[39m\u001b[90mrunning ‘cleanup’\u001b[39m\u001b[36m\u001b[39m\n",
      "\u001b[90m─\u001b[39m\u001b[90m  \u001b[39m\u001b[90mchecking for LF line-endings in source and make files and shell scripts\u001b[39m\u001b[36m\u001b[39m\n",
      "\u001b[90m─\u001b[39m\u001b[90m  \u001b[39m\u001b[90mchecking for empty or unneeded directories\u001b[39m\u001b[36m\u001b[39m\n",
      "\u001b[90m─\u001b[39m\u001b[90m  \u001b[39m\u001b[90mlooking to see if a ‘data/datalist’ file should be added\u001b[39m\u001b[36m\u001b[39m\n",
      "\u001b[90m─\u001b[39m\u001b[90m  \u001b[39m\u001b[90mbuilding ‘MCMCpack_1.5-0.tar.gz’\u001b[39m\u001b[36m\u001b[39m\n",
      "   \n",
      "\r"
     ]
    },
    {
     "name": "stderr",
     "output_type": "stream",
     "text": [
      "Installing package into ‘/home/nbarkas/R/x86_64-pc-linux-gnu-library/4.0’\n",
      "(as ‘lib’ is unspecified)\n",
      "\n",
      "Downloading GitHub repo xuranw/MuSiC@HEAD\n",
      "\n"
     ]
    },
    {
     "name": "stdout",
     "output_type": "stream",
     "text": [
      "utf8        (1.1.4  -> 1.2.1 ) [CRAN]\n",
      "cli         (2.3.1  -> 2.5.0 ) [CRAN]\n",
      "vctrs       (0.3.6  -> 0.3.8 ) [CRAN]\n",
      "rlang       (0.4.10 -> 0.4.11) [CRAN]\n",
      "pillar      (1.5.0  -> 1.6.0 ) [CRAN]\n",
      "ellipsis    (0.3.1  -> 0.3.2 ) [CRAN]\n",
      "colorspace  (2.0-0  -> 2.0-1 ) [CRAN]\n",
      "viridisLite (0.3.0  -> 0.4.0 ) [CRAN]\n",
      "withr       (2.4.1  -> 2.4.2 ) [CRAN]\n",
      "tibble      (3.1.0  -> 3.1.1 ) [CRAN]\n",
      "isoband     (0.2.3  -> 0.2.4 ) [CRAN]\n"
     ]
    },
    {
     "name": "stderr",
     "output_type": "stream",
     "text": [
      "Skipping 1 packages not available: Biobase\n",
      "\n",
      "Installing 11 packages: utf8, cli, vctrs, rlang, pillar, ellipsis, colorspace, viridisLite, withr, tibble, isoband\n",
      "\n",
      "Installing packages into ‘/home/nbarkas/R/x86_64-pc-linux-gnu-library/4.0’\n",
      "(as ‘lib’ is unspecified)\n",
      "\n"
     ]
    },
    {
     "name": "stdout",
     "output_type": "stream",
     "text": [
      "\u001b[32m✔\u001b[39m  \u001b[90mchecking for file ‘/tmp/Rtmp6MN1AY/remotes421624a16f92/xuranw-MuSiC-963d324/DESCRIPTION’\u001b[39m\u001b[36m\u001b[39m\n",
      "\u001b[90m─\u001b[39m\u001b[90m  \u001b[39m\u001b[90mpreparing ‘MuSiC’:\u001b[39m\u001b[36m\u001b[39m\n",
      "\u001b[32m✔\u001b[39m  \u001b[90mchecking DESCRIPTION meta-information\u001b[39m\u001b[36m\u001b[39m\n",
      "\u001b[90m─\u001b[39m\u001b[90m  \u001b[39m\u001b[90mchecking for LF line-endings in source and make files and shell scripts\u001b[39m\u001b[36m\u001b[39m\n",
      "\u001b[90m─\u001b[39m\u001b[90m  \u001b[39m\u001b[90mchecking for empty or unneeded directories\u001b[39m\u001b[36m\u001b[39m\n",
      "\u001b[90m─\u001b[39m\u001b[90m  \u001b[39m\u001b[90mbuilding ‘MuSiC_0.1.1.tar.gz’\u001b[39m\u001b[36m\u001b[39m\n",
      "   \n",
      "\r"
     ]
    },
    {
     "name": "stderr",
     "output_type": "stream",
     "text": [
      "Installing package into ‘/home/nbarkas/R/x86_64-pc-linux-gnu-library/4.0’\n",
      "(as ‘lib’ is unspecified)\n",
      "\n",
      "Skipping install of 'xbioc' from a github remote, the SHA1 (1354168b) has not changed since last install.\n",
      "  Use `force = TRUE` to force installation\n",
      "\n"
     ]
    }
   ],
   "source": [
    "install.packages(\"BiocManager\", repos = \"http://cran.us.r-project.org\")\n",
    "BiocManager::install(\"Biobase\")\n",
    "install.packages(\"remotes\", repos = \"http://cran.us.r-project.org\")\n",
    "remotes::install_github(\"cran/MCMCpack\")\n",
    "remotes::install_github(\"xuranw/MuSiC\")\n",
    "remotes::install_github(\"renozao/xbioc\")"
   ]
  },
  {
   "cell_type": "code",
   "execution_count": 5,
   "metadata": {},
   "outputs": [
    {
     "name": "stderr",
     "output_type": "stream",
     "text": [
      "Installing package into ‘/home/nbarkas/R/x86_64-pc-linux-gnu-library/4.0’\n",
      "(as ‘lib’ is unspecified)\n",
      "\n"
     ]
    }
   ],
   "source": [
    "install.packages('rlang')"
   ]
  },
  {
   "cell_type": "markdown",
   "metadata": {},
   "source": [
    "install.packages('pillar')"
   ]
  }
 ],
 "metadata": {
  "kernelspec": {
   "display_name": "R",
   "language": "R",
   "name": "ir"
  },
  "language_info": {
   "codemirror_mode": "r",
   "file_extension": ".r",
   "mimetype": "text/x-r-source",
   "name": "R",
   "pygments_lexer": "r",
   "version": "4.0.3"
  }
 },
 "nbformat": 4,
 "nbformat_minor": 4
}
