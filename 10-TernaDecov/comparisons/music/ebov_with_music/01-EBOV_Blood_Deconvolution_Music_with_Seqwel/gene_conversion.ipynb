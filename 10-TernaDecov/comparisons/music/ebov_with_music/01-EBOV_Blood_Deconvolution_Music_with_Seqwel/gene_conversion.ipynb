{
 "cells": [
  {
   "cell_type": "markdown",
   "id": "79ac6b90-633e-42e9-9dc3-c81f0363618f",
   "metadata": {},
   "source": [
    "# Convert symbol for Macaque"
   ]
  },
  {
   "cell_type": "markdown",
   "id": "93adbb84-11a7-403a-a5ba-0655386276ca",
   "metadata": {},
   "source": [
    "## Load libraries"
   ]
  },
  {
   "cell_type": "code",
   "execution_count": 1,
   "id": "371286ef-14f0-40a9-9655-c8d8187ec996",
   "metadata": {},
   "outputs": [],
   "source": [
    "suppressPackageStartupMessages(library(MuSiC))\n",
    "suppressPackageStartupMessages(library(xbioc))\n",
    "suppressPackageStartupMessages(library(Biobase))\n",
    "suppressPackageStartupMessages(library(SummarizedExperiment))\n",
    "suppressPackageStartupMessages(library(DESeq2))\n",
    "suppressPackageStartupMessages(library(Biobase))"
   ]
  },
  {
   "cell_type": "markdown",
   "id": "fe5b558e-fc8c-417f-896c-6262673cbdea",
   "metadata": {},
   "source": [
    "## Load prepared single-cell reference (seq-well)"
   ]
  },
  {
   "cell_type": "code",
   "execution_count": 2,
   "id": "2cc66759-503f-462a-b9e2-7fef53af16c8",
   "metadata": {},
   "outputs": [],
   "source": [
    "sc_reference <- readRDS('/home/nbarkas/disk3/ebov_bulk_rna_seq/proc_20210524/18-CompositionDeconvolution/00-reference_data/01-EBOV_sc/01-prepare-eset/eset_sc.rds')"
   ]
  },
  {
   "cell_type": "code",
   "execution_count": 3,
   "id": "ded4455e-69cb-418b-b573-3e22147a8e79",
   "metadata": {},
   "outputs": [],
   "source": [
    "genenames_in_single_cell <- rownames(exprs(sc_reference))"
   ]
  },
  {
   "cell_type": "code",
   "execution_count": 4,
   "id": "16065cd1-39d7-409d-af14-d83b8689f841",
   "metadata": {},
   "outputs": [
    {
     "data": {
      "text/html": [
       "<style>\n",
       ".list-inline {list-style: none; margin:0; padding: 0}\n",
       ".list-inline>li {display: inline-block}\n",
       ".list-inline>li:not(:last-child)::after {content: \"\\00b7\"; padding: 0 .5ex}\n",
       "</style>\n",
       "<ol class=list-inline><li>'ADSS'</li><li>'PTGER2'</li><li>'EGLN3'</li><li>'CMC1'</li><li>'TOPBP1'</li><li>'BGLAP'</li></ol>\n"
      ],
      "text/latex": [
       "\\begin{enumerate*}\n",
       "\\item 'ADSS'\n",
       "\\item 'PTGER2'\n",
       "\\item 'EGLN3'\n",
       "\\item 'CMC1'\n",
       "\\item 'TOPBP1'\n",
       "\\item 'BGLAP'\n",
       "\\end{enumerate*}\n"
      ],
      "text/markdown": [
       "1. 'ADSS'\n",
       "2. 'PTGER2'\n",
       "3. 'EGLN3'\n",
       "4. 'CMC1'\n",
       "5. 'TOPBP1'\n",
       "6. 'BGLAP'\n",
       "\n",
       "\n"
      ],
      "text/plain": [
       "[1] \"ADSS\"   \"PTGER2\" \"EGLN3\"  \"CMC1\"   \"TOPBP1\" \"BGLAP\" "
      ]
     },
     "metadata": {},
     "output_type": "display_data"
    }
   ],
   "source": [
    "head(genenames_in_single_cell)"
   ]
  },
  {
   "cell_type": "code",
   "execution_count": 5,
   "id": "dcb137d6-35a7-4a07-8a8f-2631e65a1f3c",
   "metadata": {},
   "outputs": [
    {
     "data": {
      "text/html": [
       "<style>\n",
       ".list-inline {list-style: none; margin:0; padding: 0}\n",
       ".list-inline>li {display: inline-block}\n",
       ".list-inline>li:not(:last-child)::after {content: \"\\00b7\"; padding: 0 .5ex}\n",
       "</style>\n",
       "<ol class=list-inline><li>'ENPEP'</li><li>'ENO2'</li><li>'ENKD1'</li><li>'ENTPD3'</li><li>'ENC1'</li></ol>\n"
      ],
      "text/latex": [
       "\\begin{enumerate*}\n",
       "\\item 'ENPEP'\n",
       "\\item 'ENO2'\n",
       "\\item 'ENKD1'\n",
       "\\item 'ENTPD3'\n",
       "\\item 'ENC1'\n",
       "\\end{enumerate*}\n"
      ],
      "text/markdown": [
       "1. 'ENPEP'\n",
       "2. 'ENO2'\n",
       "3. 'ENKD1'\n",
       "4. 'ENTPD3'\n",
       "5. 'ENC1'\n",
       "\n",
       "\n"
      ],
      "text/plain": [
       "[1] \"ENPEP\"  \"ENO2\"   \"ENKD1\"  \"ENTPD3\" \"ENC1\"  "
      ]
     },
     "metadata": {},
     "output_type": "display_data"
    }
   ],
   "source": [
    "# Do we have any non-SYMBOL identifiers? Such as Ensembl ids\n",
    "genenames_in_single_cell[grepl('^EN',x=genenames_in_single_cell)]"
   ]
  },
  {
   "cell_type": "markdown",
   "id": "4b685f98-7ea6-4bd7-b116-f532fec69e15",
   "metadata": {},
   "source": [
    "## Load bulk data and convert to Eset"
   ]
  },
  {
   "cell_type": "code",
   "execution_count": 6,
   "id": "c99e265a-56fa-4558-b806-b92aba64deda",
   "metadata": {},
   "outputs": [],
   "source": [
    "bulk_qc_summarized_experiment_path <- \"/home/nbarkas/disk3/ebov_bulk_rna_seq/proc_20210524/03-sample_qc/se.qc.rds\""
   ]
  },
  {
   "cell_type": "code",
   "execution_count": 7,
   "id": "f29ac750-b377-45ba-be37-5e3611b6ca68",
   "metadata": {},
   "outputs": [],
   "source": [
    "bulk.se.qc <- readRDS(bulk_qc_summarized_experiment_path)"
   ]
  },
  {
   "cell_type": "markdown",
   "id": "ac863b73-c0c2-4476-9029-cfba18c68de9",
   "metadata": {
    "tags": []
   },
   "source": [
    "## Convert"
   ]
  },
  {
   "cell_type": "code",
   "execution_count": 8,
   "id": "f050d9ef-b9fd-4655-9620-dd0fe75c6768",
   "metadata": {
    "tags": []
   },
   "outputs": [],
   "source": [
    "library(biomaRt)"
   ]
  },
  {
   "cell_type": "code",
   "execution_count": 9,
   "id": "25d0ac20-e234-4ae1-a782-4428f57d0ece",
   "metadata": {},
   "outputs": [
    {
     "data": {
      "text/html": [
       "<table class=\"dataframe\">\n",
       "<caption>A data.frame: 4 × 2</caption>\n",
       "<thead>\n",
       "\t<tr><th scope=col>biomart</th><th scope=col>version</th></tr>\n",
       "\t<tr><th scope=col>&lt;chr&gt;</th><th scope=col>&lt;chr&gt;</th></tr>\n",
       "</thead>\n",
       "<tbody>\n",
       "\t<tr><td>genes        </td><td>Ensembl Genes 104     </td></tr>\n",
       "\t<tr><td>mouse_strains</td><td>Mouse strains 104     </td></tr>\n",
       "\t<tr><td>snps         </td><td>Ensembl Variation 104 </td></tr>\n",
       "\t<tr><td>regulation   </td><td>Ensembl Regulation 104</td></tr>\n",
       "</tbody>\n",
       "</table>\n"
      ],
      "text/latex": [
       "A data.frame: 4 × 2\n",
       "\\begin{tabular}{ll}\n",
       " biomart & version\\\\\n",
       " <chr> & <chr>\\\\\n",
       "\\hline\n",
       "\t genes         & Ensembl Genes 104     \\\\\n",
       "\t mouse\\_strains & Mouse strains 104     \\\\\n",
       "\t snps          & Ensembl Variation 104 \\\\\n",
       "\t regulation    & Ensembl Regulation 104\\\\\n",
       "\\end{tabular}\n"
      ],
      "text/markdown": [
       "\n",
       "A data.frame: 4 × 2\n",
       "\n",
       "| biomart &lt;chr&gt; | version &lt;chr&gt; |\n",
       "|---|---|\n",
       "| genes         | Ensembl Genes 104      |\n",
       "| mouse_strains | Mouse strains 104      |\n",
       "| snps          | Ensembl Variation 104  |\n",
       "| regulation    | Ensembl Regulation 104 |\n",
       "\n"
      ],
      "text/plain": [
       "  biomart       version               \n",
       "1 genes         Ensembl Genes 104     \n",
       "2 mouse_strains Mouse strains 104     \n",
       "3 snps          Ensembl Variation 104 \n",
       "4 regulation    Ensembl Regulation 104"
      ]
     },
     "metadata": {},
     "output_type": "display_data"
    }
   ],
   "source": [
    "listEnsembl()"
   ]
  },
  {
   "cell_type": "code",
   "execution_count": 10,
   "id": "a096f465-5030-4a6f-acb4-05bb2a60a666",
   "metadata": {},
   "outputs": [],
   "source": [
    "ensembl <- useEnsembl(biomart=\"genes\")"
   ]
  },
  {
   "cell_type": "code",
   "execution_count": 11,
   "id": "be906f6b-2caf-4df2-a7a7-8d2fb5fffe85",
   "metadata": {},
   "outputs": [],
   "source": [
    "datasets <- listDatasets(ensembl)"
   ]
  },
  {
   "cell_type": "code",
   "execution_count": 12,
   "id": "1a6d111c-c7b4-45d6-801a-1ecc6821da90",
   "metadata": {},
   "outputs": [
    {
     "data": {
      "text/html": [
       "<table class=\"dataframe\">\n",
       "<caption>A data.frame: 1 × 3</caption>\n",
       "<thead>\n",
       "\t<tr><th></th><th scope=col>dataset</th><th scope=col>description</th><th scope=col>version</th></tr>\n",
       "\t<tr><th></th><th scope=col>&lt;I&lt;chr&gt;&gt;</th><th scope=col>&lt;I&lt;chr&gt;&gt;</th><th scope=col>&lt;I&lt;chr&gt;&gt;</th></tr>\n",
       "</thead>\n",
       "<tbody>\n",
       "\t<tr><th scope=row>104</th><td>mmulatta_gene_ensembl</td><td>Macaque genes (Mmul_10)</td><td>Mmul_10</td></tr>\n",
       "</tbody>\n",
       "</table>\n"
      ],
      "text/latex": [
       "A data.frame: 1 × 3\n",
       "\\begin{tabular}{r|lll}\n",
       "  & dataset & description & version\\\\\n",
       "  & <I<chr>> & <I<chr>> & <I<chr>>\\\\\n",
       "\\hline\n",
       "\t104 & mmulatta\\_gene\\_ensembl & Macaque genes (Mmul\\_10) & Mmul\\_10\\\\\n",
       "\\end{tabular}\n"
      ],
      "text/markdown": [
       "\n",
       "A data.frame: 1 × 3\n",
       "\n",
       "| <!--/--> | dataset &lt;I&lt;chr&gt;&gt; | description &lt;I&lt;chr&gt;&gt; | version &lt;I&lt;chr&gt;&gt; |\n",
       "|---|---|---|---|\n",
       "| 104 | mmulatta_gene_ensembl | Macaque genes (Mmul_10) | Mmul_10 |\n",
       "\n"
      ],
      "text/plain": [
       "    dataset               description             version\n",
       "104 mmulatta_gene_ensembl Macaque genes (Mmul_10) Mmul_10"
      ]
     },
     "metadata": {},
     "output_type": "display_data"
    }
   ],
   "source": [
    "searchDatasets(mart=ensembl, pattern=\"mulatta\")"
   ]
  },
  {
   "cell_type": "code",
   "execution_count": 13,
   "id": "74d6da94-b05f-474c-9b2b-3865f22b6852",
   "metadata": {},
   "outputs": [],
   "source": [
    "ensembl_mmul10 <- useDataset(dataset = \"mmulatta_gene_ensembl\", mart=ensembl)"
   ]
  },
  {
   "cell_type": "markdown",
   "id": "083309e8-b0f0-4503-9bb8-2604c415a6fc",
   "metadata": {},
   "source": [
    "### Try to convert the ensembl identifiers to gene symbols"
   ]
  },
  {
   "cell_type": "code",
   "execution_count": 22,
   "id": "865e36a1-bc15-41fb-a63a-ad271ff06d5d",
   "metadata": {},
   "outputs": [],
   "source": [
    "source(\"/home/nbarkas/disk3/ebov_bulk_rna_seq/proc_20210524/prj_helpers.R\")"
   ]
  },
  {
   "cell_type": "code",
   "execution_count": 33,
   "id": "40affbd0-c7bd-4365-a951-d9c067196c56",
   "metadata": {},
   "outputs": [],
   "source": [
    "# Remove transcript version\n",
    "gene_ids <- rownames(assay(bulk.se.qc))\n",
    "gene_ids_no_version <- strpart(rownames(assay(bulk.se.qc)),'.',fixed=T,1)"
   ]
  },
  {
   "cell_type": "code",
   "execution_count": 24,
   "id": "bbb830ab-4b5b-431f-9734-76a957439c9c",
   "metadata": {},
   "outputs": [],
   "source": [
    "attr_list <- listAttributes(mart = ensembl_mmul10)"
   ]
  },
  {
   "cell_type": "code",
   "execution_count": 25,
   "id": "1151548e-26b0-4179-8ffa-edf5558202a9",
   "metadata": {},
   "outputs": [
    {
     "data": {
      "text/html": [
       "<table class=\"dataframe\">\n",
       "<caption>A data.frame: 6 × 3</caption>\n",
       "<thead>\n",
       "\t<tr><th></th><th scope=col>name</th><th scope=col>description</th><th scope=col>page</th></tr>\n",
       "\t<tr><th></th><th scope=col>&lt;chr&gt;</th><th scope=col>&lt;chr&gt;</th><th scope=col>&lt;chr&gt;</th></tr>\n",
       "</thead>\n",
       "<tbody>\n",
       "\t<tr><th scope=row>1</th><td>ensembl_gene_id              </td><td>Gene stable ID              </td><td>feature_page</td></tr>\n",
       "\t<tr><th scope=row>2</th><td>ensembl_gene_id_version      </td><td>Gene stable ID version      </td><td>feature_page</td></tr>\n",
       "\t<tr><th scope=row>3</th><td>ensembl_transcript_id        </td><td>Transcript stable ID        </td><td>feature_page</td></tr>\n",
       "\t<tr><th scope=row>4</th><td>ensembl_transcript_id_version</td><td>Transcript stable ID version</td><td>feature_page</td></tr>\n",
       "\t<tr><th scope=row>5</th><td>ensembl_peptide_id           </td><td>Protein stable ID           </td><td>feature_page</td></tr>\n",
       "\t<tr><th scope=row>6</th><td>ensembl_peptide_id_version   </td><td>Protein stable ID version   </td><td>feature_page</td></tr>\n",
       "</tbody>\n",
       "</table>\n"
      ],
      "text/latex": [
       "A data.frame: 6 × 3\n",
       "\\begin{tabular}{r|lll}\n",
       "  & name & description & page\\\\\n",
       "  & <chr> & <chr> & <chr>\\\\\n",
       "\\hline\n",
       "\t1 & ensembl\\_gene\\_id               & Gene stable ID               & feature\\_page\\\\\n",
       "\t2 & ensembl\\_gene\\_id\\_version       & Gene stable ID version       & feature\\_page\\\\\n",
       "\t3 & ensembl\\_transcript\\_id         & Transcript stable ID         & feature\\_page\\\\\n",
       "\t4 & ensembl\\_transcript\\_id\\_version & Transcript stable ID version & feature\\_page\\\\\n",
       "\t5 & ensembl\\_peptide\\_id            & Protein stable ID            & feature\\_page\\\\\n",
       "\t6 & ensembl\\_peptide\\_id\\_version    & Protein stable ID version    & feature\\_page\\\\\n",
       "\\end{tabular}\n"
      ],
      "text/markdown": [
       "\n",
       "A data.frame: 6 × 3\n",
       "\n",
       "| <!--/--> | name &lt;chr&gt; | description &lt;chr&gt; | page &lt;chr&gt; |\n",
       "|---|---|---|---|\n",
       "| 1 | ensembl_gene_id               | Gene stable ID               | feature_page |\n",
       "| 2 | ensembl_gene_id_version       | Gene stable ID version       | feature_page |\n",
       "| 3 | ensembl_transcript_id         | Transcript stable ID         | feature_page |\n",
       "| 4 | ensembl_transcript_id_version | Transcript stable ID version | feature_page |\n",
       "| 5 | ensembl_peptide_id            | Protein stable ID            | feature_page |\n",
       "| 6 | ensembl_peptide_id_version    | Protein stable ID version    | feature_page |\n",
       "\n"
      ],
      "text/plain": [
       "  name                          description                  page        \n",
       "1 ensembl_gene_id               Gene stable ID               feature_page\n",
       "2 ensembl_gene_id_version       Gene stable ID version       feature_page\n",
       "3 ensembl_transcript_id         Transcript stable ID         feature_page\n",
       "4 ensembl_transcript_id_version Transcript stable ID version feature_page\n",
       "5 ensembl_peptide_id            Protein stable ID            feature_page\n",
       "6 ensembl_peptide_id_version    Protein stable ID version    feature_page"
      ]
     },
     "metadata": {},
     "output_type": "display_data"
    }
   ],
   "source": [
    "head(attr_list)"
   ]
  },
  {
   "cell_type": "code",
   "execution_count": 26,
   "id": "524b33a8-901b-41cd-ad64-6e9bcffcb6a7",
   "metadata": {},
   "outputs": [
    {
     "data": {
      "text/html": [
       "<table class=\"dataframe\">\n",
       "<caption>A data.frame: 2 × 3</caption>\n",
       "<thead>\n",
       "\t<tr><th></th><th scope=col>name</th><th scope=col>description</th><th scope=col>page</th></tr>\n",
       "\t<tr><th></th><th scope=col>&lt;chr&gt;</th><th scope=col>&lt;chr&gt;</th><th scope=col>&lt;chr&gt;</th></tr>\n",
       "</thead>\n",
       "<tbody>\n",
       "\t<tr><th scope=row>50</th><td>hgnc_symbol      </td><td>HGNC symbol               </td><td>feature_page</td></tr>\n",
       "\t<tr><th scope=row>73</th><td>uniprot_gn_symbol</td><td>UniProtKB Gene Name symbol</td><td>feature_page</td></tr>\n",
       "</tbody>\n",
       "</table>\n"
      ],
      "text/latex": [
       "A data.frame: 2 × 3\n",
       "\\begin{tabular}{r|lll}\n",
       "  & name & description & page\\\\\n",
       "  & <chr> & <chr> & <chr>\\\\\n",
       "\\hline\n",
       "\t50 & hgnc\\_symbol       & HGNC symbol                & feature\\_page\\\\\n",
       "\t73 & uniprot\\_gn\\_symbol & UniProtKB Gene Name symbol & feature\\_page\\\\\n",
       "\\end{tabular}\n"
      ],
      "text/markdown": [
       "\n",
       "A data.frame: 2 × 3\n",
       "\n",
       "| <!--/--> | name &lt;chr&gt; | description &lt;chr&gt; | page &lt;chr&gt; |\n",
       "|---|---|---|---|\n",
       "| 50 | hgnc_symbol       | HGNC symbol                | feature_page |\n",
       "| 73 | uniprot_gn_symbol | UniProtKB Gene Name symbol | feature_page |\n",
       "\n"
      ],
      "text/plain": [
       "   name              description                page        \n",
       "50 hgnc_symbol       HGNC symbol                feature_page\n",
       "73 uniprot_gn_symbol UniProtKB Gene Name symbol feature_page"
      ]
     },
     "metadata": {},
     "output_type": "display_data"
    }
   ],
   "source": [
    "attr_list[grepl(\"symbol\",attr_list$name),]"
   ]
  },
  {
   "cell_type": "code",
   "execution_count": 36,
   "id": "31ca55a7-0884-4c6b-bb4b-01145d15f338",
   "metadata": {},
   "outputs": [
    {
     "name": "stderr",
     "output_type": "stream",
     "text": [
      "\n",
      "Batch submitting query [===>---------------------------]  12% eta:  9s\n",
      "\n",
      "Batch submitting query [=======>-----------------------]  25% eta:  7s\n",
      "\n",
      "Batch submitting query [===========>-------------------]  38% eta:  6s\n",
      "\n",
      "Batch submitting query [===============>---------------]  50% eta:  4s\n",
      "\n",
      "Batch submitting query [==================>------------]  62% eta:  3s\n",
      "\n",
      "Batch submitting query [======================>--------]  75% eta:  2s\n",
      "\n",
      "Batch submitting query [==========================>----]  88% eta:  1s\n",
      "                                                                      \n",
      "\n"
     ]
    }
   ],
   "source": [
    "# The key here is to use 'external_gene_name', not 'hgnc_symbol' as the latter column is very sparsely populated\n",
    "#gene_conversion <- getBM(filters=\"ensembl_gene_id\",attributes=c(\"ensembl_gene_id\",\"external_gene_name\"),values=gene_ids_no_version,mart=ensembl_mmul10)\n",
    "gene_conversion <- getBM(filters=\"ensembl_gene_id_version\",attributes=c(\"ensembl_gene_id_version\",\"ensembl_gene_id\",\"external_gene_name\"),values=gene_ids,mart=ensembl_mmul10)"
   ]
  },
  {
   "cell_type": "code",
   "execution_count": 37,
   "id": "369e2bae-7551-4c6a-8dcc-d583fd69ca46",
   "metadata": {},
   "outputs": [
    {
     "data": {
      "text/html": [
       "<table class=\"dataframe\">\n",
       "<caption>A data.frame: 6 × 3</caption>\n",
       "<thead>\n",
       "\t<tr><th></th><th scope=col>ensembl_gene_id_version</th><th scope=col>ensembl_gene_id</th><th scope=col>external_gene_name</th></tr>\n",
       "\t<tr><th></th><th scope=col>&lt;chr&gt;</th><th scope=col>&lt;chr&gt;</th><th scope=col>&lt;chr&gt;</th></tr>\n",
       "</thead>\n",
       "<tbody>\n",
       "\t<tr><th scope=row>1</th><td>ENSMMUG00000000009.4</td><td>ENSMMUG00000000009</td><td>PTPRC     </td></tr>\n",
       "\t<tr><th scope=row>2</th><td>ENSMMUG00000000015.4</td><td>ENSMMUG00000000015</td><td>C1H1orf100</td></tr>\n",
       "\t<tr><th scope=row>3</th><td>ENSMMUG00000000016.4</td><td>ENSMMUG00000000016</td><td>ADSS2     </td></tr>\n",
       "\t<tr><th scope=row>4</th><td>ENSMMUG00000000021.4</td><td>ENSMMUG00000000021</td><td>CATSPERE  </td></tr>\n",
       "\t<tr><th scope=row>5</th><td>ENSMMUG00000000037.4</td><td>ENSMMUG00000000037</td><td>ISG20L2   </td></tr>\n",
       "\t<tr><th scope=row>6</th><td>ENSMMUG00000000038.4</td><td>ENSMMUG00000000038</td><td>RRNAD1    </td></tr>\n",
       "</tbody>\n",
       "</table>\n"
      ],
      "text/latex": [
       "A data.frame: 6 × 3\n",
       "\\begin{tabular}{r|lll}\n",
       "  & ensembl\\_gene\\_id\\_version & ensembl\\_gene\\_id & external\\_gene\\_name\\\\\n",
       "  & <chr> & <chr> & <chr>\\\\\n",
       "\\hline\n",
       "\t1 & ENSMMUG00000000009.4 & ENSMMUG00000000009 & PTPRC     \\\\\n",
       "\t2 & ENSMMUG00000000015.4 & ENSMMUG00000000015 & C1H1orf100\\\\\n",
       "\t3 & ENSMMUG00000000016.4 & ENSMMUG00000000016 & ADSS2     \\\\\n",
       "\t4 & ENSMMUG00000000021.4 & ENSMMUG00000000021 & CATSPERE  \\\\\n",
       "\t5 & ENSMMUG00000000037.4 & ENSMMUG00000000037 & ISG20L2   \\\\\n",
       "\t6 & ENSMMUG00000000038.4 & ENSMMUG00000000038 & RRNAD1    \\\\\n",
       "\\end{tabular}\n"
      ],
      "text/markdown": [
       "\n",
       "A data.frame: 6 × 3\n",
       "\n",
       "| <!--/--> | ensembl_gene_id_version &lt;chr&gt; | ensembl_gene_id &lt;chr&gt; | external_gene_name &lt;chr&gt; |\n",
       "|---|---|---|---|\n",
       "| 1 | ENSMMUG00000000009.4 | ENSMMUG00000000009 | PTPRC      |\n",
       "| 2 | ENSMMUG00000000015.4 | ENSMMUG00000000015 | C1H1orf100 |\n",
       "| 3 | ENSMMUG00000000016.4 | ENSMMUG00000000016 | ADSS2      |\n",
       "| 4 | ENSMMUG00000000021.4 | ENSMMUG00000000021 | CATSPERE   |\n",
       "| 5 | ENSMMUG00000000037.4 | ENSMMUG00000000037 | ISG20L2    |\n",
       "| 6 | ENSMMUG00000000038.4 | ENSMMUG00000000038 | RRNAD1     |\n",
       "\n"
      ],
      "text/plain": [
       "  ensembl_gene_id_version ensembl_gene_id    external_gene_name\n",
       "1 ENSMMUG00000000009.4    ENSMMUG00000000009 PTPRC             \n",
       "2 ENSMMUG00000000015.4    ENSMMUG00000000015 C1H1orf100        \n",
       "3 ENSMMUG00000000016.4    ENSMMUG00000000016 ADSS2             \n",
       "4 ENSMMUG00000000021.4    ENSMMUG00000000021 CATSPERE          \n",
       "5 ENSMMUG00000000037.4    ENSMMUG00000000037 ISG20L2           \n",
       "6 ENSMMUG00000000038.4    ENSMMUG00000000038 RRNAD1            "
      ]
     },
     "metadata": {},
     "output_type": "display_data"
    }
   ],
   "source": [
    "head(gene_conversion)"
   ]
  },
  {
   "cell_type": "code",
   "execution_count": 38,
   "id": "74133b09-3d25-42e7-a8f1-e5b2bf4afbe6",
   "metadata": {},
   "outputs": [
    {
     "data": {
      "text/html": [
       "<style>\n",
       ".list-inline {list-style: none; margin:0; padding: 0}\n",
       ".list-inline>li {display: inline-block}\n",
       ".list-inline>li:not(:last-child)::after {content: \"\\00b7\"; padding: 0 .5ex}\n",
       "</style>\n",
       "<ol class=list-inline><li>35395</li><li>3</li></ol>\n"
      ],
      "text/latex": [
       "\\begin{enumerate*}\n",
       "\\item 35395\n",
       "\\item 3\n",
       "\\end{enumerate*}\n"
      ],
      "text/markdown": [
       "1. 35395\n",
       "2. 3\n",
       "\n",
       "\n"
      ],
      "text/plain": [
       "[1] 35395     3"
      ]
     },
     "metadata": {},
     "output_type": "display_data"
    }
   ],
   "source": [
    "dim(gene_conversion)"
   ]
  },
  {
   "cell_type": "code",
   "execution_count": 39,
   "id": "aa454665-a469-453b-8b18-c25fdd59b739",
   "metadata": {},
   "outputs": [],
   "source": [
    "write.csv(x=gene_conversion,file=\"gene_conversion.csv\")"
   ]
  },
  {
   "cell_type": "code",
   "execution_count": null,
   "id": "972b7de0-0fe1-4f39-be31-c7bc0f79b4b7",
   "metadata": {},
   "outputs": [],
   "source": []
  }
 ],
 "metadata": {
  "kernelspec": {
   "display_name": "R",
   "language": "R",
   "name": "ir"
  },
  "language_info": {
   "codemirror_mode": "r",
   "file_extension": ".r",
   "mimetype": "text/x-r-source",
   "name": "R",
   "pygments_lexer": "r",
   "version": "4.0.3"
  }
 },
 "nbformat": 4,
 "nbformat_minor": 5
}
