{
 "cells": [
  {
   "cell_type": "markdown",
   "metadata": {},
   "source": [
    "# 02-PBMC-Deconvolution_Music_withSeqwell"
   ]
  },
  {
   "cell_type": "code",
   "execution_count": 1,
   "metadata": {},
   "outputs": [],
   "source": [
    "# Load libraries\n",
    "suppressPackageStartupMessages(library(MuSiC))\n",
    "suppressPackageStartupMessages(library(xbioc))\n",
    "suppressPackageStartupMessages(library(Biobase))\n",
    "suppressPackageStartupMessages(library(SummarizedExperiment))\n",
    "suppressPackageStartupMessages(library(DESeq2))\n",
    "suppressPackageStartupMessages(library(Biobase))"
   ]
  },
  {
   "cell_type": "markdown",
   "metadata": {},
   "source": [
    "## Load prepared single-cell reference (seq-well)"
   ]
  },
  {
   "cell_type": "code",
   "execution_count": 2,
   "metadata": {},
   "outputs": [],
   "source": [
    "sc_reference <- readRDS('/home/nbarkas/disk3/ebov_bulk_rna_seq/proc_20210524/18-CompositionDeconvolution/00-reference_data/01-EBOV_sc/01-prepare-eset/eset_sc.rds')"
   ]
  },
  {
   "cell_type": "code",
   "execution_count": 3,
   "metadata": {},
   "outputs": [],
   "source": [
    "genenames_in_single_cell <- rownames(exprs(sc_reference))"
   ]
  },
  {
   "cell_type": "code",
   "execution_count": 4,
   "metadata": {},
   "outputs": [
    {
     "data": {
      "text/html": [
       "<style>\n",
       ".list-inline {list-style: none; margin:0; padding: 0}\n",
       ".list-inline>li {display: inline-block}\n",
       ".list-inline>li:not(:last-child)::after {content: \"\\00b7\"; padding: 0 .5ex}\n",
       "</style>\n",
       "<ol class=list-inline><li>'ADSS'</li><li>'PTGER2'</li><li>'EGLN3'</li><li>'CMC1'</li><li>'TOPBP1'</li><li>'BGLAP'</li></ol>\n"
      ],
      "text/latex": [
       "\\begin{enumerate*}\n",
       "\\item 'ADSS'\n",
       "\\item 'PTGER2'\n",
       "\\item 'EGLN3'\n",
       "\\item 'CMC1'\n",
       "\\item 'TOPBP1'\n",
       "\\item 'BGLAP'\n",
       "\\end{enumerate*}\n"
      ],
      "text/markdown": [
       "1. 'ADSS'\n",
       "2. 'PTGER2'\n",
       "3. 'EGLN3'\n",
       "4. 'CMC1'\n",
       "5. 'TOPBP1'\n",
       "6. 'BGLAP'\n",
       "\n",
       "\n"
      ],
      "text/plain": [
       "[1] \"ADSS\"   \"PTGER2\" \"EGLN3\"  \"CMC1\"   \"TOPBP1\" \"BGLAP\" "
      ]
     },
     "metadata": {},
     "output_type": "display_data"
    }
   ],
   "source": [
    "head(genenames_in_single_cell)"
   ]
  },
  {
   "cell_type": "code",
   "execution_count": 5,
   "metadata": {},
   "outputs": [
    {
     "data": {
      "text/html": [
       "<style>\n",
       ".list-inline {list-style: none; margin:0; padding: 0}\n",
       ".list-inline>li {display: inline-block}\n",
       ".list-inline>li:not(:last-child)::after {content: \"\\00b7\"; padding: 0 .5ex}\n",
       "</style>\n",
       "<ol class=list-inline><li>'ENPEP'</li><li>'ENO2'</li><li>'ENKD1'</li><li>'ENTPD3'</li><li>'ENC1'</li></ol>\n"
      ],
      "text/latex": [
       "\\begin{enumerate*}\n",
       "\\item 'ENPEP'\n",
       "\\item 'ENO2'\n",
       "\\item 'ENKD1'\n",
       "\\item 'ENTPD3'\n",
       "\\item 'ENC1'\n",
       "\\end{enumerate*}\n"
      ],
      "text/markdown": [
       "1. 'ENPEP'\n",
       "2. 'ENO2'\n",
       "3. 'ENKD1'\n",
       "4. 'ENTPD3'\n",
       "5. 'ENC1'\n",
       "\n",
       "\n"
      ],
      "text/plain": [
       "[1] \"ENPEP\"  \"ENO2\"   \"ENKD1\"  \"ENTPD3\" \"ENC1\"  "
      ]
     },
     "metadata": {},
     "output_type": "display_data"
    }
   ],
   "source": [
    "# Do we have any non-SYMBOL identifiers? Such as Ensembl ids\n",
    "genenames_in_single_cell[grepl('^EN',x=genenames_in_single_cell)]"
   ]
  },
  {
   "cell_type": "markdown",
   "metadata": {},
   "source": [
    "## Load bulk data and convert to Eset"
   ]
  },
  {
   "cell_type": "code",
   "execution_count": 6,
   "metadata": {},
   "outputs": [],
   "source": [
    "bulk_qc_summarized_experiment_path <- \"/home/nbarkas/disk3/ebov_bulk_rna_seq/proc_20210524/03-sample_qc/se.qc.rds\""
   ]
  },
  {
   "cell_type": "code",
   "execution_count": 7,
   "metadata": {},
   "outputs": [],
   "source": [
    "bulk.se.qc <- readRDS(bulk_qc_summarized_experiment_path)"
   ]
  },
  {
   "cell_type": "code",
   "execution_count": 8,
   "metadata": {},
   "outputs": [
    {
     "data": {
      "text/html": [
       "<style>\n",
       ".list-inline {list-style: none; margin:0; padding: 0}\n",
       ".list-inline>li {display: inline-block}\n",
       ".list-inline>li:not(:last-child)::after {content: \"\\00b7\"; padding: 0 .5ex}\n",
       "</style>\n",
       "<ol class=list-inline><li>'ENSMMUG00000023296.4'</li><li>'ENSMMUG00000036181.3'</li><li>'ENSMMUG00000000634.4'</li><li>'ENSMMUG00000037875.2'</li><li>'ENSMMUG00000000632.4'</li><li>'ENSMMUG00000064799.1'</li></ol>\n"
      ],
      "text/latex": [
       "\\begin{enumerate*}\n",
       "\\item 'ENSMMUG00000023296.4'\n",
       "\\item 'ENSMMUG00000036181.3'\n",
       "\\item 'ENSMMUG00000000634.4'\n",
       "\\item 'ENSMMUG00000037875.2'\n",
       "\\item 'ENSMMUG00000000632.4'\n",
       "\\item 'ENSMMUG00000064799.1'\n",
       "\\end{enumerate*}\n"
      ],
      "text/markdown": [
       "1. 'ENSMMUG00000023296.4'\n",
       "2. 'ENSMMUG00000036181.3'\n",
       "3. 'ENSMMUG00000000634.4'\n",
       "4. 'ENSMMUG00000037875.2'\n",
       "5. 'ENSMMUG00000000632.4'\n",
       "6. 'ENSMMUG00000064799.1'\n",
       "\n",
       "\n"
      ],
      "text/plain": [
       "[1] \"ENSMMUG00000023296.4\" \"ENSMMUG00000036181.3\" \"ENSMMUG00000000634.4\"\n",
       "[4] \"ENSMMUG00000037875.2\" \"ENSMMUG00000000632.4\" \"ENSMMUG00000064799.1\""
      ]
     },
     "metadata": {},
     "output_type": "display_data"
    }
   ],
   "source": [
    "# What are the identifiers for the bulk dataset?\n",
    "head(rownames(assay(bulk.se.qc)))"
   ]
  },
  {
   "cell_type": "markdown",
   "metadata": {},
   "source": [
    "## Convert single-cell to ensembl ids with version"
   ]
  },
  {
   "cell_type": "code",
   "execution_count": 9,
   "metadata": {},
   "outputs": [],
   "source": [
    "sc_reference_assaydata <- assayData(sc_reference)"
   ]
  },
  {
   "cell_type": "code",
   "execution_count": 10,
   "metadata": {},
   "outputs": [],
   "source": [
    "sc_refernce_phenodata <- phenoData(sc_reference)"
   ]
  },
  {
   "cell_type": "code",
   "execution_count": 11,
   "metadata": {},
   "outputs": [],
   "source": [
    "sc_reference_experimentdata <- experimentData(sc_reference)"
   ]
  },
  {
   "cell_type": "code",
   "execution_count": 12,
   "metadata": {},
   "outputs": [],
   "source": [
    "sc_reference_exprs <- sc_reference_assaydata$exprs"
   ]
  },
  {
   "cell_type": "code",
   "execution_count": 13,
   "metadata": {},
   "outputs": [
    {
     "data": {
      "text/plain": [
       "\n",
       "FALSE  TRUE \n",
       " 2069    24 "
      ]
     },
     "metadata": {},
     "output_type": "display_data"
    }
   ],
   "source": [
    "# Convert\n",
    "gene_conversion_table <- read.csv('../01-EBOV_Blood_Deconvolution_Music_with_Seqwel//gene_conversion.csv')\n",
    "mo <-  match(rownames((sc_reference_exprs)), gene_conversion_table$external_gene_name) \n",
    "table(is.na(mo))"
   ]
  },
  {
   "cell_type": "code",
   "execution_count": 14,
   "metadata": {},
   "outputs": [],
   "source": [
    "v <- make.unique(make.names(gene_conversion_table[mo,\"ensembl_gene_id_version\"]))"
   ]
  },
  {
   "cell_type": "code",
   "execution_count": 15,
   "metadata": {},
   "outputs": [
    {
     "data": {
      "text/plain": [
       "An object of class 'AnnotatedDataFrame'\n",
       "  sampleNames:\n",
       "    RA0223.D000.fresh.a1.DASH1.std_88_NovaNext_Merged_AAAACAAGACTT\n",
       "    RA0223.D000.fresh.a1.DASH1.std_88_NovaNext_Merged_AAAACACGCTTC ...\n",
       "    RA1834.D003.fresh.a1.DASH.DASH2_88_NovaNext_Merged_TTTTAGCCTGCC\n",
       "    (65232 total)\n",
       "  varLabels: Cell_Barcode Cell_Type\n",
       "  varMetadata: labelDescription"
      ]
     },
     "metadata": {},
     "output_type": "display_data"
    }
   ],
   "source": [
    "sc_refernce_phenodata"
   ]
  },
  {
   "cell_type": "code",
   "execution_count": 16,
   "metadata": {},
   "outputs": [],
   "source": [
    "rownames(sc_reference_exprs) <- v"
   ]
  },
  {
   "cell_type": "code",
   "execution_count": 17,
   "metadata": {},
   "outputs": [
    {
     "data": {
      "text/html": [
       "<style>\n",
       ".list-inline {list-style: none; margin:0; padding: 0}\n",
       ".list-inline>li {display: inline-block}\n",
       ".list-inline>li:not(:last-child)::after {content: \"\\00b7\"; padding: 0 .5ex}\n",
       "</style>\n",
       "<ol class=list-inline><li>'NA.'</li><li>'ENSMMUG00000000023.4'</li><li>'ENSMMUG00000000040.4'</li><li>'ENSMMUG00000000055.4'</li><li>'ENSMMUG00000000059.4'</li><li>'ENSMMUG00000004902.4'</li></ol>\n"
      ],
      "text/latex": [
       "\\begin{enumerate*}\n",
       "\\item 'NA.'\n",
       "\\item 'ENSMMUG00000000023.4'\n",
       "\\item 'ENSMMUG00000000040.4'\n",
       "\\item 'ENSMMUG00000000055.4'\n",
       "\\item 'ENSMMUG00000000059.4'\n",
       "\\item 'ENSMMUG00000004902.4'\n",
       "\\end{enumerate*}\n"
      ],
      "text/markdown": [
       "1. 'NA.'\n",
       "2. 'ENSMMUG00000000023.4'\n",
       "3. 'ENSMMUG00000000040.4'\n",
       "4. 'ENSMMUG00000000055.4'\n",
       "5. 'ENSMMUG00000000059.4'\n",
       "6. 'ENSMMUG00000004902.4'\n",
       "\n",
       "\n"
      ],
      "text/plain": [
       "[1] \"NA.\"                  \"ENSMMUG00000000023.4\" \"ENSMMUG00000000040.4\"\n",
       "[4] \"ENSMMUG00000000055.4\" \"ENSMMUG00000000059.4\" \"ENSMMUG00000004902.4\""
      ]
     },
     "metadata": {},
     "output_type": "display_data"
    }
   ],
   "source": [
    "head(rownames(sc_reference_exprs))"
   ]
  },
  {
   "cell_type": "code",
   "execution_count": 18,
   "metadata": {},
   "outputs": [
    {
     "data": {
      "text/html": [
       "<style>\n",
       ".list-inline {list-style: none; margin:0; padding: 0}\n",
       ".list-inline>li {display: inline-block}\n",
       ".list-inline>li:not(:last-child)::after {content: \"\\00b7\"; padding: 0 .5ex}\n",
       "</style>\n",
       "<ol class=list-inline><li>2093</li><li>65232</li></ol>\n"
      ],
      "text/latex": [
       "\\begin{enumerate*}\n",
       "\\item 2093\n",
       "\\item 65232\n",
       "\\end{enumerate*}\n"
      ],
      "text/markdown": [
       "1. 2093\n",
       "2. 65232\n",
       "\n",
       "\n"
      ],
      "text/plain": [
       "[1]  2093 65232"
      ]
     },
     "metadata": {},
     "output_type": "display_data"
    }
   ],
   "source": [
    "dim(sc_reference_exprs)"
   ]
  },
  {
   "cell_type": "code",
   "execution_count": 19,
   "metadata": {},
   "outputs": [],
   "source": [
    "sc_reference_2 <- ExpressionSet(\n",
    "    assayData=sc_reference_exprs,\n",
    "    phenoData=sc_refernce_phenodata)"
   ]
  },
  {
   "cell_type": "markdown",
   "metadata": {},
   "source": [
    "# Subset bulk to samples of interest\n"
   ]
  },
  {
   "cell_type": "code",
   "execution_count": 21,
   "metadata": {},
   "outputs": [],
   "source": [
    "tissue_of_interest <- \"PBMC\"\n",
    "se.qc.tissue <- bulk.se.qc[,bulk.se.qc$full.tissue == tissue_of_interest & bulk.se.qc$SampleType == 'Experimental']"
   ]
  },
  {
   "cell_type": "code",
   "execution_count": 22,
   "metadata": {},
   "outputs": [
    {
     "data": {
      "text/plain": [
       "class: SummarizedExperiment \n",
       "dim: 35405 6 \n",
       "metadata(0):\n",
       "assays(1): counts\n",
       "rownames(35405): ENSMMUG00000023296.4 ENSMMUG00000036181.3 ... EBOV-L\n",
       "  EBOV-3pTrailer\n",
       "rowData names(12): Geneid Chr ... external_gene_source description\n",
       "colnames(6): RA0449.D003_S105_L002 RA0452_PBMC_D005_S10 ...\n",
       "  RA1325_PBMC_D006_S12 RA1803_PBMC_D006_S13\n",
       "colData names(68): file_identifiers A.identifier ...\n",
       "  duplicate_sequencing dpi_time_2"
      ]
     },
     "metadata": {},
     "output_type": "display_data"
    }
   ],
   "source": [
    "se.qc.tissue"
   ]
  },
  {
   "cell_type": "code",
   "execution_count": 23,
   "metadata": {},
   "outputs": [],
   "source": [
    "# remove viral genes\n",
    "se.qc.tissue <- se.qc.tissue[!rowData(se.qc.tissue)$viralGene,]"
   ]
  },
  {
   "cell_type": "code",
   "execution_count": 24,
   "metadata": {},
   "outputs": [],
   "source": [
    "# Get the data we need\n",
    "cm <- assay(se.qc.tissue)\n",
    "pheno <- colData(se.qc.tissue)"
   ]
  },
  {
   "cell_type": "code",
   "execution_count": 25,
   "metadata": {},
   "outputs": [
    {
     "data": {
      "text/html": [
       "<table class=\"dataframe\">\n",
       "<caption>A matrix: 3 × 3 of type int</caption>\n",
       "<thead>\n",
       "\t<tr><th></th><th scope=col>RA0449.D003_S105_L002</th><th scope=col>RA0452_PBMC_D005_S10</th><th scope=col>RA0717_PBMC_D004_S9</th></tr>\n",
       "</thead>\n",
       "<tbody>\n",
       "\t<tr><th scope=row>ENSMMUG00000023296.4</th><td>2</td><td> 0</td><td> 0</td></tr>\n",
       "\t<tr><th scope=row>ENSMMUG00000036181.3</th><td>0</td><td> 0</td><td> 0</td></tr>\n",
       "\t<tr><th scope=row>ENSMMUG00000000634.4</th><td>8</td><td>40</td><td>10</td></tr>\n",
       "</tbody>\n",
       "</table>\n"
      ],
      "text/latex": [
       "A matrix: 3 × 3 of type int\n",
       "\\begin{tabular}{r|lll}\n",
       "  & RA0449.D003\\_S105\\_L002 & RA0452\\_PBMC\\_D005\\_S10 & RA0717\\_PBMC\\_D004\\_S9\\\\\n",
       "\\hline\n",
       "\tENSMMUG00000023296.4 & 2 &  0 &  0\\\\\n",
       "\tENSMMUG00000036181.3 & 0 &  0 &  0\\\\\n",
       "\tENSMMUG00000000634.4 & 8 & 40 & 10\\\\\n",
       "\\end{tabular}\n"
      ],
      "text/markdown": [
       "\n",
       "A matrix: 3 × 3 of type int\n",
       "\n",
       "| <!--/--> | RA0449.D003_S105_L002 | RA0452_PBMC_D005_S10 | RA0717_PBMC_D004_S9 |\n",
       "|---|---|---|---|\n",
       "| ENSMMUG00000023296.4 | 2 |  0 |  0 |\n",
       "| ENSMMUG00000036181.3 | 0 |  0 |  0 |\n",
       "| ENSMMUG00000000634.4 | 8 | 40 | 10 |\n",
       "\n"
      ],
      "text/plain": [
       "                     RA0449.D003_S105_L002 RA0452_PBMC_D005_S10\n",
       "ENSMMUG00000023296.4 2                      0                  \n",
       "ENSMMUG00000036181.3 0                      0                  \n",
       "ENSMMUG00000000634.4 8                     40                  \n",
       "                     RA0717_PBMC_D004_S9\n",
       "ENSMMUG00000023296.4  0                 \n",
       "ENSMMUG00000036181.3  0                 \n",
       "ENSMMUG00000000634.4 10                 "
      ]
     },
     "metadata": {},
     "output_type": "display_data"
    }
   ],
   "source": [
    "cm[1:3,1:3]"
   ]
  },
  {
   "cell_type": "code",
   "execution_count": 26,
   "metadata": {},
   "outputs": [
    {
     "data": {
      "text/plain": [
       "DataFrame with 3 rows and 6 columns\n",
       "                           file_identifiers A.identifier      biosample\n",
       "                                <character>  <character>    <character>\n",
       "RA0449.D003_S105_L002 RA0449.D003_S105_L002        A0456 RA0449_PBMC-D3\n",
       "RA0452_PBMC_D005_S10   RA0452_PBMC_D005_S10        A0458 RA0452_PBMC-D5\n",
       "RA0717_PBMC_D004_S9     RA0717_PBMC_D004_S9        A0457 RA0717_PBMC-D4\n",
       "                      batch.extraction irf.study.id id.cohort\n",
       "                           <character>  <character>  <factor>\n",
       "RA0449.D003_S105_L002                F        49-E2      D003\n",
       "RA0452_PBMC_D005_S10                 F        49-E2      D005\n",
       "RA0717_PBMC_D004_S9                  F        49-E2      D004"
      ]
     },
     "metadata": {},
     "output_type": "display_data"
    }
   ],
   "source": [
    "pheno[1:3,1:6]"
   ]
  },
  {
   "cell_type": "code",
   "execution_count": 27,
   "metadata": {},
   "outputs": [],
   "source": [
    "# convert bulk data to eset\n",
    "eset_bulk <- ExpressionSet(cm,phenoData = AnnotatedDataFrame(as.data.frame(pheno)))"
   ]
  },
  {
   "cell_type": "code",
   "execution_count": 28,
   "metadata": {},
   "outputs": [],
   "source": [
    "## Check feature commonality"
   ]
  },
  {
   "cell_type": "code",
   "execution_count": 29,
   "metadata": {},
   "outputs": [],
   "source": [
    "ens_ids <- rownames(eset_bulk)"
   ]
  },
  {
   "cell_type": "code",
   "execution_count": 30,
   "metadata": {},
   "outputs": [
    {
     "data": {
      "text/html": [
       "<style>\n",
       ".list-inline {list-style: none; margin:0; padding: 0}\n",
       ".list-inline>li {display: inline-block}\n",
       ".list-inline>li:not(:last-child)::after {content: \"\\00b7\"; padding: 0 .5ex}\n",
       "</style>\n",
       "<ol class=list-inline><li>'ENSMMUG00000023296.4'</li><li>'ENSMMUG00000036181.3'</li><li>'ENSMMUG00000000634.4'</li><li>'ENSMMUG00000037875.2'</li><li>'ENSMMUG00000000632.4'</li><li>'ENSMMUG00000064799.1'</li></ol>\n"
      ],
      "text/latex": [
       "\\begin{enumerate*}\n",
       "\\item 'ENSMMUG00000023296.4'\n",
       "\\item 'ENSMMUG00000036181.3'\n",
       "\\item 'ENSMMUG00000000634.4'\n",
       "\\item 'ENSMMUG00000037875.2'\n",
       "\\item 'ENSMMUG00000000632.4'\n",
       "\\item 'ENSMMUG00000064799.1'\n",
       "\\end{enumerate*}\n"
      ],
      "text/markdown": [
       "1. 'ENSMMUG00000023296.4'\n",
       "2. 'ENSMMUG00000036181.3'\n",
       "3. 'ENSMMUG00000000634.4'\n",
       "4. 'ENSMMUG00000037875.2'\n",
       "5. 'ENSMMUG00000000632.4'\n",
       "6. 'ENSMMUG00000064799.1'\n",
       "\n",
       "\n"
      ],
      "text/plain": [
       "[1] \"ENSMMUG00000023296.4\" \"ENSMMUG00000036181.3\" \"ENSMMUG00000000634.4\"\n",
       "[4] \"ENSMMUG00000037875.2\" \"ENSMMUG00000000632.4\" \"ENSMMUG00000064799.1\""
      ]
     },
     "metadata": {},
     "output_type": "display_data"
    }
   ],
   "source": [
    "head(ens_ids)"
   ]
  },
  {
   "cell_type": "code",
   "execution_count": 31,
   "metadata": {},
   "outputs": [
    {
     "data": {
      "text/html": [
       "<style>\n",
       ".list-inline {list-style: none; margin:0; padding: 0}\n",
       ".list-inline>li {display: inline-block}\n",
       ".list-inline>li:not(:last-child)::after {content: \"\\00b7\"; padding: 0 .5ex}\n",
       "</style>\n",
       "<ol class=list-inline><li>'ENSMMUG00000023296.4'</li><li>'ENSMMUG00000036181.3'</li><li>'ENSMMUG00000000634.4'</li><li>'ENSMMUG00000037875.2'</li><li>'ENSMMUG00000000632.4'</li><li>'ENSMMUG00000064799.1'</li></ol>\n"
      ],
      "text/latex": [
       "\\begin{enumerate*}\n",
       "\\item 'ENSMMUG00000023296.4'\n",
       "\\item 'ENSMMUG00000036181.3'\n",
       "\\item 'ENSMMUG00000000634.4'\n",
       "\\item 'ENSMMUG00000037875.2'\n",
       "\\item 'ENSMMUG00000000632.4'\n",
       "\\item 'ENSMMUG00000064799.1'\n",
       "\\end{enumerate*}\n"
      ],
      "text/markdown": [
       "1. 'ENSMMUG00000023296.4'\n",
       "2. 'ENSMMUG00000036181.3'\n",
       "3. 'ENSMMUG00000000634.4'\n",
       "4. 'ENSMMUG00000037875.2'\n",
       "5. 'ENSMMUG00000000632.4'\n",
       "6. 'ENSMMUG00000064799.1'\n",
       "\n",
       "\n"
      ],
      "text/plain": [
       "[1] \"ENSMMUG00000023296.4\" \"ENSMMUG00000036181.3\" \"ENSMMUG00000000634.4\"\n",
       "[4] \"ENSMMUG00000037875.2\" \"ENSMMUG00000000632.4\" \"ENSMMUG00000064799.1\""
      ]
     },
     "metadata": {},
     "output_type": "display_data"
    }
   ],
   "source": [
    "head(rownames(eset_bulk))"
   ]
  },
  {
   "cell_type": "code",
   "execution_count": 32,
   "metadata": {},
   "outputs": [
    {
     "data": {
      "text/html": [
       "<style>\n",
       ".list-inline {list-style: none; margin:0; padding: 0}\n",
       ".list-inline>li {display: inline-block}\n",
       ".list-inline>li:not(:last-child)::after {content: \"\\00b7\"; padding: 0 .5ex}\n",
       "</style>\n",
       "<ol class=list-inline><li>'ADSS'</li><li>'PTGER2'</li><li>'EGLN3'</li><li>'CMC1'</li><li>'TOPBP1'</li><li>'BGLAP'</li></ol>\n"
      ],
      "text/latex": [
       "\\begin{enumerate*}\n",
       "\\item 'ADSS'\n",
       "\\item 'PTGER2'\n",
       "\\item 'EGLN3'\n",
       "\\item 'CMC1'\n",
       "\\item 'TOPBP1'\n",
       "\\item 'BGLAP'\n",
       "\\end{enumerate*}\n"
      ],
      "text/markdown": [
       "1. 'ADSS'\n",
       "2. 'PTGER2'\n",
       "3. 'EGLN3'\n",
       "4. 'CMC1'\n",
       "5. 'TOPBP1'\n",
       "6. 'BGLAP'\n",
       "\n",
       "\n"
      ],
      "text/plain": [
       "[1] \"ADSS\"   \"PTGER2\" \"EGLN3\"  \"CMC1\"   \"TOPBP1\" \"BGLAP\" "
      ]
     },
     "metadata": {},
     "output_type": "display_data"
    }
   ],
   "source": [
    "head(rownames(sc_reference))"
   ]
  },
  {
   "cell_type": "markdown",
   "metadata": {},
   "source": [
    "### Run deconvolution"
   ]
  },
  {
   "cell_type": "code",
   "execution_count": null,
   "metadata": {},
   "outputs": [
    {
     "name": "stderr",
     "output_type": "stream",
     "text": [
      "Creating Relative Abudance Matrix...\n",
      "\n"
     ]
    }
   ],
   "source": [
    "start_time <- proc.time()\n",
    "est_prop = music_prop(bulk.eset = eset_bulk,\n",
    "                      sc.eset = sc_reference_2, \n",
    "                      clusters = 'Cell_Type',\n",
    "                      samples = 'Cell_Barcode', \n",
    "                      verbose = T)\n",
    "end_time <- proc.time()"
   ]
  },
  {
   "cell_type": "code",
   "execution_count": 36,
   "metadata": {},
   "outputs": [
    {
     "data": {
      "text/plain": [
       "    user   system  elapsed \n",
       "9880.200   77.757 9936.560 "
      ]
     },
     "metadata": {},
     "output_type": "display_data"
    }
   ],
   "source": [
    "end_time - start_time"
   ]
  },
  {
   "cell_type": "code",
   "execution_count": 38,
   "metadata": {},
   "outputs": [
    {
     "data": {
      "text/html": [
       "'savepoint_2021-07-06_13:11:09_17096.RDataFS'"
      ],
      "text/latex": [
       "'savepoint\\_2021-07-06\\_13:11:09\\_17096.RDataFS'"
      ],
      "text/markdown": [
       "'savepoint_2021-07-06_13:11:09_17096.RDataFS'"
      ],
      "text/plain": [
       "[1] \"savepoint_2021-07-06_13:11:09_17096.RDataFS\""
      ]
     },
     "metadata": {},
     "output_type": "display_data"
    }
   ],
   "source": [
    "fastSave::preserve.state()"
   ]
  },
  {
   "cell_type": "code",
   "execution_count": 44,
   "metadata": {},
   "outputs": [],
   "source": [
    "plot_ebov_deconvolution <- function(music_results, se.obj, return_data = FALSE) {\n",
    "    # prepare results into long format\n",
    "    res1 <- as.data.frame(music_results$Est.prop.weighted)\n",
    "    res1$file_identifiers <- rownames(res1)\n",
    "    rownames(res1) <- NULL\n",
    "    res1 %>% pivot_longer(cols=!file_identifiers,names_to=\"celltype\") -> res1_long\n",
    "    \n",
    "    # prepare metadata\n",
    "    meta <- colData(se.obj)\n",
    "    meta <- meta[,c('file_identifiers','id.individual','dpi_time_factor')]\n",
    "    res1_merged <- merge(meta, res1_long)\n",
    "    res1_merged <- as.data.frame(res1_merged)\n",
    "    \n",
    "    if (return_data) {\n",
    "        res1_merged\n",
    "    } else {\n",
    "        # generate plot\n",
    "        p <- ggplot(res1_merged, aes(x=dpi_time_factor,y=value)) + geom_point() + facet_wrap(~celltype)\n",
    "        p\n",
    "    }\n",
    "\n",
    "}"
   ]
  },
  {
   "cell_type": "code",
   "execution_count": 45,
   "metadata": {},
   "outputs": [
    {
     "data": {
      "image/png": "[encoded data removed]",
      "text/plain": [
       "plot without title"
      ]
     },
     "metadata": {
      "image/png": {
       "height": 420,
       "width": 420
      }
     },
     "output_type": "display_data"
    }
   ],
   "source": [
    "plot_ebov_deconvolution(est_prop, bulk.se.qc)"
   ]
  },
  {
   "cell_type": "code",
   "execution_count": 46,
   "metadata": {},
   "outputs": [
    {
     "data": {
      "image/png": "[encoded data removed]",
      "text/plain": [
       "plot without title"
      ]
     },
     "metadata": {
      "image/png": {
       "height": 420,
       "width": 420
      }
     },
     "output_type": "display_data"
    }
   ],
   "source": [
    "plot_ebov_deconvolution(est_prop, bulk.se.qc, return_data=TRUE) %>% \n",
    "    mutate(time = as.numeric(as.character(dpi_time_factor))) %>%\n",
    "    subset(celltype==\"Neutrophil\") %>%\n",
    "    ggplot(aes(x=time,y=value)) + geom_point() + facet_wrap(~id.individual) "
   ]
  },
  {
   "cell_type": "code",
   "execution_count": null,
   "metadata": {},
   "outputs": [],
   "source": []
  }
 ],
 "metadata": {
  "kernelspec": {
   "display_name": "R",
   "language": "R",
   "name": "ir"
  },
  "language_info": {
   "codemirror_mode": "r",
   "file_extension": ".r",
   "mimetype": "text/x-r-source",
   "name": "R",
   "pygments_lexer": "r",
   "version": "4.0.3"
  }
 },
 "nbformat": 4,
 "nbformat_minor": 4
}
