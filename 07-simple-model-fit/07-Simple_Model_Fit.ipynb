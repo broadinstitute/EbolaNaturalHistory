{
 "cells": [
  {
   "cell_type": "markdown",
   "metadata": {},
   "source": [
    "# Simple Model Fit"
   ]
  },
  {
   "cell_type": "code",
   "execution_count": 1,
   "metadata": {},
   "outputs": [],
   "source": [
    "suppressPackageStartupMessages(library(SummarizedExperiment))\n",
    "suppressPackageStartupMessages(library(tidyverse))\n",
    "suppressPackageStartupMessages(library(ggplot2))\n",
    "suppressPackageStartupMessages(library(DESeq2))"
   ]
  },
  {
   "cell_type": "code",
   "execution_count": 2,
   "metadata": {},
   "outputs": [],
   "source": [
    "source('../prj_helpers.R')"
   ]
  },
  {
   "cell_type": "code",
   "execution_count": 3,
   "metadata": {},
   "outputs": [],
   "source": [
    "# load pre-qc'ed data\n",
    "se.qc <- readRDS('../03-sample_qc/se.qc.rds')"
   ]
  },
  {
   "cell_type": "code",
   "execution_count": 4,
   "metadata": {},
   "outputs": [
    {
     "data": {
      "text/plain": [
       "DataFrame with 308 rows and 68 columns\n",
       "                                            file_identifiers A.identifier\n",
       "                                                 <character>  <character>\n",
       "A0001_S121_L002                              A0001_S121_L002        A0001\n",
       "A0002_S124_L002                              A0002_S124_L002        A0002\n",
       "A0003                                                  A0003        A0003\n",
       "A0006_S89_L002                                A0006_S89_L002        A0006\n",
       "A0007_S17_L001                                A0007_S17_L001        A0007\n",
       "...                                                      ...          ...\n",
       "Zyagen_D000_Ovary.160421_long_S15     Zyagen_D000_Ovary.16..           NA\n",
       "Zyagen_D000_Skin.190507_long_S2       Zyagen_D000_Skin.190..           NA\n",
       "Zyagen_D000_SpinalCord.190507_long_S8 Zyagen_D000_SpinalCo..           NA\n",
       "Zyagen_D000_Spleen.190507_long_S1     Zyagen_D000_Spleen.1..           NA\n",
       "Zyagen_D000_Testis.160421_long_S16    Zyagen_D000_Testis.1..           NA\n",
       "                                            biosample batch.extraction\n",
       "                                          <character>      <character>\n",
       "A0001_S121_L002                         RA1803_Spleen                M\n",
       "A0002_S124_L002                         RA1803_Kidney         C, ABCDE\n",
       "A0003                                  RA1803_Liver-L         A, ABCDE\n",
       "A0006_S89_L002                        RA1803_Brain-Gr         C, ABCDE\n",
       "A0007_S17_L001                           RA1803_Ovary         C, ABCDE\n",
       "...                                               ...              ...\n",
       "Zyagen_D000_Ovary.160421_long_S15                  NA               NA\n",
       "Zyagen_D000_Skin.190507_long_S2                    NA               NA\n",
       "Zyagen_D000_SpinalCord.190507_long_S8              NA               NA\n",
       "Zyagen_D000_Spleen.190507_long_S1                  NA               NA\n",
       "Zyagen_D000_Testis.160421_long_S16                 NA               NA\n",
       "                                      irf.study.id id.cohort id.individual\n",
       "                                       <character>  <factor>      <factor>\n",
       "A0001_S121_L002                              49-E2      D006        RA1803\n",
       "A0002_S124_L002                              49-E2      D006        RA1803\n",
       "A0003                                        49-E2      D006        RA1803\n",
       "A0006_S89_L002                               49-E2      D006        RA1803\n",
       "A0007_S17_L001                               49-E2      D006        RA1803\n",
       "...                                            ...       ...           ...\n",
       "Zyagen_D000_Ovary.160421_long_S15               NA        NA            NA\n",
       "Zyagen_D000_Skin.190507_long_S2                 NA        NA            NA\n",
       "Zyagen_D000_SpinalCord.190507_long_S8           NA        NA            NA\n",
       "Zyagen_D000_Spleen.190507_long_S1               NA        NA            NA\n",
       "Zyagen_D000_Testis.160421_long_S16              NA        NA            NA\n",
       "                                          tissue data.received\n",
       "                                        <factor>     <POSIXct>\n",
       "A0001_S121_L002                        Spleen       2019-01-10\n",
       "A0002_S124_L002                        Kidney       2019-01-10\n",
       "A0003                                  Liver        2019-01-10\n",
       "A0006_S89_L002                         Brain        2019-01-10\n",
       "A0007_S17_L001                         Sex Organ    2019-01-10\n",
       "...                                          ...           ...\n",
       "Zyagen_D000_Ovary.160421_long_S15     Ovary                 NA\n",
       "Zyagen_D000_Skin.190507_long_S2       Skin                  NA\n",
       "Zyagen_D000_SpinalCord.190507_long_S8 SpinalCord            NA\n",
       "Zyagen_D000_Spleen.190507_long_S1     Spleen                NA\n",
       "Zyagen_D000_Testis.160421_long_S16    Testis                NA\n",
       "                                                     dn.rna\n",
       "                                                <character>\n",
       "A0001_S121_L002                         RA1803_Spleen_dnRNA\n",
       "A0002_S124_L002                         RA1803_Kidney_dnRNA\n",
       "A0003                                  RA1803_Liver-L_dnRNA\n",
       "A0006_S89_L002                        RA1803_Brain-Gr_dnRNA\n",
       "A0007_S17_L001                           RA1803_Ovary_dnRNA\n",
       "...                                                     ...\n",
       "Zyagen_D000_Ovary.160421_long_S15                        NA\n",
       "Zyagen_D000_Skin.190507_long_S2                          NA\n",
       "Zyagen_D000_SpinalCord.190507_long_S8                    NA\n",
       "Zyagen_D000_Spleen.190507_long_S1                        NA\n",
       "Zyagen_D000_Testis.160421_long_S16                       NA\n",
       "                                          date.broad.extract quant.18s\n",
       "                                                 <character> <numeric>\n",
       "A0001_S121_L002                                   2020-02-07  1.89e+07\n",
       "A0002_S124_L002                       2019-03-27, 2020-03-14  1.33e+09\n",
       "A0003                                 2019-01-16, 2020-03-14  2.88e+10\n",
       "A0006_S89_L002                        2019-03-27, 2020-03-14  2.63e+09\n",
       "A0007_S17_L001                        2019-03-27, 2020-03-14  1.59e+09\n",
       "...                                                      ...       ...\n",
       "Zyagen_D000_Ovary.160421_long_S15                         NA        NA\n",
       "Zyagen_D000_Skin.190507_long_S2                           NA        NA\n",
       "Zyagen_D000_SpinalCord.190507_long_S8                     NA        NA\n",
       "Zyagen_D000_Spleen.190507_long_S1                         NA        NA\n",
       "Zyagen_D000_Testis.160421_long_S16                        NA        NA\n",
       "                                      quant.18s.sd quant.kulesh quant.kulesh.sd\n",
       "                                         <numeric>    <numeric>       <numeric>\n",
       "A0001_S121_L002                           7.85e+06        83700         6840.00\n",
       "A0002_S124_L002                           1.24e+08          161            8.54\n",
       "A0003                                     7.95e+09         4740          166.00\n",
       "A0006_S89_L002                            6.56e+08           46           54.50\n",
       "A0007_S17_L001                            8.34e+08          134            5.63\n",
       "...                                            ...          ...             ...\n",
       "Zyagen_D000_Ovary.160421_long_S15               NA           NA              NA\n",
       "Zyagen_D000_Skin.190507_long_S2                 NA           NA              NA\n",
       "Zyagen_D000_SpinalCord.190507_long_S8           NA           NA              NA\n",
       "Zyagen_D000_Spleen.190507_long_S1               NA           NA              NA\n",
       "Zyagen_D000_Testis.160421_long_S16              NA           NA              NA\n",
       "                                          rin.e rna.conc.ng.uL lib.conc.pmolar\n",
       "                                      <numeric>      <numeric>       <numeric>\n",
       "A0001_S121_L002                              NA             NA              NA\n",
       "A0002_S124_L002                             1.9           40.5              NA\n",
       "A0003                                       5.1          351.0            6460\n",
       "A0006_S89_L002                              5.1           92.1              NA\n",
       "A0007_S17_L001                              4.2           41.0            3860\n",
       "...                                         ...            ...             ...\n",
       "Zyagen_D000_Ovary.160421_long_S15            NA             NA              NA\n",
       "Zyagen_D000_Skin.190507_long_S2              NA             NA              NA\n",
       "Zyagen_D000_SpinalCord.190507_long_S8        NA             NA              NA\n",
       "Zyagen_D000_Spleen.190507_long_S1            NA             NA              NA\n",
       "Zyagen_D000_Testis.160421_long_S16           NA             NA              NA\n",
       "                                      xgen.index  Assigned Unassigned_Unmapped\n",
       "                                       <integer> <numeric>           <numeric>\n",
       "A0001_S121_L002                               NA   8866580                   0\n",
       "A0002_S124_L002                               NA   3975403                   0\n",
       "A0003                                          2   5763380                   0\n",
       "A0006_S89_L002                                NA   5957275                   0\n",
       "A0007_S17_L001                                66   7402552                   0\n",
       "...                                          ...       ...                 ...\n",
       "Zyagen_D000_Ovary.160421_long_S15             NA  10507794                   0\n",
       "Zyagen_D000_Skin.190507_long_S2               NA   6519734                   0\n",
       "Zyagen_D000_SpinalCord.190507_long_S8         NA   6631919                   0\n",
       "Zyagen_D000_Spleen.190507_long_S1             NA   7871254                   0\n",
       "Zyagen_D000_Testis.160421_long_S16            NA   7062088                   0\n",
       "                                      Unassigned_Read_Type Unassigned_Singleton\n",
       "                                                 <numeric>            <numeric>\n",
       "A0001_S121_L002                                          0                    0\n",
       "A0002_S124_L002                                          0                    0\n",
       "A0003                                                    0                    0\n",
       "A0006_S89_L002                                           0                    0\n",
       "A0007_S17_L001                                           0                    0\n",
       "...                                                    ...                  ...\n",
       "Zyagen_D000_Ovary.160421_long_S15                        0                    0\n",
       "Zyagen_D000_Skin.190507_long_S2                          0                    0\n",
       "Zyagen_D000_SpinalCord.190507_long_S8                    0                    0\n",
       "Zyagen_D000_Spleen.190507_long_S1                        0                    0\n",
       "Zyagen_D000_Testis.160421_long_S16                       0                    0\n",
       "                                      Unassigned_MappingQuality\n",
       "                                                      <numeric>\n",
       "A0001_S121_L002                                               0\n",
       "A0002_S124_L002                                               0\n",
       "A0003                                                         0\n",
       "A0006_S89_L002                                                0\n",
       "A0007_S17_L001                                                0\n",
       "...                                                         ...\n",
       "Zyagen_D000_Ovary.160421_long_S15                             0\n",
       "Zyagen_D000_Skin.190507_long_S2                               0\n",
       "Zyagen_D000_SpinalCord.190507_long_S8                         0\n",
       "Zyagen_D000_Spleen.190507_long_S1                             0\n",
       "Zyagen_D000_Testis.160421_long_S16                            0\n",
       "                                      Unassigned_Chimera\n",
       "                                               <numeric>\n",
       "A0001_S121_L002                                        0\n",
       "A0002_S124_L002                                        0\n",
       "A0003                                                  0\n",
       "A0006_S89_L002                                         0\n",
       "A0007_S17_L001                                         0\n",
       "...                                                  ...\n",
       "Zyagen_D000_Ovary.160421_long_S15                      0\n",
       "Zyagen_D000_Skin.190507_long_S2                        0\n",
       "Zyagen_D000_SpinalCord.190507_long_S8                  0\n",
       "Zyagen_D000_Spleen.190507_long_S1                      0\n",
       "Zyagen_D000_Testis.160421_long_S16                     0\n",
       "                                      Unassigned_FragmentLength\n",
       "                                                      <numeric>\n",
       "A0001_S121_L002                                               0\n",
       "A0002_S124_L002                                               0\n",
       "A0003                                                         0\n",
       "A0006_S89_L002                                                0\n",
       "A0007_S17_L001                                                0\n",
       "...                                                         ...\n",
       "Zyagen_D000_Ovary.160421_long_S15                             0\n",
       "Zyagen_D000_Skin.190507_long_S2                               0\n",
       "Zyagen_D000_SpinalCord.190507_long_S8                         0\n",
       "Zyagen_D000_Spleen.190507_long_S1                             0\n",
       "Zyagen_D000_Testis.160421_long_S16                            0\n",
       "                                      Unassigned_Duplicate\n",
       "                                                 <numeric>\n",
       "A0001_S121_L002                                          0\n",
       "A0002_S124_L002                                          0\n",
       "A0003                                                    0\n",
       "A0006_S89_L002                                           0\n",
       "A0007_S17_L001                                           0\n",
       "...                                                    ...\n",
       "Zyagen_D000_Ovary.160421_long_S15                        0\n",
       "Zyagen_D000_Skin.190507_long_S2                          0\n",
       "Zyagen_D000_SpinalCord.190507_long_S8                    0\n",
       "Zyagen_D000_Spleen.190507_long_S1                        0\n",
       "Zyagen_D000_Testis.160421_long_S16                       0\n",
       "                                      Unassigned_MultiMapping\n",
       "                                                    <numeric>\n",
       "A0001_S121_L002                                        972591\n",
       "A0002_S124_L002                                       2605606\n",
       "A0003                                                 1259969\n",
       "A0006_S89_L002                                         479534\n",
       "A0007_S17_L001                                        2239878\n",
       "...                                                       ...\n",
       "Zyagen_D000_Ovary.160421_long_S15                      595310\n",
       "Zyagen_D000_Skin.190507_long_S2                        399524\n",
       "Zyagen_D000_SpinalCord.190507_long_S8                  566523\n",
       "Zyagen_D000_Spleen.190507_long_S1                      747460\n",
       "Zyagen_D000_Testis.160421_long_S16                     374571\n",
       "                                      Unassigned_Secondary Unassigned_NonSplit\n",
       "                                                 <numeric>           <numeric>\n",
       "A0001_S121_L002                                          0                   0\n",
       "A0002_S124_L002                                          0                   0\n",
       "A0003                                                    0                   0\n",
       "A0006_S89_L002                                           0                   0\n",
       "A0007_S17_L001                                           0                   0\n",
       "...                                                    ...                 ...\n",
       "Zyagen_D000_Ovary.160421_long_S15                        0                   0\n",
       "Zyagen_D000_Skin.190507_long_S2                          0                   0\n",
       "Zyagen_D000_SpinalCord.190507_long_S8                    0                   0\n",
       "Zyagen_D000_Spleen.190507_long_S1                        0                   0\n",
       "Zyagen_D000_Testis.160421_long_S16                       0                   0\n",
       "                                      Unassigned_NoFeatures\n",
       "                                                  <numeric>\n",
       "A0001_S121_L002                                    10836059\n",
       "A0002_S124_L002                                     2518330\n",
       "A0003                                               2705503\n",
       "A0006_S89_L002                                     10107801\n",
       "A0007_S17_L001                                     10650488\n",
       "...                                                     ...\n",
       "Zyagen_D000_Ovary.160421_long_S15                  18850109\n",
       "Zyagen_D000_Skin.190507_long_S2                    11147369\n",
       "Zyagen_D000_SpinalCord.190507_long_S8               9680153\n",
       "Zyagen_D000_Spleen.190507_long_S1                  18599170\n",
       "Zyagen_D000_Testis.160421_long_S16                 12480905\n",
       "                                      Unassigned_Overlapping_Length\n",
       "                                                          <numeric>\n",
       "A0001_S121_L002                                                   0\n",
       "A0002_S124_L002                                                   0\n",
       "A0003                                                             0\n",
       "A0006_S89_L002                                                    0\n",
       "A0007_S17_L001                                                    0\n",
       "...                                                             ...\n",
       "Zyagen_D000_Ovary.160421_long_S15                                 0\n",
       "Zyagen_D000_Skin.190507_long_S2                                   0\n",
       "Zyagen_D000_SpinalCord.190507_long_S8                             0\n",
       "Zyagen_D000_Spleen.190507_long_S1                                 0\n",
       "Zyagen_D000_Testis.160421_long_S16                                0\n",
       "                                      Unassigned_Ambiguity  sub.tissue\n",
       "                                                 <numeric> <character>\n",
       "A0001_S121_L002                                     331311            \n",
       "A0002_S124_L002                                     359359            \n",
       "A0003                                              2541416            \n",
       "A0006_S89_L002                                      193025    Brain-Gr\n",
       "A0007_S17_L001                                     1366041       Ovary\n",
       "...                                                    ...         ...\n",
       "Zyagen_D000_Ovary.160421_long_S15                   256051            \n",
       "Zyagen_D000_Skin.190507_long_S2                     144886            \n",
       "Zyagen_D000_SpinalCord.190507_long_S8               173653            \n",
       "Zyagen_D000_Spleen.190507_long_S1                   211833            \n",
       "Zyagen_D000_Testis.160421_long_S16                  172211            \n",
       "                                              SampleType     study.group\n",
       "                                                <factor>     <character>\n",
       "A0001_S121_L002                             Experimental 6_dpe_scheduled\n",
       "A0002_S124_L002                             Experimental 6_dpe_scheduled\n",
       "A0003                                       Experimental 6_dpe_scheduled\n",
       "A0006_S89_L002                              Experimental 6_dpe_scheduled\n",
       "A0007_S17_L001                              Experimental 6_dpe_scheduled\n",
       "...                                                  ...             ...\n",
       "Zyagen_D000_Ovary.160421_long_S15     Commercial-Control              NA\n",
       "Zyagen_D000_Skin.190507_long_S2       Commercial-Control              NA\n",
       "Zyagen_D000_SpinalCord.190507_long_S8 Commercial-Control              NA\n",
       "Zyagen_D000_Spleen.190507_long_S1     Commercial-Control              NA\n",
       "Zyagen_D000_Testis.160421_long_S16    Commercial-Control              NA\n",
       "                                      challenge.group animal.number\n",
       "                                            <integer>   <character>\n",
       "A0001_S121_L002                                     4         NHP24\n",
       "A0002_S124_L002                                     4         NHP24\n",
       "A0003                                               4         NHP24\n",
       "A0006_S89_L002                                      4         NHP24\n",
       "A0007_S17_L001                                      4         NHP24\n",
       "...                                               ...           ...\n",
       "Zyagen_D000_Ovary.160421_long_S15                  NA            NA\n",
       "Zyagen_D000_Skin.190507_long_S2                    NA            NA\n",
       "Zyagen_D000_SpinalCord.190507_long_S8              NA            NA\n",
       "Zyagen_D000_Spleen.190507_long_S1                  NA            NA\n",
       "Zyagen_D000_Testis.160421_long_S16                 NA            NA\n",
       "                                      animal.tatoo         sex    weight\n",
       "                                       <character> <character> <numeric>\n",
       "A0001_S121_L002                             RA1803           F      5.32\n",
       "A0002_S124_L002                             RA1803           F      5.32\n",
       "A0003                                       RA1803           F      5.32\n",
       "A0006_S89_L002                              RA1803           F      5.32\n",
       "A0007_S17_L001                              RA1803           F      5.32\n",
       "...                                            ...         ...       ...\n",
       "Zyagen_D000_Ovary.160421_long_S15               NA          NA        NA\n",
       "Zyagen_D000_Skin.190507_long_S2                 NA          NA        NA\n",
       "Zyagen_D000_SpinalCord.190507_long_S8           NA          NA        NA\n",
       "Zyagen_D000_Spleen.190507_long_S1               NA          NA        NA\n",
       "Zyagen_D000_Testis.160421_long_S16              NA          NA        NA\n",
       "                                       birth.date viralReadCount hostReadCount\n",
       "                                      <character>      <numeric>     <numeric>\n",
       "A0001_S121_L002                          3/4/2012          93139       8773441\n",
       "A0002_S124_L002                          3/4/2012           4341       3971062\n",
       "A0003                                    3/4/2012          19278       5744102\n",
       "A0006_S89_L002                           3/4/2012             32       5957243\n",
       "A0007_S17_L001                           3/4/2012           2413       7400139\n",
       "...                                           ...            ...           ...\n",
       "Zyagen_D000_Ovary.160421_long_S15              NA              0      10507794\n",
       "Zyagen_D000_Skin.190507_long_S2                NA              3       6519731\n",
       "Zyagen_D000_SpinalCord.190507_long_S8          NA              1       6631918\n",
       "Zyagen_D000_Spleen.190507_long_S1              NA              0       7871254\n",
       "Zyagen_D000_Testis.160421_long_S16             NA              0       7062088\n",
       "                                      pc.viral.reads cohort.uncertain\n",
       "                                           <numeric>        <logical>\n",
       "A0001_S121_L002                          1.05045e-02            FALSE\n",
       "A0002_S124_L002                          1.09196e-03            FALSE\n",
       "A0003                                    3.34491e-03            FALSE\n",
       "A0006_S89_L002                           5.37158e-06            FALSE\n",
       "A0007_S17_L001                           3.25969e-04            FALSE\n",
       "...                                              ...              ...\n",
       "Zyagen_D000_Ovary.160421_long_S15        0.00000e+00            FALSE\n",
       "Zyagen_D000_Skin.190507_long_S2          4.60141e-07            FALSE\n",
       "Zyagen_D000_SpinalCord.190507_long_S8    1.50786e-07            FALSE\n",
       "Zyagen_D000_Spleen.190507_long_S1        0.00000e+00            FALSE\n",
       "Zyagen_D000_Testis.160421_long_S16       0.00000e+00            FALSE\n",
       "                                      cohort.numeric totalReadCount\n",
       "                                           <numeric>      <numeric>\n",
       "A0001_S121_L002                                    6        8866580\n",
       "A0002_S124_L002                                    6        3975403\n",
       "A0003                                              6        5763380\n",
       "A0006_S89_L002                                     6        5957275\n",
       "A0007_S17_L001                                     6        7402552\n",
       "...                                              ...            ...\n",
       "Zyagen_D000_Ovary.160421_long_S15                 NA       10507794\n",
       "Zyagen_D000_Skin.190507_long_S2                   NA        6519734\n",
       "Zyagen_D000_SpinalCord.190507_long_S8             NA        6631919\n",
       "Zyagen_D000_Spleen.190507_long_S1                 NA        7871254\n",
       "Zyagen_D000_Testis.160421_long_S16                NA        7062088\n",
       "                                      totalUnassigned chrY_count chrX_count\n",
       "                                            <numeric>  <numeric>  <numeric>\n",
       "A0001_S121_L002                              12139961        235     205549\n",
       "A0002_S124_L002                               5483295         52      45030\n",
       "A0003                                         6506888        151      56088\n",
       "A0006_S89_L002                               10780360        149     169296\n",
       "A0007_S17_L001                               14256407        197     158734\n",
       "...                                               ...        ...        ...\n",
       "Zyagen_D000_Ovary.160421_long_S15            19701470         NA         NA\n",
       "Zyagen_D000_Skin.190507_long_S2              11691779         NA         NA\n",
       "Zyagen_D000_SpinalCord.190507_long_S8        10420329         NA         NA\n",
       "Zyagen_D000_Spleen.190507_long_S1            19558463         NA         NA\n",
       "Zyagen_D000_Testis.160421_long_S16           13027687         NA         NA\n",
       "                                      total_count      Xist       sex.1\n",
       "                                        <numeric> <integer> <character>\n",
       "A0001_S121_L002                           8866580      1033           F\n",
       "A0002_S124_L002                           3975403       319           F\n",
       "A0003                                     5763380       360           F\n",
       "A0006_S89_L002                            5957275      1193           F\n",
       "A0007_S17_L001                            7402552      1379           F\n",
       "...                                           ...       ...         ...\n",
       "Zyagen_D000_Ovary.160421_long_S15              NA        NA          NA\n",
       "Zyagen_D000_Skin.190507_long_S2                NA        NA          NA\n",
       "Zyagen_D000_SpinalCord.190507_long_S8          NA        NA          NA\n",
       "Zyagen_D000_Spleen.190507_long_S1              NA        NA          NA\n",
       "Zyagen_D000_Testis.160421_long_S16             NA        NA          NA\n",
       "                                             pc_Y       pc_X   Y_X_ratio\n",
       "                                        <numeric>  <numeric>   <numeric>\n",
       "A0001_S121_L002                       2.65040e-05 0.02318244 0.001143280\n",
       "A0002_S124_L002                       1.30804e-05 0.01132715 0.001154786\n",
       "A0003                                 2.61999e-05 0.00973179 0.002692198\n",
       "A0006_S89_L002                        2.50114e-05 0.02841836 0.000880115\n",
       "A0007_S17_L001                        2.66124e-05 0.02144315 0.001241070\n",
       "...                                           ...        ...         ...\n",
       "Zyagen_D000_Ovary.160421_long_S15              NA         NA          NA\n",
       "Zyagen_D000_Skin.190507_long_S2                NA         NA          NA\n",
       "Zyagen_D000_SpinalCord.190507_long_S8          NA         NA          NA\n",
       "Zyagen_D000_Spleen.190507_long_S1              NA         NA          NA\n",
       "Zyagen_D000_Testis.160421_long_S16             NA         NA          NA\n",
       "                                         sex_pred pred_recorded_sex_mismatch\n",
       "                                      <character>                  <logical>\n",
       "A0001_S121_L002                                 F                      FALSE\n",
       "A0002_S124_L002                                 F                      FALSE\n",
       "A0003                                           F                      FALSE\n",
       "A0006_S89_L002                                  F                      FALSE\n",
       "A0007_S17_L001                                  F                      FALSE\n",
       "...                                           ...                        ...\n",
       "Zyagen_D000_Ovary.160421_long_S15              NA                         NA\n",
       "Zyagen_D000_Skin.190507_long_S2                NA                         NA\n",
       "Zyagen_D000_SpinalCord.190507_long_S8          NA                         NA\n",
       "Zyagen_D000_Spleen.190507_long_S1              NA                         NA\n",
       "Zyagen_D000_Testis.160421_long_S16             NA                         NA\n",
       "                                         dpi_time dpi_time_factor xist_counts\n",
       "                                      <character>        <factor>   <integer>\n",
       "A0001_S121_L002                                 6               6        1033\n",
       "A0002_S124_L002                                 6               6         319\n",
       "A0003                                           6               6         360\n",
       "A0006_S89_L002                                  6               6        1193\n",
       "A0007_S17_L001                                  6               6        1379\n",
       "...                                           ...             ...         ...\n",
       "Zyagen_D000_Ovary.160421_long_S15              NA              NA        2160\n",
       "Zyagen_D000_Skin.190507_long_S2                NA              NA        1179\n",
       "Zyagen_D000_SpinalCord.190507_long_S8          NA              NA         879\n",
       "Zyagen_D000_Spleen.190507_long_S1              NA              NA        1473\n",
       "Zyagen_D000_Testis.160421_long_S16             NA              NA          41\n",
       "                                      predicted_sex pred_rec_sex_mismatch\n",
       "                                        <character>             <logical>\n",
       "A0001_S121_L002                                   F                 FALSE\n",
       "A0002_S124_L002                                   F                 FALSE\n",
       "A0003                                             F                 FALSE\n",
       "A0006_S89_L002                                    F                 FALSE\n",
       "A0007_S17_L001                                    F                 FALSE\n",
       "...                                             ...                   ...\n",
       "Zyagen_D000_Ovary.160421_long_S15                NA                    NA\n",
       "Zyagen_D000_Skin.190507_long_S2                  NA                    NA\n",
       "Zyagen_D000_SpinalCord.190507_long_S8            NA                    NA\n",
       "Zyagen_D000_Spleen.190507_long_S1                NA                    NA\n",
       "Zyagen_D000_Testis.160421_long_S16               NA                    NA\n",
       "                                          full.tissue        sample_id_dedup\n",
       "                                             <factor>            <character>\n",
       "A0001_S121_L002                       Spleen                 NHP24-6-Spleen:\n",
       "A0002_S124_L002                       Kidney                 NHP24-6-Kidney:\n",
       "A0003                                 Liver                   NHP24-6-Liver:\n",
       "A0006_S89_L002                        Brain:Brain-Gr  NHP24-6-Brain:Brain-Gr\n",
       "A0007_S17_L001                        Sex Organ:Ovary NHP24-6-Sex Organ:Ov..\n",
       "...                                               ...                    ...\n",
       "Zyagen_D000_Ovary.160421_long_S15          Ovary                NA-NA-Ovary:\n",
       "Zyagen_D000_Skin.190507_long_S2            Skin                  NA-NA-Skin:\n",
       "Zyagen_D000_SpinalCord.190507_long_S8      SpinalCord      NA-NA-SpinalCord:\n",
       "Zyagen_D000_Spleen.190507_long_S1          Spleen              NA-NA-Spleen:\n",
       "Zyagen_D000_Testis.160421_long_S16         Testis              NA-NA-Testis:\n",
       "                                      duplicate_sequencing  dpi_time_2\n",
       "                                                 <logical> <character>\n",
       "A0001_S121_L002                                      FALSE           6\n",
       "A0002_S124_L002                                      FALSE           6\n",
       "A0003                                                FALSE           6\n",
       "A0006_S89_L002                                       FALSE           6\n",
       "A0007_S17_L001                                       FALSE           6\n",
       "...                                                    ...         ...\n",
       "Zyagen_D000_Ovary.160421_long_S15                    FALSE          NA\n",
       "Zyagen_D000_Skin.190507_long_S2                      FALSE          NA\n",
       "Zyagen_D000_SpinalCord.190507_long_S8                FALSE          NA\n",
       "Zyagen_D000_Spleen.190507_long_S1                    FALSE          NA\n",
       "Zyagen_D000_Testis.160421_long_S16                   FALSE          NA"
      ]
     },
     "metadata": {},
     "output_type": "display_data"
    }
   ],
   "source": [
    "colData(se.qc)"
   ]
  },
  {
   "cell_type": "code",
   "execution_count": 5,
   "metadata": {},
   "outputs": [],
   "source": [
    "se.qc.experimental <- se.qc[,se.qc$SampleType == 'Experimental']"
   ]
  },
  {
   "cell_type": "code",
   "execution_count": 6,
   "metadata": {},
   "outputs": [],
   "source": [
    "se.qc.experimental <- se.qc.experimental[!rowData(se.qc.experimental)$viralGene,]"
   ]
  },
  {
   "cell_type": "code",
   "execution_count": 7,
   "metadata": {},
   "outputs": [],
   "source": [
    "se.qc.experimental <- se.qc.experimental[,!(se.qc.experimental$tissue %in% c('PBMC','Liver','Whole blood','Lung'))]"
   ]
  },
  {
   "cell_type": "code",
   "execution_count": 8,
   "metadata": {},
   "outputs": [],
   "source": [
    "se.qc.experimental$tissue.full <- as.factor(paste0(as.character(se.qc.experimental$tissue), '.', se.qc.experimental$sub.tissue))"
   ]
  },
  {
   "cell_type": "code",
   "execution_count": 9,
   "metadata": {},
   "outputs": [],
   "source": [
    "se.qc.experimental$infected <- factor(ifelse(se.qc.experimental$dpi_time > 0,'infected','noninfected'),levels=c('infected','noninfected'))"
   ]
  },
  {
   "cell_type": "code",
   "execution_count": 10,
   "metadata": {},
   "outputs": [],
   "source": [
    "se.qc.experimental$sex <- as.factor(se.qc.experimental$sex)"
   ]
  },
  {
   "cell_type": "code",
   "execution_count": 11,
   "metadata": {},
   "outputs": [],
   "source": [
    "se.qc.experimental$tissue <- as.factor(as.character(se.qc.experimental$tissue))"
   ]
  },
  {
   "cell_type": "code",
   "execution_count": 12,
   "metadata": {},
   "outputs": [
    {
     "data": {
      "text/html": [
       "<style>\n",
       ".list-inline {list-style: none; margin:0; padding: 0}\n",
       ".list-inline>li {display: inline-block}\n",
       ".list-inline>li:not(:last-child)::after {content: \"\\00b7\"; padding: 0 .5ex}\n",
       "</style>\n",
       "<ol class=list-inline><li>193</li><li>70</li></ol>\n"
      ],
      "text/latex": [
       "\\begin{enumerate*}\n",
       "\\item 193\n",
       "\\item 70\n",
       "\\end{enumerate*}\n"
      ],
      "text/markdown": [
       "1. 193\n",
       "2. 70\n",
       "\n",
       "\n"
      ],
      "text/plain": [
       "[1] 193  70"
      ]
     },
     "metadata": {},
     "output_type": "display_data"
    }
   ],
   "source": [
    "dim(colData(se.qc.experimental))"
   ]
  },
  {
   "cell_type": "code",
   "execution_count": 13,
   "metadata": {},
   "outputs": [
    {
     "data": {
      "text/plain": [
       "                     infected\n",
       "full.tissue           infected noninfected\n",
       "  Adrenal Gland              7           3\n",
       "  Brain:Brain-Gr            18           3\n",
       "  Brain:Brain-Wh             8           1\n",
       "  Kidney                    17           3\n",
       "  Liver                      0           0\n",
       "  Lung                       0           0\n",
       "  Lymph node:LN-AX-R        18           3\n",
       "  Lymph node:LN-ING-L       18           3\n",
       "  Lymph node:LN-MES         18           3\n",
       "  Lymph node:NA              0           0\n",
       "  Ovary                      0           0\n",
       "  PBMC                       0           0\n",
       "  Sex Organ:Ovary            9           1\n",
       "  Sex Organ:Sex-Organ        7           2\n",
       "  Sex Organ:Testis           5           0\n",
       "  Skin                       0           0\n",
       "  Skin:Non-Rash             12           3\n",
       "  Skin:Rash                  9           2\n",
       "  SpinalCord                 0           0\n",
       "  Spleen                    17           3\n",
       "  Testis                     0           0\n",
       "  Whole blood                0           0"
      ]
     },
     "metadata": {},
     "output_type": "display_data"
    }
   ],
   "source": [
    "table(colData(se.qc.experimental)[,c('full.tissue','infected')])"
   ]
  },
  {
   "cell_type": "code",
   "execution_count": 14,
   "metadata": {},
   "outputs": [
    {
     "name": "stderr",
     "output_type": "stream",
     "text": [
      "  Note: levels of factors in the design contain characters other than\n",
      "  letters, numbers, '_' and '.'. It is recommended (but not required) to use\n",
      "  only letters, numbers, and delimiters '_' or '.', as these are safe characters\n",
      "  for column names in R. [This is a message, not a warning or an error]\n",
      "\n"
     ]
    }
   ],
   "source": [
    "dds.qc.experimental <- DESeqDataSet(se.qc.experimental, design=~ tissue + infected + tissue:infected)"
   ]
  },
  {
   "cell_type": "code",
   "execution_count": 15,
   "metadata": {},
   "outputs": [
    {
     "name": "stderr",
     "output_type": "stream",
     "text": [
      "  Note: levels of factors in the design contain characters other than\n",
      "  letters, numbers, '_' and '.'. It is recommended (but not required) to use\n",
      "  only letters, numbers, and delimiters '_' or '.', as these are safe characters\n",
      "  for column names in R. [This is a message, not a warning or an error]\n",
      "\n"
     ]
    },
    {
     "data": {
      "text/plain": [
       "filter\n",
       "FALSE  TRUE \n",
       "11435 23960 "
      ]
     },
     "metadata": {},
     "output_type": "display_data"
    }
   ],
   "source": [
    "# Remove genes that are not well-expressed to resolve convergence issues \n",
    "dds.qc.experimental <- estimateSizeFactors(dds.qc.experimental)\n",
    "nc <- counts(dds.qc.experimental, normalized = TRUE)\n",
    "filter <- rowSums(nc >= 10) >= 2\n",
    "table(filter)\n",
    "dds.qc.experimental <- dds.qc.experimental[filter,]\n"
   ]
  },
  {
   "cell_type": "code",
   "execution_count": 16,
   "metadata": {},
   "outputs": [
    {
     "name": "stderr",
     "output_type": "stream",
     "text": [
      "  Note: levels of factors in the design contain characters other than\n",
      "  letters, numbers, '_' and '.'. It is recommended (but not required) to use\n",
      "  only letters, numbers, and delimiters '_' or '.', as these are safe characters\n",
      "  for column names in R. [This is a message, not a warning or an error]\n",
      "\n",
      "gene-wise dispersion estimates\n",
      "\n",
      "mean-dispersion relationship\n",
      "\n",
      "  Note: levels of factors in the design contain characters other than\n",
      "  letters, numbers, '_' and '.'. It is recommended (but not required) to use\n",
      "  only letters, numbers, and delimiters '_' or '.', as these are safe characters\n",
      "  for column names in R. [This is a message, not a warning or an error]\n",
      "\n",
      "final dispersion estimates\n",
      "\n",
      "  Note: levels of factors in the design contain characters other than\n",
      "  letters, numbers, '_' and '.'. It is recommended (but not required) to use\n",
      "  only letters, numbers, and delimiters '_' or '.', as these are safe characters\n",
      "  for column names in R. [This is a message, not a warning or an error]\n",
      "\n"
     ]
    }
   ],
   "source": [
    "dds.qc.experimental <- estimateSizeFactors(dds.qc.experimental)\n",
    "dds.qc.experimental <- estimateDispersions(dds.qc.experimental)"
   ]
  },
  {
   "cell_type": "code",
   "execution_count": 17,
   "metadata": {},
   "outputs": [
    {
     "data": {
      "image/png": "[encoded data removed]",
      "text/plain": [
       "plot without title"
      ]
     },
     "metadata": {
      "image/png": {
       "height": 420,
       "width": 420
      }
     },
     "output_type": "display_data"
    }
   ],
   "source": [
    "plotDispEsts(dds.qc.experimental)"
   ]
  },
  {
   "cell_type": "code",
   "execution_count": 18,
   "metadata": {},
   "outputs": [
    {
     "name": "stderr",
     "output_type": "stream",
     "text": [
      "143 rows did not converge in beta, labelled in mcols(object)$betaConv. Use larger maxit argument with nbinomWaldTest\n",
      "\n"
     ]
    }
   ],
   "source": [
    "dds.qc.experimental <- nbinomWaldTest(dds.qc.experimental, maxit = 5000)"
   ]
  },
  {
   "cell_type": "code",
   "execution_count": 19,
   "metadata": {},
   "outputs": [
    {
     "data": {
      "text/plain": [
       "\n",
       "FALSE  TRUE \n",
       "  143 23817 "
      ]
     },
     "metadata": {},
     "output_type": "display_data"
    }
   ],
   "source": [
    "convergedGenes <- which(mcols(dds.qc.experimental)$betaConv)\n",
    "table(mcols(dds.qc.experimental)$betaConv)"
   ]
  },
  {
   "cell_type": "code",
   "execution_count": 20,
   "metadata": {},
   "outputs": [],
   "source": [
    "# Remove the genes that don't converge\n",
    "dds.qc.experimental <- dds.qc.experimental[convergedGenes,]"
   ]
  },
  {
   "cell_type": "code",
   "execution_count": 21,
   "metadata": {},
   "outputs": [],
   "source": [
    "saveRDS(dds.qc.experimental,'dds.qc.experimental_simple_model.rds')"
   ]
  },
  {
   "cell_type": "code",
   "execution_count": 22,
   "metadata": {},
   "outputs": [],
   "source": [
    "saveRDS(se.qc.experimental,'se.qc.experimental.rds')"
   ]
  },
  {
   "cell_type": "code",
   "execution_count": 23,
   "metadata": {},
   "outputs": [
    {
     "data": {
      "text/plain": [
       "               infected\n",
       "tissue          infected noninfected\n",
       "  Adrenal Gland        7           3\n",
       "  Brain               26           4\n",
       "  Kidney              17           3\n",
       "  Lymph node          54           9\n",
       "  Sex Organ           21           3\n",
       "  Skin                21           5\n",
       "  Spleen              17           3"
      ]
     },
     "metadata": {},
     "output_type": "display_data"
    }
   ],
   "source": [
    "table(colData(dds.qc.experimental)[,c('tissue','infected')])"
   ]
  }
 ],
 "metadata": {
  "kernelspec": {
   "display_name": "R",
   "language": "R",
   "name": "ir"
  },
  "language_info": {
   "codemirror_mode": "r",
   "file_extension": ".r",
   "mimetype": "text/x-r-source",
   "name": "R",
   "pygments_lexer": "r",
   "version": "4.1.2"
  }
 },
 "nbformat": 4,
 "nbformat_minor": 4
}
